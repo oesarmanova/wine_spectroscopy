{
 "cells": [
  {
   "cell_type": "markdown",
   "id": "2e123e70",
   "metadata": {},
   "source": [
    "# Import libraries"
   ]
  },
  {
   "cell_type": "code",
   "execution_count": 1,
   "id": "f4104dc4",
   "metadata": {},
   "outputs": [
    {
     "name": "stderr",
     "output_type": "stream",
     "text": [
      "wandb: Currently logged in as: oe_sarmanova (use `wandb login --relogin` to force relogin)\n"
     ]
    }
   ],
   "source": [
    "import numpy as np\n",
    "import pandas as pd\n",
    "\n",
    "from sklearn.model_selection import train_test_split\n",
    "#from sklearn.model_selection import KFold\n",
    "from sklearn.metrics import mean_squared_error\n",
    "from sklearn.metrics import mean_absolute_error\n",
    "from sklearn.metrics import r2_score\n",
    "from sklearn.preprocessing import MinMaxScaler\n",
    "\n",
    "import torch\n",
    "import torch.nn as nn\n",
    "from torch.utils.data import Dataset\n",
    "from torch.utils.data import DataLoader\n",
    "import torch.optim as optim\n",
    "import torch.nn.functional as F\n",
    "\n",
    "import torchvision.transforms as transforms\n",
    "\n",
    "import wandb\n",
    "wandb.login()\n",
    "\n",
    "import re\n",
    "import os\n",
    "import math\n",
    "import random\n",
    "\n",
    "import matplotlib.pyplot as plt"
   ]
  },
  {
   "cell_type": "markdown",
   "id": "6623cb25",
   "metadata": {},
   "source": [
    "# Dataset CNN"
   ]
  },
  {
   "cell_type": "code",
   "execution_count": 2,
   "id": "6837d530",
   "metadata": {},
   "outputs": [],
   "source": [
    "class IR_Dataset_DA(Dataset):\n",
    "    def __init__(self, y_file, data_file, transform = None, target_transform = None):\n",
    "        self.spec_labels = pd.read_csv(y_file, sep=',').iloc[:,1:]\n",
    "        self.spec_number = pd.read_csv(y_file, sep=',').iloc[:,0]\n",
    "        self.spec = pd.read_csv(data_file, sep=',').iloc[:,2:]\n",
    "        self.domen = pd.read_csv(data_file, sep=',').iloc[:,1]\n",
    "        self.transform = transform\n",
    "        self.target_transform = target_transform\n",
    "\n",
    "    def __len__(self):\n",
    "        return len(self.spec_labels)\n",
    "\n",
    "    def __getitem__(self, idx):\n",
    "        label = torch.from_numpy(np.array(self.spec_labels.iloc[idx], dtype='float32'))\n",
    "        number =  self.spec_number.iloc[idx]\n",
    "        domen = self.domen.iloc[idx]\n",
    "        sp = np.array(self.spec.iloc[(self.spec_number.iloc[idx]),:], dtype='float32')\n",
    "        spec = torch.from_numpy(sp)\n",
    "        #spec = torch.from_numpy(sp).unsqueeze(0)\n",
    "        if self.transform:\n",
    "            spec = self.transform(spec)\n",
    "        if self.target_transform:\n",
    "            label = self.target_transform(label)\n",
    "        return number, spec, label, torch.from_numpy(np.array(domen, dtype='float32'))"
   ]
  },
  {
   "cell_type": "markdown",
   "id": "a16b8d2d",
   "metadata": {},
   "source": [
    "# Feature Extractor"
   ]
  },
  {
   "cell_type": "code",
   "execution_count": 3,
   "id": "e46a9403",
   "metadata": {},
   "outputs": [],
   "source": [
    "class FeatureExtractor(nn.Module):\n",
    "\n",
    "    def __init__(self):\n",
    "      \n",
    "        super().__init__() # since Python 3.0\n",
    "\n",
    "        self.layers = nn.Sequential(\n",
    "            nn.Conv1d(in_channels=1, out_channels=2, kernel_size=9),\n",
    "            nn.Sigmoid(),\n",
    "            nn.MaxPool1d(2),\n",
    "            nn.Conv1d(in_channels=2, out_channels=4, kernel_size=9),\n",
    "            nn.Sigmoid(),\n",
    "            nn.MaxPool1d(2),\n",
    "            nn.Flatten(),\n",
    "            nn.BatchNorm1d(461*4),\n",
    "            nn.Linear(461*4, 64),\n",
    "            nn.BatchNorm1d(64),\n",
    "            nn.Sigmoid(),\n",
    "            nn.Linear(64,32)\n",
    "        )\n",
    "    \n",
    "    def forward(self, x):\n",
    "        return self.layers(x)"
   ]
  },
  {
   "cell_type": "code",
   "execution_count": 4,
   "id": "bf586a75",
   "metadata": {},
   "outputs": [],
   "source": [
    "class FeatureExtractor(nn.Module):\n",
    "    def __init__(self):\n",
    "      \n",
    "        super().__init__() \n",
    "\n",
    "        self.layers = nn.Sequential(nn.Linear(1868,64),\n",
    "                                    nn.Sigmoid(), \n",
    "                                    nn.Linear(64, 16))\n",
    "\n",
    "    def forward(self, x):\n",
    "        return self.layers(x)"
   ]
  },
  {
   "cell_type": "markdown",
   "id": "c4e003c4",
   "metadata": {},
   "source": [
    "# Classifier"
   ]
  },
  {
   "cell_type": "code",
   "execution_count": 5,
   "id": "c38c9d4c",
   "metadata": {},
   "outputs": [],
   "source": [
    "class Classifier(nn.Module):\n",
    "    def __init__(self):\n",
    "      \n",
    "        super().__init__() \n",
    "\n",
    "        self.layers = nn.Sequential(\n",
    "            nn.BatchNorm1d(32),\n",
    "            nn.Linear(32,8),\n",
    "            nn.Sigmoid(),\n",
    "            nn.BatchNorm1d(8),\n",
    "            nn.Linear(8,1)\n",
    "        ) \n",
    "\n",
    "    def forward(self, x):\n",
    "        return self.layers(x)"
   ]
  },
  {
   "cell_type": "code",
   "execution_count": 6,
   "id": "a51bf417",
   "metadata": {},
   "outputs": [],
   "source": [
    "class Classifier(nn.Module):\n",
    "    def __init__(self):\n",
    "      \n",
    "        super().__init__() \n",
    "\n",
    "        self.layers = nn.Linear(16,1)\n",
    "\n",
    "    def forward(self, x):\n",
    "        return self.layers(x)\n"
   ]
  },
  {
   "cell_type": "markdown",
   "id": "296a0224",
   "metadata": {},
   "source": [
    "# Discriminator"
   ]
  },
  {
   "cell_type": "code",
   "execution_count": 7,
   "id": "d0086d31",
   "metadata": {},
   "outputs": [],
   "source": [
    "class Discriminator(nn.Module):\n",
    "    def __init__(self):\n",
    "      \n",
    "        super().__init__() \n",
    "\n",
    "        self.layers = nn.Sequential(\n",
    "            nn.BatchNorm1d(32),\n",
    "            nn.Linear(32,8),\n",
    "            nn.Sigmoid(),\n",
    "            nn.BatchNorm1d(8),\n",
    "            nn.Linear(8,1),\n",
    "            nn.Sigmoid()\n",
    "        )\n",
    "\n",
    "    def forward(self, x):\n",
    "        return self.layers(x)"
   ]
  },
  {
   "cell_type": "code",
   "execution_count": 8,
   "id": "0f78c892",
   "metadata": {},
   "outputs": [],
   "source": [
    "class Discriminator(nn.Module):\n",
    "    def __init__(self):\n",
    "      \n",
    "        super().__init__() \n",
    "\n",
    "        self.layers = nn.Sequential(nn.Linear(16, 1),\n",
    "                                    nn.Sigmoid())\n",
    "\n",
    "    def forward(self, x):\n",
    "        return self.layers(x)"
   ]
  },
  {
   "cell_type": "code",
   "execution_count": 9,
   "id": "c68e532d",
   "metadata": {},
   "outputs": [],
   "source": [
    "def get_lambda(epoch, max_epoch):\n",
    "    p = epoch / max_epoch\n",
    "    return 2. / (1+np.exp(-10.*p)) - 1."
   ]
  },
  {
   "cell_type": "code",
   "execution_count": 10,
   "id": "eec09cf7",
   "metadata": {},
   "outputs": [],
   "source": [
    "def S_sample_train(step, n_batches):\n",
    "    global S_set_train\n",
    "    if step % n_batches == 0:\n",
    "        S_set_train = iter(S_train_dataloader)\n",
    "    return next(S_set_train)\n",
    "\n",
    "def S_sample_validation(step, n_batches):\n",
    "    global S_set_validation\n",
    "    if step % n_batches == 0:\n",
    "        S_set_validation = iter(S_validation_dataloader)\n",
    "    return next(S_set_validation)"
   ]
  },
  {
   "cell_type": "markdown",
   "id": "5b73848e",
   "metadata": {},
   "source": [
    "# Utilities for output"
   ]
  },
  {
   "cell_type": "code",
   "execution_count": 11,
   "id": "f0ca94a5",
   "metadata": {},
   "outputs": [],
   "source": [
    "def write_predictions_DANN(FeatExt, Classif, Discrim, param_name, split_path, val_loss, dataloader, feat_num, dset, dm):\n",
    "\n",
    "    '''load feature extractor model'''\n",
    "    checkpoint_f = torch.load(split_path + 'model'+model_name_f+'_vld_loss_'+str(int(round(val_loss,3)))+'.pth')\n",
    "    FeatExt.load_state_dict(checkpoint_f['model_state_dict'])\n",
    "    \n",
    "    '''load classifier model'''\n",
    "    checkpoint_c = torch.load(split_path + 'model'+model_name_c+'_vld_loss_'+str(int(round(val_loss,3)))+'.pth')\n",
    "    Classif.load_state_dict(checkpoint_c['model_state_dict'])\n",
    "    \n",
    "    '''load discriminator model'''\n",
    "    checkpoint_d = torch.load(split_path + 'model'+model_name_d+'_vld_loss_'+str(int(round(val_loss,3)))+'.pth')\n",
    "    Discrim.load_state_dict(checkpoint_d['model_state_dict'])\n",
    "    \n",
    "    FeatExt.eval()\n",
    "    Classif.eval()\n",
    "    Discrim.eval()\n",
    "\n",
    "    y_out, y_true = torch.zeros(1, feat_num+1), torch.zeros(1, feat_num+1)\n",
    "    d_out, d_true = torch.zeros(1, feat_num+1), torch.zeros(1, feat_num+1)\n",
    "    \n",
    "    for num, specs, labels, domain in dataloader:\n",
    "        y_outputs = Classif(FeatExt(specs))\n",
    "        y_outputs[y_outputs<0]=0\n",
    "        \n",
    "        y_out = torch.cat((y_out, torch.cat((num.unsqueeze(-1), y_outputs), -1)),0)\n",
    "        y_true = torch.cat((y_true, torch.cat((num.unsqueeze(-1), labels), -1)),0)\n",
    "        \n",
    "        d_outputs = Discrim(FeatExt(specs))\n",
    "        \n",
    "        d_out = torch.cat((d_out, torch.cat((num.unsqueeze(-1), d_outputs), -1)),0)\n",
    "        d_true = torch.cat((d_true, torch.cat((num.unsqueeze(-1), domain.unsqueeze(-1)), -1)),0)\n",
    "    \n",
    "    a = ['pattern_number',param_name +'_true','pattern_number', param_name+'_predicted']\n",
    "\n",
    "    pd.concat([pd.DataFrame(y_true.detach().numpy()), pd.DataFrame(y_out.detach().numpy())], axis = 1).to_csv(split_path + 'conc_'+dset+'_'+dm+'.csv',sep=',', header = a)\n",
    "    pd.concat([pd.DataFrame(d_true.detach().numpy()), pd.DataFrame(d_out.detach().numpy())], axis = 1).to_csv(split_path + 'domain_'+dset+'_'+dm+'.csv',sep=',', header = a)"
   ]
  },
  {
   "cell_type": "code",
   "execution_count": 12,
   "id": "53510441",
   "metadata": {},
   "outputs": [],
   "source": [
    "def clear_folder(folder, model_name, loss_value):\n",
    "    for filename in os.listdir(folder):\n",
    "        pat = r'.+\\.pth'\n",
    "        if filename[len('model'):(len('model')+len(model_name))] == model_name:\n",
    "            if re.match(pat, filename):\n",
    "                letters = len('model'+model_name+'_vld_loss_')\n",
    "                if int(filename[letters:-4])!=int(loss_value):os.remove(folder+filename)\n",
    "                else:\n",
    "                    continue"
   ]
  },
  {
   "cell_type": "code",
   "execution_count": 13,
   "id": "c15b2ba8",
   "metadata": {},
   "outputs": [],
   "source": [
    "def reset_weights(m):\n",
    "    '''\n",
    "    Reset model weights.\n",
    "    '''\n",
    "    for layer in m.children():\n",
    "        if hasattr(layer, 'reset_parameters'):\n",
    "            print(f'Reset trainable parameters of layer = {layer}')\n",
    "            layer.reset_parameters()"
   ]
  },
  {
   "cell_type": "markdown",
   "id": "9e12fff4",
   "metadata": {},
   "source": [
    "# Utilities for feature processing"
   ]
  },
  {
   "cell_type": "code",
   "execution_count": 14,
   "id": "72d3d436",
   "metadata": {},
   "outputs": [],
   "source": [
    "class MinMax_Normalize:\n",
    "    def __init__(self,feat_min,feat_max):\n",
    "        assert feat_min.shape == feat_max.shape\n",
    "        self.min = feat_min\n",
    "        self.max = feat_max\n",
    "\n",
    "    def __call__(self,x):\n",
    "        # x of shape [batch_size, features]\n",
    "        #assert x.shape[1] == self.min.shape[0]\n",
    "        return (x - self.min) / (self.max - self.min)"
   ]
  },
  {
   "cell_type": "code",
   "execution_count": 15,
   "id": "62303065",
   "metadata": {},
   "outputs": [],
   "source": [
    "#Calculate min and max\n",
    "def min_max(train_dataloader):\n",
    "    data = next(iter(train_dataloader))\n",
    "    MIN = torch.min(data[1],0).values\n",
    "    MAX = torch.max(data[1],0).values\n",
    "\n",
    "    return MIN, MAX"
   ]
  },
  {
   "cell_type": "markdown",
   "id": "514576ed",
   "metadata": {},
   "source": [
    "# Hyper parameters"
   ]
  },
  {
   "cell_type": "code",
   "execution_count": 16,
   "id": "48002549",
   "metadata": {},
   "outputs": [],
   "source": [
    "input_num = 1868\n",
    "outs_num = 1\n",
    "#neurons_num = 128 # neurons in  hidden layer\n",
    "\n",
    "batch_size = 64\n",
    "\n",
    "trn_batch_s = 1203\n",
    "vld_batch_s = 343\n",
    "tst_batch_s = 173\n",
    "\n",
    "trn_batch_t = 347\n",
    "vld_batch_t = 99\n",
    "tst_batch_t = 50\n",
    "\n",
    "lamda = 0.1\n",
    "l2_lambda = 0.001\n",
    "test_stop = 100        #stopping criterion is an error on the validation set\n",
    "                        #we stop if the error on the validation set (val_loss) did not fall within 250 epochs (test_stop)\n",
    "INITIALS = 5 # number of weight's initializations\n",
    "\n",
    "k_folds = [[42,12],[612,45],[72,172],[871,48],[52,134],[139,15],[287,403],[32,29]]"
   ]
  },
  {
   "cell_type": "markdown",
   "id": "0bc10b9f",
   "metadata": {},
   "source": [
    "# Paths"
   ]
  },
  {
   "cell_type": "code",
   "execution_count": 17,
   "id": "86dc1bdd",
   "metadata": {},
   "outputs": [],
   "source": [
    "gen_path ='C:\\\\Users\\\\helga\\\\OneDrive\\\\Рабочий стол\\\\Lab\\\\2024\\\\wines_da\\\\'\n",
    "\n",
    "\n",
    "x_source = gen_path + 'data\\\\spectra_source.csv'\n",
    "y_source = pd.read_csv(gen_path + 'data\\\\conc_source.csv')\n",
    "\n",
    "x_target = gen_path + 'data\\\\spectra_target.csv'\n",
    "y_target = pd.read_csv(gen_path + 'data\\\\conc_target.csv')\n",
    "\n",
    "param = 'ethanol_pct'\n",
    "k = 1\n",
    "\n",
    "model_name_f = '_MLP_N02_64_16_f'\n",
    "model_name_c = '_MLP_N01_16_c'\n",
    "model_name_d = '_MLP_N01_16_d'\n",
    "\n",
    "case_name = 'DANN_ethanol_test_stop_'+str(test_stop)+ model_name_f + '_batch_64_19'\n",
    "case_path = gen_path + case_name+'/'"
   ]
  },
  {
   "cell_type": "code",
   "execution_count": 18,
   "id": "f5d80010",
   "metadata": {},
   "outputs": [],
   "source": [
    "'''models'''\n",
    "feat_ext = FeatureExtractor()\n",
    "clsf = Classifier()\n",
    "dscr = Discriminator()\n",
    "\n",
    "'''loss functions'''\n",
    "loss_function = torch.nn.MSELoss() \n",
    "bce = nn.BCELoss()\n",
    "\n",
    "'''optimizers'''\n",
    "f_opt = torch.optim.Adam(feat_ext.parameters(), lr=0.001)\n",
    "c_opt = torch.optim.Adam(clsf.parameters(), lr=0.001)\n",
    "d_opt = torch.optim.Adam(dscr.parameters(), lr=0.001)\n"
   ]
  },
  {
   "cell_type": "code",
   "execution_count": 19,
   "id": "f3b28d9d",
   "metadata": {},
   "outputs": [
    {
     "name": "stderr",
     "output_type": "stream",
     "text": [
      "wandb: wandb version 0.17.0 is available!  To upgrade, please run:\n",
      "wandb:  $ pip install wandb --upgrade\n"
     ]
    },
    {
     "data": {
      "text/html": [
       "\n",
       "                Tracking run with wandb version 0.10.15<br/>\n",
       "                Syncing run <strong style=\"color:#cdcd00\">super-monkey-1</strong> to <a href=\"https://wandb.ai\" target=\"_blank\">Weights & Biases</a> <a href=\"https://docs.wandb.com/integrations/jupyter.html\" target=\"_blank\">(Documentation)</a>.<br/>\n",
       "                Project page: <a href=\"https://wandb.ai/oe_sarmanova/DANN_ethanol_test_stop_100_MLP_N02_64_16_f_batch_64_19\" target=\"_blank\">https://wandb.ai/oe_sarmanova/DANN_ethanol_test_stop_100_MLP_N02_64_16_f_batch_64_19</a><br/>\n",
       "                Run page: <a href=\"https://wandb.ai/oe_sarmanova/DANN_ethanol_test_stop_100_MLP_N02_64_16_f_batch_64_19/runs/1ui9wx9m\" target=\"_blank\">https://wandb.ai/oe_sarmanova/DANN_ethanol_test_stop_100_MLP_N02_64_16_f_batch_64_19/runs/1ui9wx9m</a><br/>\n",
       "                Run data is saved locally in <code>C:\\Users\\helga\\wines_november\\wandb\\run-20240528_123440-1ui9wx9m</code><br/><br/>\n",
       "            "
      ],
      "text/plain": [
       "<IPython.core.display.HTML object>"
      ]
     },
     "metadata": {},
     "output_type": "display_data"
    },
    {
     "name": "stderr",
     "output_type": "stream",
     "text": [
      "wandb: WARNING Calling run.save without any arguments is deprecated.Changes to attributes are automatically persisted.\n"
     ]
    },
    {
     "name": "stdout",
     "output_type": "stream",
     "text": [
      "Reset trainable parameters of layer = Linear(in_features=1868, out_features=64, bias=True)\n",
      "Reset trainable parameters of layer = Linear(in_features=64, out_features=16, bias=True)\n",
      "Reset trainable parameters of layer = Linear(in_features=16, out_features=1, bias=True)\n",
      "Reset trainable parameters of layer = Linear(in_features=16, out_features=1, bias=True)\n"
     ]
    },
    {
     "data": {
      "text/html": [
       "<br/>Waiting for W&B process to finish, PID 13072<br/>Program ended successfully."
      ],
      "text/plain": [
       "<IPython.core.display.HTML object>"
      ]
     },
     "metadata": {},
     "output_type": "display_data"
    },
    {
     "data": {
      "application/vnd.jupyter.widget-view+json": {
       "model_id": "",
       "version_major": 2,
       "version_minor": 0
      },
      "text/plain": [
       "VBox(children=(Label(value=' 0.00MB of 0.00MB uploaded (0.00MB deduped)\\r'), FloatProgress(value=1.0, max=1.0)…"
      ]
     },
     "metadata": {},
     "output_type": "display_data"
    },
    {
     "data": {
      "text/html": [
       "Find user logs for this run at: <code>C:\\Users\\helga\\wines_november\\wandb\\run-20240528_123440-1ui9wx9m\\logs\\debug.log</code>"
      ],
      "text/plain": [
       "<IPython.core.display.HTML object>"
      ]
     },
     "metadata": {},
     "output_type": "display_data"
    },
    {
     "data": {
      "text/html": [
       "Find internal logs for this run at: <code>C:\\Users\\helga\\wines_november\\wandb\\run-20240528_123440-1ui9wx9m\\logs\\debug-internal.log</code>"
      ],
      "text/plain": [
       "<IPython.core.display.HTML object>"
      ]
     },
     "metadata": {},
     "output_type": "display_data"
    },
    {
     "data": {
      "text/html": [
       "<h3>Run summary:</h3><br/><style>\n",
       "    table.wandb td:nth-child(1) { padding: 0 10px; text-align: right }\n",
       "    </style><table class=\"wandb\">\n",
       "<tr><td>trn_loss</td><td>0.15129</td></tr><tr><td>vld_loss</td><td>2.1951</td></tr><tr><td>_step</td><td>2699</td></tr><tr><td>_runtime</td><td>551</td></tr><tr><td>_timestamp</td><td>1716889431</td></tr><tr><td>clsf_trn_loss</td><td>0.18816</td></tr><tr><td>clsf_vld_loss</td><td>0.25817</td></tr><tr><td>dscr_trn_loss</td><td>0.36864</td></tr><tr><td>dscr_vld_loss</td><td>0.4382</td></tr></table>"
      ],
      "text/plain": [
       "<IPython.core.display.HTML object>"
      ]
     },
     "metadata": {},
     "output_type": "display_data"
    },
    {
     "data": {
      "text/html": [
       "<h3>Run history:</h3><br/><style>\n",
       "    table.wandb td:nth-child(1) { padding: 0 10px; text-align: right }\n",
       "    </style><table class=\"wandb\">\n",
       "<tr><td>trn_loss</td><td>█▄▁▁▁▁▁▁▁▁▁▁▁▁▁▁▁▁▁▁▁▁▁▁▁▁▁▁▁▁▁▁▁▁▁▁▁▁▁▁</td></tr><tr><td>vld_loss</td><td>█▄▁▁▁▁▁▁▁▁▁▁▁▁▁▁▁▁▁▁▁▁▁▁▁▁▁▁▁▁▁▁▁▁▁▁▁▁▁▁</td></tr><tr><td>_step</td><td>▁▁▁▂▂▂▂▂▂▃▃▃▃▃▃▄▄▄▄▄▅▅▅▅▅▅▆▆▆▆▆▆▇▇▇▇▇███</td></tr><tr><td>_runtime</td><td>▁▁▁▁▂▂▂▂▂▂▃▃▃▃▃▃▄▄▄▄▄▄▅▅▅▅▅▆▆▆▆▆▇▇▇▇▇███</td></tr><tr><td>_timestamp</td><td>▁▁▁▁▂▂▂▂▂▂▃▃▃▃▃▃▄▄▄▄▄▄▅▅▅▅▅▆▆▆▆▆▇▇▇▇▇███</td></tr><tr><td>clsf_trn_loss</td><td>█▄▁▁▁▁▁▁▁▁▁▁▁▁▁▁▁▁▁▁▁▁▁▁▁▁▁▁▁▁▁▁▁▁▁▁▁▁▁▁</td></tr><tr><td>clsf_vld_loss</td><td>█▄▂▁▁▁▁▁▁▁▃▁▁▁▁▁▁▁▁▁▂▁▁▁▁▂▁▁▁▁▁▁▂▁▁▁▁▂▁▁</td></tr><tr><td>dscr_trn_loss</td><td>▄▇▆▄▁▄▁▁▂▅▅▆▄▅▅▅▄▇▇▆▇▆▅▆▆▆▆▅▄▄▅█▃▂▄▅▃▂▄▆</td></tr><tr><td>dscr_vld_loss</td><td>▄▅▄▂▂▃▃▁▂▄▆▅▄▅▄▃▅▇▅▅▅▄▅▄▅▅█▄▃▃▄▇▃▃▃▄▆▂▃▄</td></tr></table><br/>"
      ],
      "text/plain": [
       "<IPython.core.display.HTML object>"
      ]
     },
     "metadata": {},
     "output_type": "display_data"
    },
    {
     "data": {
      "text/html": [
       "Synced 5 W&B file(s), 0 media file(s), 0 artifact file(s) and 0 other file(s)"
      ],
      "text/plain": [
       "<IPython.core.display.HTML object>"
      ]
     },
     "metadata": {},
     "output_type": "display_data"
    },
    {
     "data": {
      "text/html": [
       "\n",
       "                    <br/>Synced <strong style=\"color:#cdcd00\">super-monkey-1</strong>: <a href=\"https://wandb.ai/oe_sarmanova/DANN_ethanol_test_stop_100_MLP_N02_64_16_f_batch_64_19/runs/1ui9wx9m\" target=\"_blank\">https://wandb.ai/oe_sarmanova/DANN_ethanol_test_stop_100_MLP_N02_64_16_f_batch_64_19/runs/1ui9wx9m</a><br/>\n",
       "                "
      ],
      "text/plain": [
       "<IPython.core.display.HTML object>"
      ]
     },
     "metadata": {},
     "output_type": "display_data"
    },
    {
     "name": "stderr",
     "output_type": "stream",
     "text": [
      "wandb: wandb version 0.17.0 is available!  To upgrade, please run:\n",
      "wandb:  $ pip install wandb --upgrade\n"
     ]
    },
    {
     "data": {
      "text/html": [
       "\n",
       "                Tracking run with wandb version 0.10.15<br/>\n",
       "                Syncing run <strong style=\"color:#cdcd00\">noble-tree-2</strong> to <a href=\"https://wandb.ai\" target=\"_blank\">Weights & Biases</a> <a href=\"https://docs.wandb.com/integrations/jupyter.html\" target=\"_blank\">(Documentation)</a>.<br/>\n",
       "                Project page: <a href=\"https://wandb.ai/oe_sarmanova/DANN_ethanol_test_stop_100_MLP_N02_64_16_f_batch_64_19\" target=\"_blank\">https://wandb.ai/oe_sarmanova/DANN_ethanol_test_stop_100_MLP_N02_64_16_f_batch_64_19</a><br/>\n",
       "                Run page: <a href=\"https://wandb.ai/oe_sarmanova/DANN_ethanol_test_stop_100_MLP_N02_64_16_f_batch_64_19/runs/135v79im\" target=\"_blank\">https://wandb.ai/oe_sarmanova/DANN_ethanol_test_stop_100_MLP_N02_64_16_f_batch_64_19/runs/135v79im</a><br/>\n",
       "                Run data is saved locally in <code>C:\\Users\\helga\\wines_november\\wandb\\run-20240528_124356-135v79im</code><br/><br/>\n",
       "            "
      ],
      "text/plain": [
       "<IPython.core.display.HTML object>"
      ]
     },
     "metadata": {},
     "output_type": "display_data"
    },
    {
     "name": "stderr",
     "output_type": "stream",
     "text": [
      "wandb: WARNING Calling run.save without any arguments is deprecated.Changes to attributes are automatically persisted.\n"
     ]
    },
    {
     "name": "stdout",
     "output_type": "stream",
     "text": [
      "Reset trainable parameters of layer = Linear(in_features=1868, out_features=64, bias=True)\n",
      "Reset trainable parameters of layer = Linear(in_features=64, out_features=16, bias=True)\n",
      "Reset trainable parameters of layer = Linear(in_features=16, out_features=1, bias=True)\n",
      "Reset trainable parameters of layer = Linear(in_features=16, out_features=1, bias=True)\n"
     ]
    },
    {
     "data": {
      "text/html": [
       "<br/>Waiting for W&B process to finish, PID 24856<br/>Program ended successfully."
      ],
      "text/plain": [
       "<IPython.core.display.HTML object>"
      ]
     },
     "metadata": {},
     "output_type": "display_data"
    },
    {
     "data": {
      "application/vnd.jupyter.widget-view+json": {
       "model_id": "",
       "version_major": 2,
       "version_minor": 0
      },
      "text/plain": [
       "VBox(children=(Label(value=' 0.00MB of 0.00MB uploaded (0.00MB deduped)\\r'), FloatProgress(value=1.0, max=1.0)…"
      ]
     },
     "metadata": {},
     "output_type": "display_data"
    },
    {
     "data": {
      "text/html": [
       "Find user logs for this run at: <code>C:\\Users\\helga\\wines_november\\wandb\\run-20240528_124356-135v79im\\logs\\debug.log</code>"
      ],
      "text/plain": [
       "<IPython.core.display.HTML object>"
      ]
     },
     "metadata": {},
     "output_type": "display_data"
    },
    {
     "data": {
      "text/html": [
       "Find internal logs for this run at: <code>C:\\Users\\helga\\wines_november\\wandb\\run-20240528_124356-135v79im\\logs\\debug-internal.log</code>"
      ],
      "text/plain": [
       "<IPython.core.display.HTML object>"
      ]
     },
     "metadata": {},
     "output_type": "display_data"
    },
    {
     "data": {
      "text/html": [
       "<h3>Run summary:</h3><br/><style>\n",
       "    table.wandb td:nth-child(1) { padding: 0 10px; text-align: right }\n",
       "    </style><table class=\"wandb\">\n",
       "<tr><td>trn_loss</td><td>0.26021</td></tr><tr><td>vld_loss</td><td>4.0524</td></tr><tr><td>_step</td><td>2099</td></tr><tr><td>_runtime</td><td>487</td></tr><tr><td>_timestamp</td><td>1716889923</td></tr><tr><td>clsf_trn_loss</td><td>0.29693</td></tr><tr><td>clsf_vld_loss</td><td>0.49003</td></tr><tr><td>dscr_trn_loss</td><td>0.36721</td></tr><tr><td>dscr_vld_loss</td><td>0.42897</td></tr></table>"
      ],
      "text/plain": [
       "<IPython.core.display.HTML object>"
      ]
     },
     "metadata": {},
     "output_type": "display_data"
    },
    {
     "data": {
      "text/html": [
       "<h3>Run history:</h3><br/><style>\n",
       "    table.wandb td:nth-child(1) { padding: 0 10px; text-align: right }\n",
       "    </style><table class=\"wandb\">\n",
       "<tr><td>trn_loss</td><td>█▄▃▂▂▁▁▁▁▁▁▁▁▁▁▁▁▂▁▁▁▁▁▁▁▁▁▁▁▁▁▁▁▁▁▁▁▁▁▁</td></tr><tr><td>vld_loss</td><td>█▅▂▂▁▁▁▁▁▁▁▁▁▁▁▁▁▁▁▁▁▁▁▁▁▁▁▁▁▁▁▁▁▁▁▁▁▁▁▁</td></tr><tr><td>_step</td><td>▁▁▁▁▂▂▂▂▂▃▃▃▃▃▃▄▄▄▄▄▅▅▅▅▅▅▆▆▆▆▆▆▇▇▇▇▇███</td></tr><tr><td>_runtime</td><td>▁▁▁▁▂▂▂▂▂▃▃▃▃▃▃▄▄▄▄▄▅▅▅▅▅▅▆▆▆▆▆▆▇▇▇▇▇███</td></tr><tr><td>_timestamp</td><td>▁▁▁▁▂▂▂▂▂▃▃▃▃▃▃▄▄▄▄▄▅▅▅▅▅▅▆▆▆▆▆▆▇▇▇▇▇███</td></tr><tr><td>clsf_trn_loss</td><td>█▄▃▂▂▁▁▁▁▁▁▁▁▁▁▁▁▂▁▁▁▁▁▁▁▁▁▁▁▁▁▁▁▁▁▁▁▁▁▁</td></tr><tr><td>clsf_vld_loss</td><td>█▆▄▂▂▂▁▁▁▁▁▁▁▁▁▂▂▁▁▁▁▁▁▁▁▁▂▁▁▁▁▂▁▁▁▁▁▁▁▁</td></tr><tr><td>dscr_trn_loss</td><td>▃▆█▃▂▁▂▂▃▂▃▁▂▂▂▃▃▂▃▁▁▂▂▂▂▂▂▃▃▃▃▂▂▂▂▂▃▂▃▃</td></tr><tr><td>dscr_vld_loss</td><td>▆█▅▆▆▆▆▆▇▆▆▆▆▆▅▆▆▆▇▆▆▆▆▆▆▆▇▆▆▆▆▁▆▆▆▆▆▆▆▇</td></tr></table><br/>"
      ],
      "text/plain": [
       "<IPython.core.display.HTML object>"
      ]
     },
     "metadata": {},
     "output_type": "display_data"
    },
    {
     "data": {
      "text/html": [
       "Synced 5 W&B file(s), 0 media file(s), 0 artifact file(s) and 0 other file(s)"
      ],
      "text/plain": [
       "<IPython.core.display.HTML object>"
      ]
     },
     "metadata": {},
     "output_type": "display_data"
    },
    {
     "data": {
      "text/html": [
       "\n",
       "                    <br/>Synced <strong style=\"color:#cdcd00\">noble-tree-2</strong>: <a href=\"https://wandb.ai/oe_sarmanova/DANN_ethanol_test_stop_100_MLP_N02_64_16_f_batch_64_19/runs/135v79im\" target=\"_blank\">https://wandb.ai/oe_sarmanova/DANN_ethanol_test_stop_100_MLP_N02_64_16_f_batch_64_19/runs/135v79im</a><br/>\n",
       "                "
      ],
      "text/plain": [
       "<IPython.core.display.HTML object>"
      ]
     },
     "metadata": {},
     "output_type": "display_data"
    },
    {
     "name": "stderr",
     "output_type": "stream",
     "text": [
      "wandb: wandb version 0.17.0 is available!  To upgrade, please run:\n",
      "wandb:  $ pip install wandb --upgrade\n"
     ]
    },
    {
     "data": {
      "text/html": [
       "\n",
       "                Tracking run with wandb version 0.10.15<br/>\n",
       "                Syncing run <strong style=\"color:#cdcd00\">crisp-thunder-3</strong> to <a href=\"https://wandb.ai\" target=\"_blank\">Weights & Biases</a> <a href=\"https://docs.wandb.com/integrations/jupyter.html\" target=\"_blank\">(Documentation)</a>.<br/>\n",
       "                Project page: <a href=\"https://wandb.ai/oe_sarmanova/DANN_ethanol_test_stop_100_MLP_N02_64_16_f_batch_64_19\" target=\"_blank\">https://wandb.ai/oe_sarmanova/DANN_ethanol_test_stop_100_MLP_N02_64_16_f_batch_64_19</a><br/>\n",
       "                Run page: <a href=\"https://wandb.ai/oe_sarmanova/DANN_ethanol_test_stop_100_MLP_N02_64_16_f_batch_64_19/runs/3i3gy2i3\" target=\"_blank\">https://wandb.ai/oe_sarmanova/DANN_ethanol_test_stop_100_MLP_N02_64_16_f_batch_64_19/runs/3i3gy2i3</a><br/>\n",
       "                Run data is saved locally in <code>C:\\Users\\helga\\wines_november\\wandb\\run-20240528_125210-3i3gy2i3</code><br/><br/>\n",
       "            "
      ],
      "text/plain": [
       "<IPython.core.display.HTML object>"
      ]
     },
     "metadata": {},
     "output_type": "display_data"
    },
    {
     "name": "stderr",
     "output_type": "stream",
     "text": [
      "wandb: WARNING Calling run.save without any arguments is deprecated.Changes to attributes are automatically persisted.\n"
     ]
    },
    {
     "name": "stdout",
     "output_type": "stream",
     "text": [
      "Reset trainable parameters of layer = Linear(in_features=1868, out_features=64, bias=True)\n",
      "Reset trainable parameters of layer = Linear(in_features=64, out_features=16, bias=True)\n",
      "Reset trainable parameters of layer = Linear(in_features=16, out_features=1, bias=True)\n",
      "Reset trainable parameters of layer = Linear(in_features=16, out_features=1, bias=True)\n"
     ]
    },
    {
     "data": {
      "text/html": [
       "<br/>Waiting for W&B process to finish, PID 19360<br/>Program ended successfully."
      ],
      "text/plain": [
       "<IPython.core.display.HTML object>"
      ]
     },
     "metadata": {},
     "output_type": "display_data"
    },
    {
     "data": {
      "application/vnd.jupyter.widget-view+json": {
       "model_id": "",
       "version_major": 2,
       "version_minor": 0
      },
      "text/plain": [
       "VBox(children=(Label(value=' 0.00MB of 0.00MB uploaded (0.00MB deduped)\\r'), FloatProgress(value=1.0, max=1.0)…"
      ]
     },
     "metadata": {},
     "output_type": "display_data"
    },
    {
     "data": {
      "text/html": [
       "Find user logs for this run at: <code>C:\\Users\\helga\\wines_november\\wandb\\run-20240528_125210-3i3gy2i3\\logs\\debug.log</code>"
      ],
      "text/plain": [
       "<IPython.core.display.HTML object>"
      ]
     },
     "metadata": {},
     "output_type": "display_data"
    },
    {
     "data": {
      "text/html": [
       "Find internal logs for this run at: <code>C:\\Users\\helga\\wines_november\\wandb\\run-20240528_125210-3i3gy2i3\\logs\\debug-internal.log</code>"
      ],
      "text/plain": [
       "<IPython.core.display.HTML object>"
      ]
     },
     "metadata": {},
     "output_type": "display_data"
    },
    {
     "data": {
      "text/html": [
       "<h3>Run summary:</h3><br/><style>\n",
       "    table.wandb td:nth-child(1) { padding: 0 10px; text-align: right }\n",
       "    </style><table class=\"wandb\">\n",
       "<tr><td>trn_loss</td><td>12.52309</td></tr><tr><td>vld_loss</td><td>62.45488</td></tr><tr><td>_step</td><td>1199</td></tr><tr><td>_runtime</td><td>278</td></tr><tr><td>_timestamp</td><td>1716890208</td></tr><tr><td>clsf_trn_loss</td><td>12.55941</td></tr><tr><td>clsf_vld_loss</td><td>9.58541</td></tr><tr><td>dscr_trn_loss</td><td>0.36313</td></tr><tr><td>dscr_vld_loss</td><td>0.43021</td></tr></table>"
      ],
      "text/plain": [
       "<IPython.core.display.HTML object>"
      ]
     },
     "metadata": {},
     "output_type": "display_data"
    },
    {
     "data": {
      "text/html": [
       "<h3>Run history:</h3><br/><style>\n",
       "    table.wandb td:nth-child(1) { padding: 0 10px; text-align: right }\n",
       "    </style><table class=\"wandb\">\n",
       "<tr><td>trn_loss</td><td>▅▄█▇▅▆▅▃▄▆▆▃▄▅▃▆▅▅▆▄▇▃▄▁▅▅▄▆▆▅▅▇▁▃▃▆▂▃▆▆</td></tr><tr><td>vld_loss</td><td>▅▄█▄▄▂▅▅▅▄▅▅▆▁▅▂▆▆▇▇▅▆▇▄▆▃▇▄▄▃▅▅▁▆▁▅▅▆▄▃</td></tr><tr><td>_step</td><td>▁▁▁▁▂▂▂▂▂▃▃▃▃▃▃▄▄▄▄▄▅▅▅▅▅▅▆▆▆▆▆▆▇▇▇▇▇███</td></tr><tr><td>_runtime</td><td>▁▁▁▁▂▂▂▂▂▃▃▃▃▃▃▄▄▄▄▄▄▅▅▅▅▅▆▆▆▆▆▆▇▇▇▇▇███</td></tr><tr><td>_timestamp</td><td>▁▁▁▁▂▂▂▂▂▃▃▃▃▃▃▄▄▄▄▄▄▅▅▅▅▅▆▆▆▆▆▆▇▇▇▇▇███</td></tr><tr><td>clsf_trn_loss</td><td>▅▄█▇▅▆▅▃▄▆▆▃▄▅▃▆▅▅▆▄▇▃▄▁▅▅▄▆▆▅▅▇▁▃▃▆▂▃▆▆</td></tr><tr><td>clsf_vld_loss</td><td>▅▄█▄▄▃▅▅▅▄▅▅▆▁▅▃▆▅▇▇▅▆▇▄▆▃▇▄▄▃▅▅▁▆▁▅▆▆▅▃</td></tr><tr><td>dscr_trn_loss</td><td>▆▅▅▄▄▅▅▃▇▇▃▅▄▁▆▅▄▃▆▅▃▆▂▆▇▂▇▇▁█▅▆▂▇▇▄▆▃█▃</td></tr><tr><td>dscr_vld_loss</td><td>▇▇▇▇▇▇▇▆██▇▇▇▆▁▇▇▇▇▁▇▇▆▇█▆██▆█▇▇▆██▇▇▇█▇</td></tr></table><br/>"
      ],
      "text/plain": [
       "<IPython.core.display.HTML object>"
      ]
     },
     "metadata": {},
     "output_type": "display_data"
    },
    {
     "data": {
      "text/html": [
       "Synced 5 W&B file(s), 0 media file(s), 0 artifact file(s) and 0 other file(s)"
      ],
      "text/plain": [
       "<IPython.core.display.HTML object>"
      ]
     },
     "metadata": {},
     "output_type": "display_data"
    },
    {
     "data": {
      "text/html": [
       "\n",
       "                    <br/>Synced <strong style=\"color:#cdcd00\">crisp-thunder-3</strong>: <a href=\"https://wandb.ai/oe_sarmanova/DANN_ethanol_test_stop_100_MLP_N02_64_16_f_batch_64_19/runs/3i3gy2i3\" target=\"_blank\">https://wandb.ai/oe_sarmanova/DANN_ethanol_test_stop_100_MLP_N02_64_16_f_batch_64_19/runs/3i3gy2i3</a><br/>\n",
       "                "
      ],
      "text/plain": [
       "<IPython.core.display.HTML object>"
      ]
     },
     "metadata": {},
     "output_type": "display_data"
    },
    {
     "name": "stderr",
     "output_type": "stream",
     "text": [
      "wandb: wandb version 0.17.0 is available!  To upgrade, please run:\n",
      "wandb:  $ pip install wandb --upgrade\n"
     ]
    },
    {
     "data": {
      "text/html": [
       "\n",
       "                Tracking run with wandb version 0.10.15<br/>\n",
       "                Syncing run <strong style=\"color:#cdcd00\">apricot-spaceship-4</strong> to <a href=\"https://wandb.ai\" target=\"_blank\">Weights & Biases</a> <a href=\"https://docs.wandb.com/integrations/jupyter.html\" target=\"_blank\">(Documentation)</a>.<br/>\n",
       "                Project page: <a href=\"https://wandb.ai/oe_sarmanova/DANN_ethanol_test_stop_100_MLP_N02_64_16_f_batch_64_19\" target=\"_blank\">https://wandb.ai/oe_sarmanova/DANN_ethanol_test_stop_100_MLP_N02_64_16_f_batch_64_19</a><br/>\n",
       "                Run page: <a href=\"https://wandb.ai/oe_sarmanova/DANN_ethanol_test_stop_100_MLP_N02_64_16_f_batch_64_19/runs/14zjp4wi\" target=\"_blank\">https://wandb.ai/oe_sarmanova/DANN_ethanol_test_stop_100_MLP_N02_64_16_f_batch_64_19/runs/14zjp4wi</a><br/>\n",
       "                Run data is saved locally in <code>C:\\Users\\helga\\wines_november\\wandb\\run-20240528_125654-14zjp4wi</code><br/><br/>\n",
       "            "
      ],
      "text/plain": [
       "<IPython.core.display.HTML object>"
      ]
     },
     "metadata": {},
     "output_type": "display_data"
    },
    {
     "name": "stderr",
     "output_type": "stream",
     "text": [
      "wandb: WARNING Calling run.save without any arguments is deprecated.Changes to attributes are automatically persisted.\n"
     ]
    },
    {
     "name": "stdout",
     "output_type": "stream",
     "text": [
      "Reset trainable parameters of layer = Linear(in_features=1868, out_features=64, bias=True)\n",
      "Reset trainable parameters of layer = Linear(in_features=64, out_features=16, bias=True)\n",
      "Reset trainable parameters of layer = Linear(in_features=16, out_features=1, bias=True)\n",
      "Reset trainable parameters of layer = Linear(in_features=16, out_features=1, bias=True)\n"
     ]
    },
    {
     "data": {
      "text/html": [
       "<br/>Waiting for W&B process to finish, PID 18252<br/>Program ended successfully."
      ],
      "text/plain": [
       "<IPython.core.display.HTML object>"
      ]
     },
     "metadata": {},
     "output_type": "display_data"
    },
    {
     "data": {
      "application/vnd.jupyter.widget-view+json": {
       "model_id": "",
       "version_major": 2,
       "version_minor": 0
      },
      "text/plain": [
       "VBox(children=(Label(value=' 0.00MB of 0.00MB uploaded (0.00MB deduped)\\r'), FloatProgress(value=1.0, max=1.0)…"
      ]
     },
     "metadata": {},
     "output_type": "display_data"
    },
    {
     "data": {
      "text/html": [
       "Find user logs for this run at: <code>C:\\Users\\helga\\wines_november\\wandb\\run-20240528_125654-14zjp4wi\\logs\\debug.log</code>"
      ],
      "text/plain": [
       "<IPython.core.display.HTML object>"
      ]
     },
     "metadata": {},
     "output_type": "display_data"
    },
    {
     "data": {
      "text/html": [
       "Find internal logs for this run at: <code>C:\\Users\\helga\\wines_november\\wandb\\run-20240528_125654-14zjp4wi\\logs\\debug-internal.log</code>"
      ],
      "text/plain": [
       "<IPython.core.display.HTML object>"
      ]
     },
     "metadata": {},
     "output_type": "display_data"
    },
    {
     "data": {
      "text/html": [
       "<h3>Run summary:</h3><br/><style>\n",
       "    table.wandb td:nth-child(1) { padding: 0 10px; text-align: right }\n",
       "    </style><table class=\"wandb\">\n",
       "<tr><td>trn_loss</td><td>0.37902</td></tr><tr><td>vld_loss</td><td>3.53545</td></tr><tr><td>_step</td><td>2399</td></tr><tr><td>_runtime</td><td>547</td></tr><tr><td>_timestamp</td><td>1716890762</td></tr><tr><td>clsf_trn_loss</td><td>0.41526</td></tr><tr><td>clsf_vld_loss</td><td>0.32337</td></tr><tr><td>dscr_trn_loss</td><td>0.36245</td></tr><tr><td>dscr_vld_loss</td><td>0.42867</td></tr></table>"
      ],
      "text/plain": [
       "<IPython.core.display.HTML object>"
      ]
     },
     "metadata": {},
     "output_type": "display_data"
    },
    {
     "data": {
      "text/html": [
       "<h3>Run history:</h3><br/><style>\n",
       "    table.wandb td:nth-child(1) { padding: 0 10px; text-align: right }\n",
       "    </style><table class=\"wandb\">\n",
       "<tr><td>trn_loss</td><td>██▄▂▂▁▁▁▁▂▁▁▁▁▂▁▁▁▁▁▁▁▁▁▁▁▁▁▁▁▁▁▁▁▁▁▁▁▁▁</td></tr><tr><td>vld_loss</td><td>█▇▃▂▂▁▁▁▁▁▁▁▁▁▁▁▁▁▁▁▁▁▁▁▁▁▁▁▁▁▁▁▁▁▁▁▁▁▁▁</td></tr><tr><td>_step</td><td>▁▁▁▁▂▂▂▂▂▃▃▃▃▃▃▄▄▄▄▄▅▅▅▅▅▅▆▆▆▆▆▆▇▇▇▇▇███</td></tr><tr><td>_runtime</td><td>▁▁▁▁▂▂▂▂▂▃▃▃▃▃▃▄▄▄▄▄▅▅▅▅▅▅▆▆▆▆▆▇▇▇▇▇▇███</td></tr><tr><td>_timestamp</td><td>▁▁▁▁▂▂▂▂▂▃▃▃▃▃▃▄▄▄▄▄▅▅▅▅▅▅▆▆▆▆▆▇▇▇▇▇▇███</td></tr><tr><td>clsf_trn_loss</td><td>██▄▂▂▁▁▁▁▂▁▁▁▁▂▁▁▁▁▁▁▁▁▁▁▁▁▁▁▁▁▁▁▁▁▁▁▁▁▁</td></tr><tr><td>clsf_vld_loss</td><td>▇█▃▂▂▁▁▁▁▂▂▁▁▁▁▁▂▃▁▁▁▁▁▁▁▁▁▁▂▂▁▁▁▂▁▁▁▁▁▁</td></tr><tr><td>dscr_trn_loss</td><td>▆▇▁▃▄▃▃▆▄▅▄▄▅▄▇▅▅▇▁▅▅█▄▅▆▅▅▅▄▃▇▅▃▅▄▅▅▇▆▃</td></tr><tr><td>dscr_vld_loss</td><td>▇▇▇▇▇█▇█▇▇▁▆█▇▆▇▇▁▇▇▇▇█▆▇▇▆█▆▁▆▇▆▇██▇▆▆▆</td></tr></table><br/>"
      ],
      "text/plain": [
       "<IPython.core.display.HTML object>"
      ]
     },
     "metadata": {},
     "output_type": "display_data"
    },
    {
     "data": {
      "text/html": [
       "Synced 5 W&B file(s), 0 media file(s), 0 artifact file(s) and 0 other file(s)"
      ],
      "text/plain": [
       "<IPython.core.display.HTML object>"
      ]
     },
     "metadata": {},
     "output_type": "display_data"
    },
    {
     "data": {
      "text/html": [
       "\n",
       "                    <br/>Synced <strong style=\"color:#cdcd00\">apricot-spaceship-4</strong>: <a href=\"https://wandb.ai/oe_sarmanova/DANN_ethanol_test_stop_100_MLP_N02_64_16_f_batch_64_19/runs/14zjp4wi\" target=\"_blank\">https://wandb.ai/oe_sarmanova/DANN_ethanol_test_stop_100_MLP_N02_64_16_f_batch_64_19/runs/14zjp4wi</a><br/>\n",
       "                "
      ],
      "text/plain": [
       "<IPython.core.display.HTML object>"
      ]
     },
     "metadata": {},
     "output_type": "display_data"
    },
    {
     "name": "stderr",
     "output_type": "stream",
     "text": [
      "wandb: wandb version 0.17.0 is available!  To upgrade, please run:\n",
      "wandb:  $ pip install wandb --upgrade\n"
     ]
    },
    {
     "data": {
      "text/html": [
       "\n",
       "                Tracking run with wandb version 0.10.15<br/>\n",
       "                Syncing run <strong style=\"color:#cdcd00\">dandy-fog-5</strong> to <a href=\"https://wandb.ai\" target=\"_blank\">Weights & Biases</a> <a href=\"https://docs.wandb.com/integrations/jupyter.html\" target=\"_blank\">(Documentation)</a>.<br/>\n",
       "                Project page: <a href=\"https://wandb.ai/oe_sarmanova/DANN_ethanol_test_stop_100_MLP_N02_64_16_f_batch_64_19\" target=\"_blank\">https://wandb.ai/oe_sarmanova/DANN_ethanol_test_stop_100_MLP_N02_64_16_f_batch_64_19</a><br/>\n",
       "                Run page: <a href=\"https://wandb.ai/oe_sarmanova/DANN_ethanol_test_stop_100_MLP_N02_64_16_f_batch_64_19/runs/1orlkkf1\" target=\"_blank\">https://wandb.ai/oe_sarmanova/DANN_ethanol_test_stop_100_MLP_N02_64_16_f_batch_64_19/runs/1orlkkf1</a><br/>\n",
       "                Run data is saved locally in <code>C:\\Users\\helga\\wines_november\\wandb\\run-20240528_130608-1orlkkf1</code><br/><br/>\n",
       "            "
      ],
      "text/plain": [
       "<IPython.core.display.HTML object>"
      ]
     },
     "metadata": {},
     "output_type": "display_data"
    },
    {
     "name": "stderr",
     "output_type": "stream",
     "text": [
      "wandb: WARNING Calling run.save without any arguments is deprecated.Changes to attributes are automatically persisted.\n"
     ]
    },
    {
     "name": "stdout",
     "output_type": "stream",
     "text": [
      "Reset trainable parameters of layer = Linear(in_features=1868, out_features=64, bias=True)\n",
      "Reset trainable parameters of layer = Linear(in_features=64, out_features=16, bias=True)\n",
      "Reset trainable parameters of layer = Linear(in_features=16, out_features=1, bias=True)\n",
      "Reset trainable parameters of layer = Linear(in_features=16, out_features=1, bias=True)\n"
     ]
    },
    {
     "data": {
      "text/html": [
       "<br/>Waiting for W&B process to finish, PID 24048<br/>Program ended successfully."
      ],
      "text/plain": [
       "<IPython.core.display.HTML object>"
      ]
     },
     "metadata": {},
     "output_type": "display_data"
    },
    {
     "data": {
      "application/vnd.jupyter.widget-view+json": {
       "model_id": "",
       "version_major": 2,
       "version_minor": 0
      },
      "text/plain": [
       "VBox(children=(Label(value=' 0.00MB of 0.00MB uploaded (0.00MB deduped)\\r'), FloatProgress(value=1.0, max=1.0)…"
      ]
     },
     "metadata": {},
     "output_type": "display_data"
    },
    {
     "data": {
      "text/html": [
       "Find user logs for this run at: <code>C:\\Users\\helga\\wines_november\\wandb\\run-20240528_130608-1orlkkf1\\logs\\debug.log</code>"
      ],
      "text/plain": [
       "<IPython.core.display.HTML object>"
      ]
     },
     "metadata": {},
     "output_type": "display_data"
    },
    {
     "data": {
      "text/html": [
       "Find internal logs for this run at: <code>C:\\Users\\helga\\wines_november\\wandb\\run-20240528_130608-1orlkkf1\\logs\\debug-internal.log</code>"
      ],
      "text/plain": [
       "<IPython.core.display.HTML object>"
      ]
     },
     "metadata": {},
     "output_type": "display_data"
    },
    {
     "data": {
      "text/html": [
       "<h3>Run summary:</h3><br/><style>\n",
       "    table.wandb td:nth-child(1) { padding: 0 10px; text-align: right }\n",
       "    </style><table class=\"wandb\">\n",
       "<tr><td>trn_loss</td><td>0.45997</td></tr><tr><td>vld_loss</td><td>4.24712</td></tr><tr><td>_step</td><td>4199</td></tr><tr><td>_runtime</td><td>960</td></tr><tr><td>_timestamp</td><td>1716891728</td></tr><tr><td>clsf_trn_loss</td><td>0.4967</td></tr><tr><td>clsf_vld_loss</td><td>1.42259</td></tr><tr><td>dscr_trn_loss</td><td>0.36727</td></tr><tr><td>dscr_vld_loss</td><td>0.40646</td></tr></table>"
      ],
      "text/plain": [
       "<IPython.core.display.HTML object>"
      ]
     },
     "metadata": {},
     "output_type": "display_data"
    },
    {
     "data": {
      "text/html": [
       "<h3>Run history:</h3><br/><style>\n",
       "    table.wandb td:nth-child(1) { padding: 0 10px; text-align: right }\n",
       "    </style><table class=\"wandb\">\n",
       "<tr><td>trn_loss</td><td>█▃▂▁▂▂▁▁▁▁▁▁▁▁▁▁▁▁▁▁▁▁▁▁▁▁▁▁▁▁▁▁▁▁▁▁▁▁▁▁</td></tr><tr><td>vld_loss</td><td>█▃▂▁▁▁▁▁▁▁▁▁▁▁▁▁▂▁▁▁▁▁▁▁▁▁▁▁▁▁▁▁▁▁▁▁▁▁▁▁</td></tr><tr><td>_step</td><td>▁▁▁▁▂▂▂▂▂▃▃▃▃▃▃▄▄▄▄▄▅▅▅▅▅▅▆▆▆▆▆▆▇▇▇▇▇███</td></tr><tr><td>_runtime</td><td>▁▁▁▁▂▂▂▂▂▃▃▃▃▃▃▄▄▄▄▄▄▅▅▅▅▅▆▆▆▆▆▆▇▇▇▇▇███</td></tr><tr><td>_timestamp</td><td>▁▁▁▁▂▂▂▂▂▃▃▃▃▃▃▄▄▄▄▄▄▅▅▅▅▅▆▆▆▆▆▆▇▇▇▇▇███</td></tr><tr><td>clsf_trn_loss</td><td>█▃▂▁▂▂▁▁▁▁▁▁▁▁▁▁▁▁▁▁▁▁▁▁▁▁▁▁▁▁▁▁▁▁▁▁▁▁▁▁</td></tr><tr><td>clsf_vld_loss</td><td>█▅▂▂▁▁▂▂▂▁▂▃▁▂▂▁▂▁▁▁▁▂▁▁▁▁▁▁▁▁▂▂▁▂▁▁▁▁▁▂</td></tr><tr><td>dscr_trn_loss</td><td>▆█▄▃▃▂▁▂▄▂▃▃▆▂▃▃▃▂▃▃▂▄▃▄▂▃▃▂▃▂▂▁▄▄▃▂▃▃▂▂</td></tr><tr><td>dscr_vld_loss</td><td>▇▂▄▄▅▆▅▄▄▄▆▆▅▂▅▅▃▆▂▄▁▆▆▆▅▃▅▄▃▃▆▂▃▄▆▄▄█▇▄</td></tr></table><br/>"
      ],
      "text/plain": [
       "<IPython.core.display.HTML object>"
      ]
     },
     "metadata": {},
     "output_type": "display_data"
    },
    {
     "data": {
      "text/html": [
       "Synced 5 W&B file(s), 0 media file(s), 0 artifact file(s) and 0 other file(s)"
      ],
      "text/plain": [
       "<IPython.core.display.HTML object>"
      ]
     },
     "metadata": {},
     "output_type": "display_data"
    },
    {
     "data": {
      "text/html": [
       "\n",
       "                    <br/>Synced <strong style=\"color:#cdcd00\">dandy-fog-5</strong>: <a href=\"https://wandb.ai/oe_sarmanova/DANN_ethanol_test_stop_100_MLP_N02_64_16_f_batch_64_19/runs/1orlkkf1\" target=\"_blank\">https://wandb.ai/oe_sarmanova/DANN_ethanol_test_stop_100_MLP_N02_64_16_f_batch_64_19/runs/1orlkkf1</a><br/>\n",
       "                "
      ],
      "text/plain": [
       "<IPython.core.display.HTML object>"
      ]
     },
     "metadata": {},
     "output_type": "display_data"
    },
    {
     "name": "stderr",
     "output_type": "stream",
     "text": [
      "wandb: wandb version 0.17.0 is available!  To upgrade, please run:\n",
      "wandb:  $ pip install wandb --upgrade\n"
     ]
    },
    {
     "data": {
      "text/html": [
       "\n",
       "                Tracking run with wandb version 0.10.15<br/>\n",
       "                Syncing run <strong style=\"color:#cdcd00\">hardy-aardvark-6</strong> to <a href=\"https://wandb.ai\" target=\"_blank\">Weights & Biases</a> <a href=\"https://docs.wandb.com/integrations/jupyter.html\" target=\"_blank\">(Documentation)</a>.<br/>\n",
       "                Project page: <a href=\"https://wandb.ai/oe_sarmanova/DANN_ethanol_test_stop_100_MLP_N02_64_16_f_batch_64_19\" target=\"_blank\">https://wandb.ai/oe_sarmanova/DANN_ethanol_test_stop_100_MLP_N02_64_16_f_batch_64_19</a><br/>\n",
       "                Run page: <a href=\"https://wandb.ai/oe_sarmanova/DANN_ethanol_test_stop_100_MLP_N02_64_16_f_batch_64_19/runs/8z9avri1\" target=\"_blank\">https://wandb.ai/oe_sarmanova/DANN_ethanol_test_stop_100_MLP_N02_64_16_f_batch_64_19/runs/8z9avri1</a><br/>\n",
       "                Run data is saved locally in <code>C:\\Users\\helga\\wines_november\\wandb\\run-20240528_132221-8z9avri1</code><br/><br/>\n",
       "            "
      ],
      "text/plain": [
       "<IPython.core.display.HTML object>"
      ]
     },
     "metadata": {},
     "output_type": "display_data"
    },
    {
     "name": "stderr",
     "output_type": "stream",
     "text": [
      "wandb: WARNING Calling run.save without any arguments is deprecated.Changes to attributes are automatically persisted.\n"
     ]
    },
    {
     "name": "stdout",
     "output_type": "stream",
     "text": [
      "Reset trainable parameters of layer = Linear(in_features=1868, out_features=64, bias=True)\n",
      "Reset trainable parameters of layer = Linear(in_features=64, out_features=16, bias=True)\n",
      "Reset trainable parameters of layer = Linear(in_features=16, out_features=1, bias=True)\n",
      "Reset trainable parameters of layer = Linear(in_features=16, out_features=1, bias=True)\n"
     ]
    },
    {
     "data": {
      "text/html": [
       "<br/>Waiting for W&B process to finish, PID 18928<br/>Program ended successfully."
      ],
      "text/plain": [
       "<IPython.core.display.HTML object>"
      ]
     },
     "metadata": {},
     "output_type": "display_data"
    },
    {
     "data": {
      "application/vnd.jupyter.widget-view+json": {
       "model_id": "",
       "version_major": 2,
       "version_minor": 0
      },
      "text/plain": [
       "VBox(children=(Label(value=' 0.00MB of 0.00MB uploaded (0.00MB deduped)\\r'), FloatProgress(value=1.0, max=1.0)…"
      ]
     },
     "metadata": {},
     "output_type": "display_data"
    },
    {
     "data": {
      "text/html": [
       "Find user logs for this run at: <code>C:\\Users\\helga\\wines_november\\wandb\\run-20240528_132221-8z9avri1\\logs\\debug.log</code>"
      ],
      "text/plain": [
       "<IPython.core.display.HTML object>"
      ]
     },
     "metadata": {},
     "output_type": "display_data"
    },
    {
     "data": {
      "text/html": [
       "Find internal logs for this run at: <code>C:\\Users\\helga\\wines_november\\wandb\\run-20240528_132221-8z9avri1\\logs\\debug-internal.log</code>"
      ],
      "text/plain": [
       "<IPython.core.display.HTML object>"
      ]
     },
     "metadata": {},
     "output_type": "display_data"
    },
    {
     "data": {
      "text/html": [
       "<h3>Run summary:</h3><br/><style>\n",
       "    table.wandb td:nth-child(1) { padding: 0 10px; text-align: right }\n",
       "    </style><table class=\"wandb\">\n",
       "<tr><td>trn_loss</td><td>0.56195</td></tr><tr><td>vld_loss</td><td>3.01135</td></tr><tr><td>_step</td><td>1799</td></tr><tr><td>_runtime</td><td>415</td></tr><tr><td>_timestamp</td><td>1716892156</td></tr><tr><td>clsf_trn_loss</td><td>0.59847</td></tr><tr><td>clsf_vld_loss</td><td>0.40855</td></tr><tr><td>dscr_trn_loss</td><td>0.36519</td></tr><tr><td>dscr_vld_loss</td><td>0.43236</td></tr></table>"
      ],
      "text/plain": [
       "<IPython.core.display.HTML object>"
      ]
     },
     "metadata": {},
     "output_type": "display_data"
    },
    {
     "data": {
      "text/html": [
       "<h3>Run history:</h3><br/><style>\n",
       "    table.wandb td:nth-child(1) { padding: 0 10px; text-align: right }\n",
       "    </style><table class=\"wandb\">\n",
       "<tr><td>trn_loss</td><td>██▇▆▃▂▁▁▁▁▁▂▁▁▁▁▂▁▁▁▁▁▁▁▁▁▁▁▁▁▁▁▁▁▁▁▁▁▁▁</td></tr><tr><td>vld_loss</td><td>██▇▆▃▂▁▁▁▁▁▁▁▁▁▁▁▁▁▁▁▁▁▁▁▁▁▁▁▁▁▁▁▁▁▁▁▁▁▁</td></tr><tr><td>_step</td><td>▁▁▁▂▂▂▂▂▂▃▃▃▃▃▃▄▄▄▄▄▅▅▅▅▅▅▆▆▆▆▆▇▇▇▇▇▇███</td></tr><tr><td>_runtime</td><td>▁▁▁▁▂▂▂▂▂▃▃▃▃▃▃▄▄▄▄▄▅▅▅▅▅▅▆▆▆▆▆▇▇▇▇▇▇███</td></tr><tr><td>_timestamp</td><td>▁▁▁▁▂▂▂▂▂▃▃▃▃▃▃▄▄▄▄▄▅▅▅▅▅▅▆▆▆▆▆▇▇▇▇▇▇███</td></tr><tr><td>clsf_trn_loss</td><td>██▇▆▃▂▁▁▁▁▁▂▁▁▁▁▂▁▁▁▁▁▁▁▁▁▁▁▁▁▁▁▁▁▁▁▁▁▁▁</td></tr><tr><td>clsf_vld_loss</td><td>██▄▆▃▂▂▁▁▁▁▁▁▁▁▁▁▁▁▁▁▁▁▁▁▁▁▁▁▁▁▁▁▁▁▁▁▁▁▁</td></tr><tr><td>dscr_trn_loss</td><td>▇▆▁▅█▅▃▃▂▄▅▄▄▃▁▃▁▃▄▂▃▂▄▄▁▂▅▃▃▃▃▃▄▅▂▃▂▅▄▄</td></tr><tr><td>dscr_vld_loss</td><td>▆▅▁█▄▆▁▃▃▅▃▂▂▂▄▃▅▄▃▂▅▅▅▃▃▄▄▅▄▂▄▃▂▄▄▄▃▂▄▅</td></tr></table><br/>"
      ],
      "text/plain": [
       "<IPython.core.display.HTML object>"
      ]
     },
     "metadata": {},
     "output_type": "display_data"
    },
    {
     "data": {
      "text/html": [
       "Synced 5 W&B file(s), 0 media file(s), 0 artifact file(s) and 0 other file(s)"
      ],
      "text/plain": [
       "<IPython.core.display.HTML object>"
      ]
     },
     "metadata": {},
     "output_type": "display_data"
    },
    {
     "data": {
      "text/html": [
       "\n",
       "                    <br/>Synced <strong style=\"color:#cdcd00\">hardy-aardvark-6</strong>: <a href=\"https://wandb.ai/oe_sarmanova/DANN_ethanol_test_stop_100_MLP_N02_64_16_f_batch_64_19/runs/8z9avri1\" target=\"_blank\">https://wandb.ai/oe_sarmanova/DANN_ethanol_test_stop_100_MLP_N02_64_16_f_batch_64_19/runs/8z9avri1</a><br/>\n",
       "                "
      ],
      "text/plain": [
       "<IPython.core.display.HTML object>"
      ]
     },
     "metadata": {},
     "output_type": "display_data"
    },
    {
     "name": "stderr",
     "output_type": "stream",
     "text": [
      "wandb: wandb version 0.17.0 is available!  To upgrade, please run:\n",
      "wandb:  $ pip install wandb --upgrade\n"
     ]
    },
    {
     "data": {
      "text/html": [
       "\n",
       "                Tracking run with wandb version 0.10.15<br/>\n",
       "                Syncing run <strong style=\"color:#cdcd00\">trim-wood-7</strong> to <a href=\"https://wandb.ai\" target=\"_blank\">Weights & Biases</a> <a href=\"https://docs.wandb.com/integrations/jupyter.html\" target=\"_blank\">(Documentation)</a>.<br/>\n",
       "                Project page: <a href=\"https://wandb.ai/oe_sarmanova/DANN_ethanol_test_stop_100_MLP_N02_64_16_f_batch_64_19\" target=\"_blank\">https://wandb.ai/oe_sarmanova/DANN_ethanol_test_stop_100_MLP_N02_64_16_f_batch_64_19</a><br/>\n",
       "                Run page: <a href=\"https://wandb.ai/oe_sarmanova/DANN_ethanol_test_stop_100_MLP_N02_64_16_f_batch_64_19/runs/2m424ehj\" target=\"_blank\">https://wandb.ai/oe_sarmanova/DANN_ethanol_test_stop_100_MLP_N02_64_16_f_batch_64_19/runs/2m424ehj</a><br/>\n",
       "                Run data is saved locally in <code>C:\\Users\\helga\\wines_november\\wandb\\run-20240528_132922-2m424ehj</code><br/><br/>\n",
       "            "
      ],
      "text/plain": [
       "<IPython.core.display.HTML object>"
      ]
     },
     "metadata": {},
     "output_type": "display_data"
    },
    {
     "name": "stderr",
     "output_type": "stream",
     "text": [
      "wandb: WARNING Calling run.save without any arguments is deprecated.Changes to attributes are automatically persisted.\n"
     ]
    },
    {
     "name": "stdout",
     "output_type": "stream",
     "text": [
      "Reset trainable parameters of layer = Linear(in_features=1868, out_features=64, bias=True)\n",
      "Reset trainable parameters of layer = Linear(in_features=64, out_features=16, bias=True)\n",
      "Reset trainable parameters of layer = Linear(in_features=16, out_features=1, bias=True)\n",
      "Reset trainable parameters of layer = Linear(in_features=16, out_features=1, bias=True)\n"
     ]
    },
    {
     "data": {
      "text/html": [
       "<br/>Waiting for W&B process to finish, PID 25448<br/>Program ended successfully."
      ],
      "text/plain": [
       "<IPython.core.display.HTML object>"
      ]
     },
     "metadata": {},
     "output_type": "display_data"
    },
    {
     "data": {
      "application/vnd.jupyter.widget-view+json": {
       "model_id": "",
       "version_major": 2,
       "version_minor": 0
      },
      "text/plain": [
       "VBox(children=(Label(value=' 0.00MB of 0.00MB uploaded (0.00MB deduped)\\r'), FloatProgress(value=1.0, max=1.0)…"
      ]
     },
     "metadata": {},
     "output_type": "display_data"
    },
    {
     "data": {
      "text/html": [
       "Find user logs for this run at: <code>C:\\Users\\helga\\wines_november\\wandb\\run-20240528_132922-2m424ehj\\logs\\debug.log</code>"
      ],
      "text/plain": [
       "<IPython.core.display.HTML object>"
      ]
     },
     "metadata": {},
     "output_type": "display_data"
    },
    {
     "data": {
      "text/html": [
       "Find internal logs for this run at: <code>C:\\Users\\helga\\wines_november\\wandb\\run-20240528_132922-2m424ehj\\logs\\debug-internal.log</code>"
      ],
      "text/plain": [
       "<IPython.core.display.HTML object>"
      ]
     },
     "metadata": {},
     "output_type": "display_data"
    },
    {
     "data": {
      "text/html": [
       "<h3>Run summary:</h3><br/><style>\n",
       "    table.wandb td:nth-child(1) { padding: 0 10px; text-align: right }\n",
       "    </style><table class=\"wandb\">\n",
       "<tr><td>trn_loss</td><td>0.4932</td></tr><tr><td>vld_loss</td><td>2.254</td></tr><tr><td>_step</td><td>1499</td></tr><tr><td>_runtime</td><td>345</td></tr><tr><td>_timestamp</td><td>1716892507</td></tr><tr><td>clsf_trn_loss</td><td>0.5297</td></tr><tr><td>clsf_vld_loss</td><td>0.61152</td></tr><tr><td>dscr_trn_loss</td><td>0.36505</td></tr><tr><td>dscr_vld_loss</td><td>0.43037</td></tr></table>"
      ],
      "text/plain": [
       "<IPython.core.display.HTML object>"
      ]
     },
     "metadata": {},
     "output_type": "display_data"
    },
    {
     "data": {
      "text/html": [
       "<h3>Run history:</h3><br/><style>\n",
       "    table.wandb td:nth-child(1) { padding: 0 10px; text-align: right }\n",
       "    </style><table class=\"wandb\">\n",
       "<tr><td>trn_loss</td><td>█▇▅▄▂▂▂▁▁▁▁▁▁▁▁▂▁▁▁▁▁▁▁▁▁▁▁▁▁▁▁▁▁▁▁▁▁▁▁▁</td></tr><tr><td>vld_loss</td><td>█▇▆▄▂▂▁▁▁▁▁▁▁▁▁▁▁▁▁▁▁▁▁▁▁▁▁▁▁▁▁▁▁▁▁▁▁▁▁▁</td></tr><tr><td>_step</td><td>▁▁▁▂▂▂▂▂▂▃▃▃▃▃▄▄▄▄▄▄▅▅▅▅▅▅▆▆▆▆▆▇▇▇▇▇▇███</td></tr><tr><td>_runtime</td><td>▁▁▁▂▂▂▂▂▂▃▃▃▃▃▃▄▄▄▄▄▅▅▅▅▅▅▆▆▆▆▆▇▇▇▇▇▇███</td></tr><tr><td>_timestamp</td><td>▁▁▁▂▂▂▂▂▂▃▃▃▃▃▃▄▄▄▄▄▅▅▅▅▅▅▆▆▆▆▆▇▇▇▇▇▇███</td></tr><tr><td>clsf_trn_loss</td><td>█▇▅▄▂▂▂▁▁▁▁▁▁▁▁▂▁▁▁▁▁▁▁▁▁▁▁▁▁▁▁▁▁▁▁▁▁▁▁▁</td></tr><tr><td>clsf_vld_loss</td><td>█▆▇▅▂▂▂▁▁▁▁▁▁▁▁▁▁▁▁▁▁▁▁▁▁▁▁▁▁▁▁▁▁▁▁▁▁▂▁▁</td></tr><tr><td>dscr_trn_loss</td><td>▅▅▄▁█▄▃▃▄▄▃▃▃▄▃▃▃▃▃▃▃▃▃▃▃▂▃▃▃▂▃▃▃▄▃▃▄▃▂▃</td></tr><tr><td>dscr_vld_loss</td><td>▃▃▃▁█▅▆▃▂▂▂▂▂▃▂▂▂▂▂▂▂▂▂▂▂▂▃▂▂▃▃▂▂▂▂▂▂▂▂▂</td></tr></table><br/>"
      ],
      "text/plain": [
       "<IPython.core.display.HTML object>"
      ]
     },
     "metadata": {},
     "output_type": "display_data"
    },
    {
     "data": {
      "text/html": [
       "Synced 5 W&B file(s), 0 media file(s), 0 artifact file(s) and 0 other file(s)"
      ],
      "text/plain": [
       "<IPython.core.display.HTML object>"
      ]
     },
     "metadata": {},
     "output_type": "display_data"
    },
    {
     "data": {
      "text/html": [
       "\n",
       "                    <br/>Synced <strong style=\"color:#cdcd00\">trim-wood-7</strong>: <a href=\"https://wandb.ai/oe_sarmanova/DANN_ethanol_test_stop_100_MLP_N02_64_16_f_batch_64_19/runs/2m424ehj\" target=\"_blank\">https://wandb.ai/oe_sarmanova/DANN_ethanol_test_stop_100_MLP_N02_64_16_f_batch_64_19/runs/2m424ehj</a><br/>\n",
       "                "
      ],
      "text/plain": [
       "<IPython.core.display.HTML object>"
      ]
     },
     "metadata": {},
     "output_type": "display_data"
    },
    {
     "name": "stderr",
     "output_type": "stream",
     "text": [
      "wandb: wandb version 0.17.0 is available!  To upgrade, please run:\n",
      "wandb:  $ pip install wandb --upgrade\n"
     ]
    },
    {
     "data": {
      "text/html": [
       "\n",
       "                Tracking run with wandb version 0.10.15<br/>\n",
       "                Syncing run <strong style=\"color:#cdcd00\">spring-water-8</strong> to <a href=\"https://wandb.ai\" target=\"_blank\">Weights & Biases</a> <a href=\"https://docs.wandb.com/integrations/jupyter.html\" target=\"_blank\">(Documentation)</a>.<br/>\n",
       "                Project page: <a href=\"https://wandb.ai/oe_sarmanova/DANN_ethanol_test_stop_100_MLP_N02_64_16_f_batch_64_19\" target=\"_blank\">https://wandb.ai/oe_sarmanova/DANN_ethanol_test_stop_100_MLP_N02_64_16_f_batch_64_19</a><br/>\n",
       "                Run page: <a href=\"https://wandb.ai/oe_sarmanova/DANN_ethanol_test_stop_100_MLP_N02_64_16_f_batch_64_19/runs/3k1jn5ul\" target=\"_blank\">https://wandb.ai/oe_sarmanova/DANN_ethanol_test_stop_100_MLP_N02_64_16_f_batch_64_19/runs/3k1jn5ul</a><br/>\n",
       "                Run data is saved locally in <code>C:\\Users\\helga\\wines_november\\wandb\\run-20240528_133523-3k1jn5ul</code><br/><br/>\n",
       "            "
      ],
      "text/plain": [
       "<IPython.core.display.HTML object>"
      ]
     },
     "metadata": {},
     "output_type": "display_data"
    },
    {
     "name": "stderr",
     "output_type": "stream",
     "text": [
      "wandb: WARNING Calling run.save without any arguments is deprecated.Changes to attributes are automatically persisted.\n"
     ]
    },
    {
     "name": "stdout",
     "output_type": "stream",
     "text": [
      "Reset trainable parameters of layer = Linear(in_features=1868, out_features=64, bias=True)\n",
      "Reset trainable parameters of layer = Linear(in_features=64, out_features=16, bias=True)\n",
      "Reset trainable parameters of layer = Linear(in_features=16, out_features=1, bias=True)\n",
      "Reset trainable parameters of layer = Linear(in_features=16, out_features=1, bias=True)\n"
     ]
    },
    {
     "data": {
      "text/html": [
       "<br/>Waiting for W&B process to finish, PID 17896<br/>Program ended successfully."
      ],
      "text/plain": [
       "<IPython.core.display.HTML object>"
      ]
     },
     "metadata": {},
     "output_type": "display_data"
    },
    {
     "data": {
      "application/vnd.jupyter.widget-view+json": {
       "model_id": "",
       "version_major": 2,
       "version_minor": 0
      },
      "text/plain": [
       "VBox(children=(Label(value=' 0.00MB of 0.00MB uploaded (0.00MB deduped)\\r'), FloatProgress(value=1.0, max=1.0)…"
      ]
     },
     "metadata": {},
     "output_type": "display_data"
    },
    {
     "data": {
      "text/html": [
       "Find user logs for this run at: <code>C:\\Users\\helga\\wines_november\\wandb\\run-20240528_133523-3k1jn5ul\\logs\\debug.log</code>"
      ],
      "text/plain": [
       "<IPython.core.display.HTML object>"
      ]
     },
     "metadata": {},
     "output_type": "display_data"
    },
    {
     "data": {
      "text/html": [
       "Find internal logs for this run at: <code>C:\\Users\\helga\\wines_november\\wandb\\run-20240528_133523-3k1jn5ul\\logs\\debug-internal.log</code>"
      ],
      "text/plain": [
       "<IPython.core.display.HTML object>"
      ]
     },
     "metadata": {},
     "output_type": "display_data"
    },
    {
     "data": {
      "text/html": [
       "<h3>Run summary:</h3><br/><style>\n",
       "    table.wandb td:nth-child(1) { padding: 0 10px; text-align: right }\n",
       "    </style><table class=\"wandb\">\n",
       "<tr><td>trn_loss</td><td>0.86568</td></tr><tr><td>vld_loss</td><td>1.52235</td></tr><tr><td>_step</td><td>2099</td></tr><tr><td>_runtime</td><td>474</td></tr><tr><td>_timestamp</td><td>1716892997</td></tr><tr><td>clsf_trn_loss</td><td>0.90312</td></tr><tr><td>clsf_vld_loss</td><td>0.20862</td></tr><tr><td>dscr_trn_loss</td><td>0.37441</td></tr><tr><td>dscr_vld_loss</td><td>0.44074</td></tr></table>"
      ],
      "text/plain": [
       "<IPython.core.display.HTML object>"
      ]
     },
     "metadata": {},
     "output_type": "display_data"
    },
    {
     "data": {
      "text/html": [
       "<h3>Run history:</h3><br/><style>\n",
       "    table.wandb td:nth-child(1) { padding: 0 10px; text-align: right }\n",
       "    </style><table class=\"wandb\">\n",
       "<tr><td>trn_loss</td><td>▇█▂▁▁▁▂▁▁▁▁▁▁▁▁▁▁▁▁▁▁▁▁▁▁▁▁▁▁▁▁▁▁▁▁▁▁▁▁▁</td></tr><tr><td>vld_loss</td><td>█▆▃▁▁▁▁▁▁▁▁▁▁▁▁▁▁▁▁▁▁▁▁▁▁▁▁▁▁▁▁▁▁▁▁▁▁▁▁▁</td></tr><tr><td>_step</td><td>▁▁▁▁▂▂▂▂▂▃▃▃▃▃▃▄▄▄▄▄▅▅▅▅▅▅▆▆▆▆▆▆▇▇▇▇▇███</td></tr><tr><td>_runtime</td><td>▁▁▁▁▂▂▂▂▂▂▃▃▃▃▃▄▄▄▄▄▄▅▅▅▅▅▆▆▆▆▆▆▇▇▇▇▇███</td></tr><tr><td>_timestamp</td><td>▁▁▁▁▂▂▂▂▂▂▃▃▃▃▃▄▄▄▄▄▄▅▅▅▅▅▆▆▆▆▆▆▇▇▇▇▇███</td></tr><tr><td>clsf_trn_loss</td><td>▇█▂▁▁▁▂▁▁▁▁▁▁▁▁▁▁▁▁▁▁▁▁▁▁▁▁▁▁▁▁▁▁▁▁▁▁▁▁▁</td></tr><tr><td>clsf_vld_loss</td><td>█▅▄▂▁▁▁▁▁▁▁▁▁▁▁▁▁▁▁▁▁▁▁▁▁▁▁▁▁▁▁▁▂▁▁▁▁▁▁▁</td></tr><tr><td>dscr_trn_loss</td><td>▅▅▄▄▆▄▄▂▁▄▃▄▃▁▃▃▃▂▃▄▂▄▃▃▄▄▅▅▆▅▅▅▆▆█▆▆▇██</td></tr><tr><td>dscr_vld_loss</td><td>▄▆▂▃▁▃▂▄▁▁▁▃▁▁▁▂▃▁▁▂▂▁▃▂▃▃▄▄▅▄▄▅▅▄▅▇▅█▇▆</td></tr></table><br/>"
      ],
      "text/plain": [
       "<IPython.core.display.HTML object>"
      ]
     },
     "metadata": {},
     "output_type": "display_data"
    },
    {
     "data": {
      "text/html": [
       "Synced 5 W&B file(s), 0 media file(s), 0 artifact file(s) and 0 other file(s)"
      ],
      "text/plain": [
       "<IPython.core.display.HTML object>"
      ]
     },
     "metadata": {},
     "output_type": "display_data"
    },
    {
     "data": {
      "text/html": [
       "\n",
       "                    <br/>Synced <strong style=\"color:#cdcd00\">spring-water-8</strong>: <a href=\"https://wandb.ai/oe_sarmanova/DANN_ethanol_test_stop_100_MLP_N02_64_16_f_batch_64_19/runs/3k1jn5ul\" target=\"_blank\">https://wandb.ai/oe_sarmanova/DANN_ethanol_test_stop_100_MLP_N02_64_16_f_batch_64_19/runs/3k1jn5ul</a><br/>\n",
       "                "
      ],
      "text/plain": [
       "<IPython.core.display.HTML object>"
      ]
     },
     "metadata": {},
     "output_type": "display_data"
    },
    {
     "name": "stderr",
     "output_type": "stream",
     "text": [
      "wandb: wandb version 0.17.0 is available!  To upgrade, please run:\n",
      "wandb:  $ pip install wandb --upgrade\n"
     ]
    },
    {
     "data": {
      "text/html": [
       "\n",
       "                Tracking run with wandb version 0.10.15<br/>\n",
       "                Syncing run <strong style=\"color:#cdcd00\">rural-hill-9</strong> to <a href=\"https://wandb.ai\" target=\"_blank\">Weights & Biases</a> <a href=\"https://docs.wandb.com/integrations/jupyter.html\" target=\"_blank\">(Documentation)</a>.<br/>\n",
       "                Project page: <a href=\"https://wandb.ai/oe_sarmanova/DANN_ethanol_test_stop_100_MLP_N02_64_16_f_batch_64_19\" target=\"_blank\">https://wandb.ai/oe_sarmanova/DANN_ethanol_test_stop_100_MLP_N02_64_16_f_batch_64_19</a><br/>\n",
       "                Run page: <a href=\"https://wandb.ai/oe_sarmanova/DANN_ethanol_test_stop_100_MLP_N02_64_16_f_batch_64_19/runs/11irg4du\" target=\"_blank\">https://wandb.ai/oe_sarmanova/DANN_ethanol_test_stop_100_MLP_N02_64_16_f_batch_64_19/runs/11irg4du</a><br/>\n",
       "                Run data is saved locally in <code>C:\\Users\\helga\\wines_november\\wandb\\run-20240528_134322-11irg4du</code><br/><br/>\n",
       "            "
      ],
      "text/plain": [
       "<IPython.core.display.HTML object>"
      ]
     },
     "metadata": {},
     "output_type": "display_data"
    },
    {
     "name": "stderr",
     "output_type": "stream",
     "text": [
      "wandb: WARNING Calling run.save without any arguments is deprecated.Changes to attributes are automatically persisted.\n"
     ]
    },
    {
     "name": "stdout",
     "output_type": "stream",
     "text": [
      "Reset trainable parameters of layer = Linear(in_features=1868, out_features=64, bias=True)\n",
      "Reset trainable parameters of layer = Linear(in_features=64, out_features=16, bias=True)\n",
      "Reset trainable parameters of layer = Linear(in_features=16, out_features=1, bias=True)\n",
      "Reset trainable parameters of layer = Linear(in_features=16, out_features=1, bias=True)\n"
     ]
    },
    {
     "data": {
      "text/html": [
       "<br/>Waiting for W&B process to finish, PID 20400<br/>Program ended successfully."
      ],
      "text/plain": [
       "<IPython.core.display.HTML object>"
      ]
     },
     "metadata": {},
     "output_type": "display_data"
    },
    {
     "data": {
      "application/vnd.jupyter.widget-view+json": {
       "model_id": "",
       "version_major": 2,
       "version_minor": 0
      },
      "text/plain": [
       "VBox(children=(Label(value=' 0.00MB of 0.00MB uploaded (0.00MB deduped)\\r'), FloatProgress(value=1.0, max=1.0)…"
      ]
     },
     "metadata": {},
     "output_type": "display_data"
    },
    {
     "data": {
      "text/html": [
       "Find user logs for this run at: <code>C:\\Users\\helga\\wines_november\\wandb\\run-20240528_134322-11irg4du\\logs\\debug.log</code>"
      ],
      "text/plain": [
       "<IPython.core.display.HTML object>"
      ]
     },
     "metadata": {},
     "output_type": "display_data"
    },
    {
     "data": {
      "text/html": [
       "Find internal logs for this run at: <code>C:\\Users\\helga\\wines_november\\wandb\\run-20240528_134322-11irg4du\\logs\\debug-internal.log</code>"
      ],
      "text/plain": [
       "<IPython.core.display.HTML object>"
      ]
     },
     "metadata": {},
     "output_type": "display_data"
    },
    {
     "data": {
      "text/html": [
       "<h3>Run summary:</h3><br/><style>\n",
       "    table.wandb td:nth-child(1) { padding: 0 10px; text-align: right }\n",
       "    </style><table class=\"wandb\">\n",
       "<tr><td>trn_loss</td><td>0.35097</td></tr><tr><td>vld_loss</td><td>2.36537</td></tr><tr><td>_step</td><td>1499</td></tr><tr><td>_runtime</td><td>341</td></tr><tr><td>_timestamp</td><td>1716893343</td></tr><tr><td>clsf_trn_loss</td><td>0.38746</td></tr><tr><td>clsf_vld_loss</td><td>0.70992</td></tr><tr><td>dscr_trn_loss</td><td>0.36486</td></tr><tr><td>dscr_vld_loss</td><td>0.42833</td></tr></table>"
      ],
      "text/plain": [
       "<IPython.core.display.HTML object>"
      ]
     },
     "metadata": {},
     "output_type": "display_data"
    },
    {
     "data": {
      "text/html": [
       "<h3>Run history:</h3><br/><style>\n",
       "    table.wandb td:nth-child(1) { padding: 0 10px; text-align: right }\n",
       "    </style><table class=\"wandb\">\n",
       "<tr><td>trn_loss</td><td>█▇▄▂▁▂▁▁▂▁▁▁▁▁▁▁▁▁▁▁▂▁▁▁▂▁▁▁▁▁▁▁▁▁▁▁▂▁▁▁</td></tr><tr><td>vld_loss</td><td>█▆▄▂▂▁▁▁▁▁▁▁▁▁▁▁▁▁▁▁▁▁▁▁▁▁▁▁▁▁▁▁▁▁▁▁▁▁▁▁</td></tr><tr><td>_step</td><td>▁▁▁▂▂▂▂▂▂▃▃▃▃▃▄▄▄▄▄▄▅▅▅▅▅▅▆▆▆▆▆▇▇▇▇▇▇███</td></tr><tr><td>_runtime</td><td>▁▁▁▂▂▂▂▂▂▃▃▃▃▃▃▄▄▄▄▄▅▅▅▅▅▅▆▆▆▆▆▇▇▇▇▇▇███</td></tr><tr><td>_timestamp</td><td>▁▁▁▂▂▂▂▂▂▃▃▃▃▃▃▄▄▄▄▄▅▅▅▅▅▅▆▆▆▆▆▇▇▇▇▇▇███</td></tr><tr><td>clsf_trn_loss</td><td>█▇▄▂▁▂▁▁▂▁▁▁▁▁▁▁▁▁▁▁▂▁▁▁▂▁▁▁▁▁▁▁▁▁▁▁▂▁▁▁</td></tr><tr><td>clsf_vld_loss</td><td>█▅▄▂▂▁▁▁▁▁▁▁▁▁▁▁▁▁▁▁▁▁▁▁▁▁▁▁▁▁▁▁▁▁▁▁▁▁▁▁</td></tr><tr><td>dscr_trn_loss</td><td>█▅▆▃▄▃▃▂▂▃▃▃▂▂▃▂▂▃▃▂▃▃▃▂▃▂▃▂▂▂▂▃▂▂▁▂▃▃▂▂</td></tr><tr><td>dscr_vld_loss</td><td>█▆▆▃▂▃▄▂▃▄▄▃▂▂▃▃▄▄▃▃▃▃▃▃▂▂▂▃▃▂▃▃▃▂▁▂▃▁▂▂</td></tr></table><br/>"
      ],
      "text/plain": [
       "<IPython.core.display.HTML object>"
      ]
     },
     "metadata": {},
     "output_type": "display_data"
    },
    {
     "data": {
      "text/html": [
       "Synced 5 W&B file(s), 0 media file(s), 0 artifact file(s) and 0 other file(s)"
      ],
      "text/plain": [
       "<IPython.core.display.HTML object>"
      ]
     },
     "metadata": {},
     "output_type": "display_data"
    },
    {
     "data": {
      "text/html": [
       "\n",
       "                    <br/>Synced <strong style=\"color:#cdcd00\">rural-hill-9</strong>: <a href=\"https://wandb.ai/oe_sarmanova/DANN_ethanol_test_stop_100_MLP_N02_64_16_f_batch_64_19/runs/11irg4du\" target=\"_blank\">https://wandb.ai/oe_sarmanova/DANN_ethanol_test_stop_100_MLP_N02_64_16_f_batch_64_19/runs/11irg4du</a><br/>\n",
       "                "
      ],
      "text/plain": [
       "<IPython.core.display.HTML object>"
      ]
     },
     "metadata": {},
     "output_type": "display_data"
    },
    {
     "name": "stderr",
     "output_type": "stream",
     "text": [
      "wandb: wandb version 0.17.0 is available!  To upgrade, please run:\n",
      "wandb:  $ pip install wandb --upgrade\n"
     ]
    },
    {
     "data": {
      "text/html": [
       "\n",
       "                Tracking run with wandb version 0.10.15<br/>\n",
       "                Syncing run <strong style=\"color:#cdcd00\">daily-armadillo-10</strong> to <a href=\"https://wandb.ai\" target=\"_blank\">Weights & Biases</a> <a href=\"https://docs.wandb.com/integrations/jupyter.html\" target=\"_blank\">(Documentation)</a>.<br/>\n",
       "                Project page: <a href=\"https://wandb.ai/oe_sarmanova/DANN_ethanol_test_stop_100_MLP_N02_64_16_f_batch_64_19\" target=\"_blank\">https://wandb.ai/oe_sarmanova/DANN_ethanol_test_stop_100_MLP_N02_64_16_f_batch_64_19</a><br/>\n",
       "                Run page: <a href=\"https://wandb.ai/oe_sarmanova/DANN_ethanol_test_stop_100_MLP_N02_64_16_f_batch_64_19/runs/8vzaum8a\" target=\"_blank\">https://wandb.ai/oe_sarmanova/DANN_ethanol_test_stop_100_MLP_N02_64_16_f_batch_64_19/runs/8vzaum8a</a><br/>\n",
       "                Run data is saved locally in <code>C:\\Users\\helga\\wines_november\\wandb\\run-20240528_134910-8vzaum8a</code><br/><br/>\n",
       "            "
      ],
      "text/plain": [
       "<IPython.core.display.HTML object>"
      ]
     },
     "metadata": {},
     "output_type": "display_data"
    },
    {
     "name": "stderr",
     "output_type": "stream",
     "text": [
      "wandb: WARNING Calling run.save without any arguments is deprecated.Changes to attributes are automatically persisted.\n"
     ]
    },
    {
     "name": "stdout",
     "output_type": "stream",
     "text": [
      "Reset trainable parameters of layer = Linear(in_features=1868, out_features=64, bias=True)\n",
      "Reset trainable parameters of layer = Linear(in_features=64, out_features=16, bias=True)\n",
      "Reset trainable parameters of layer = Linear(in_features=16, out_features=1, bias=True)\n",
      "Reset trainable parameters of layer = Linear(in_features=16, out_features=1, bias=True)\n"
     ]
    },
    {
     "data": {
      "text/html": [
       "<br/>Waiting for W&B process to finish, PID 1192<br/>Program ended successfully."
      ],
      "text/plain": [
       "<IPython.core.display.HTML object>"
      ]
     },
     "metadata": {},
     "output_type": "display_data"
    },
    {
     "data": {
      "application/vnd.jupyter.widget-view+json": {
       "model_id": "",
       "version_major": 2,
       "version_minor": 0
      },
      "text/plain": [
       "VBox(children=(Label(value=' 0.00MB of 0.00MB uploaded (0.00MB deduped)\\r'), FloatProgress(value=1.0, max=1.0)…"
      ]
     },
     "metadata": {},
     "output_type": "display_data"
    },
    {
     "data": {
      "text/html": [
       "Find user logs for this run at: <code>C:\\Users\\helga\\wines_november\\wandb\\run-20240528_134910-8vzaum8a\\logs\\debug.log</code>"
      ],
      "text/plain": [
       "<IPython.core.display.HTML object>"
      ]
     },
     "metadata": {},
     "output_type": "display_data"
    },
    {
     "data": {
      "text/html": [
       "Find internal logs for this run at: <code>C:\\Users\\helga\\wines_november\\wandb\\run-20240528_134910-8vzaum8a\\logs\\debug-internal.log</code>"
      ],
      "text/plain": [
       "<IPython.core.display.HTML object>"
      ]
     },
     "metadata": {},
     "output_type": "display_data"
    },
    {
     "data": {
      "text/html": [
       "<h3>Run summary:</h3><br/><style>\n",
       "    table.wandb td:nth-child(1) { padding: 0 10px; text-align: right }\n",
       "    </style><table class=\"wandb\">\n",
       "<tr><td>trn_loss</td><td>0.22517</td></tr><tr><td>vld_loss</td><td>2.01987</td></tr><tr><td>_step</td><td>1799</td></tr><tr><td>_runtime</td><td>410</td></tr><tr><td>_timestamp</td><td>1716893760</td></tr><tr><td>clsf_trn_loss</td><td>0.26188</td></tr><tr><td>clsf_vld_loss</td><td>0.40755</td></tr><tr><td>dscr_trn_loss</td><td>0.36713</td></tr><tr><td>dscr_vld_loss</td><td>0.43239</td></tr></table>"
      ],
      "text/plain": [
       "<IPython.core.display.HTML object>"
      ]
     },
     "metadata": {},
     "output_type": "display_data"
    },
    {
     "data": {
      "text/html": [
       "<h3>Run history:</h3><br/><style>\n",
       "    table.wandb td:nth-child(1) { padding: 0 10px; text-align: right }\n",
       "    </style><table class=\"wandb\">\n",
       "<tr><td>trn_loss</td><td>█▅▂▂▁▁▁▂▁▁▁▁▁▁▁▁▁▁▁▁▁▁▁▁▁▁▁▁▁▁▁▁▁▁▁▁▁▁▁▁</td></tr><tr><td>vld_loss</td><td>█▅▂▁▁▁▁▂▁▁▁▁▁▁▁▁▁▁▁▁▁▁▁▁▁▁▁▁▁▁▁▁▁▁▁▁▁▁▁▁</td></tr><tr><td>_step</td><td>▁▁▁▂▂▂▂▂▂▃▃▃▃▃▃▄▄▄▄▄▅▅▅▅▅▅▆▆▆▆▆▇▇▇▇▇▇███</td></tr><tr><td>_runtime</td><td>▁▁▁▁▂▂▂▂▂▃▃▃▃▃▃▄▄▄▄▄▄▅▅▅▅▅▆▆▆▆▆▇▇▇▇▇▇███</td></tr><tr><td>_timestamp</td><td>▁▁▁▁▂▂▂▂▂▃▃▃▃▃▃▄▄▄▄▄▄▅▅▅▅▅▆▆▆▆▆▇▇▇▇▇▇███</td></tr><tr><td>clsf_trn_loss</td><td>█▅▂▂▁▁▁▂▁▁▁▁▁▁▁▁▁▁▁▁▁▁▁▁▁▁▁▁▁▁▁▁▁▁▁▁▁▁▁▁</td></tr><tr><td>clsf_vld_loss</td><td>██▃▂▂▂▁▃▂▁▁▁▁▂▁▁▂▁▁▁▁▁▁▁▁▁▁▁▁▁▁▁▁▁▂▁▁▂▁▁</td></tr><tr><td>dscr_trn_loss</td><td>▆█▅▄▂▂▄▃▃▄▂▄▂▂▁▃▃▁▂▃▂▁▂▂▂▂▁▂▃▃▂▁▂▃▂▃▃▁▃▄</td></tr><tr><td>dscr_vld_loss</td><td>▆█▁▇▇▃▃▆▄▅▃▄▄▄▅▄▅▄▃▃▄▄▅▅▄▄▃▃▄▅▄▄▃▄▄▅▄▄▅▅</td></tr></table><br/>"
      ],
      "text/plain": [
       "<IPython.core.display.HTML object>"
      ]
     },
     "metadata": {},
     "output_type": "display_data"
    },
    {
     "data": {
      "text/html": [
       "Synced 5 W&B file(s), 0 media file(s), 0 artifact file(s) and 0 other file(s)"
      ],
      "text/plain": [
       "<IPython.core.display.HTML object>"
      ]
     },
     "metadata": {},
     "output_type": "display_data"
    },
    {
     "data": {
      "text/html": [
       "\n",
       "                    <br/>Synced <strong style=\"color:#cdcd00\">daily-armadillo-10</strong>: <a href=\"https://wandb.ai/oe_sarmanova/DANN_ethanol_test_stop_100_MLP_N02_64_16_f_batch_64_19/runs/8vzaum8a\" target=\"_blank\">https://wandb.ai/oe_sarmanova/DANN_ethanol_test_stop_100_MLP_N02_64_16_f_batch_64_19/runs/8vzaum8a</a><br/>\n",
       "                "
      ],
      "text/plain": [
       "<IPython.core.display.HTML object>"
      ]
     },
     "metadata": {},
     "output_type": "display_data"
    },
    {
     "name": "stderr",
     "output_type": "stream",
     "text": [
      "wandb: wandb version 0.17.0 is available!  To upgrade, please run:\n",
      "wandb:  $ pip install wandb --upgrade\n"
     ]
    },
    {
     "data": {
      "text/html": [
       "\n",
       "                Tracking run with wandb version 0.10.15<br/>\n",
       "                Syncing run <strong style=\"color:#cdcd00\">treasured-moon-11</strong> to <a href=\"https://wandb.ai\" target=\"_blank\">Weights & Biases</a> <a href=\"https://docs.wandb.com/integrations/jupyter.html\" target=\"_blank\">(Documentation)</a>.<br/>\n",
       "                Project page: <a href=\"https://wandb.ai/oe_sarmanova/DANN_ethanol_test_stop_100_MLP_N02_64_16_f_batch_64_19\" target=\"_blank\">https://wandb.ai/oe_sarmanova/DANN_ethanol_test_stop_100_MLP_N02_64_16_f_batch_64_19</a><br/>\n",
       "                Run page: <a href=\"https://wandb.ai/oe_sarmanova/DANN_ethanol_test_stop_100_MLP_N02_64_16_f_batch_64_19/runs/37arzik7\" target=\"_blank\">https://wandb.ai/oe_sarmanova/DANN_ethanol_test_stop_100_MLP_N02_64_16_f_batch_64_19/runs/37arzik7</a><br/>\n",
       "                Run data is saved locally in <code>C:\\Users\\helga\\wines_november\\wandb\\run-20240528_135616-37arzik7</code><br/><br/>\n",
       "            "
      ],
      "text/plain": [
       "<IPython.core.display.HTML object>"
      ]
     },
     "metadata": {},
     "output_type": "display_data"
    },
    {
     "name": "stderr",
     "output_type": "stream",
     "text": [
      "wandb: WARNING Calling run.save without any arguments is deprecated.Changes to attributes are automatically persisted.\n"
     ]
    },
    {
     "name": "stdout",
     "output_type": "stream",
     "text": [
      "Reset trainable parameters of layer = Linear(in_features=1868, out_features=64, bias=True)\n",
      "Reset trainable parameters of layer = Linear(in_features=64, out_features=16, bias=True)\n",
      "Reset trainable parameters of layer = Linear(in_features=16, out_features=1, bias=True)\n",
      "Reset trainable parameters of layer = Linear(in_features=16, out_features=1, bias=True)\n"
     ]
    },
    {
     "data": {
      "text/html": [
       "<br/>Waiting for W&B process to finish, PID 21960<br/>Program ended successfully."
      ],
      "text/plain": [
       "<IPython.core.display.HTML object>"
      ]
     },
     "metadata": {},
     "output_type": "display_data"
    },
    {
     "data": {
      "application/vnd.jupyter.widget-view+json": {
       "model_id": "",
       "version_major": 2,
       "version_minor": 0
      },
      "text/plain": [
       "VBox(children=(Label(value=' 0.00MB of 0.00MB uploaded (0.00MB deduped)\\r'), FloatProgress(value=1.0, max=1.0)…"
      ]
     },
     "metadata": {},
     "output_type": "display_data"
    },
    {
     "data": {
      "text/html": [
       "Find user logs for this run at: <code>C:\\Users\\helga\\wines_november\\wandb\\run-20240528_135616-37arzik7\\logs\\debug.log</code>"
      ],
      "text/plain": [
       "<IPython.core.display.HTML object>"
      ]
     },
     "metadata": {},
     "output_type": "display_data"
    },
    {
     "data": {
      "text/html": [
       "Find internal logs for this run at: <code>C:\\Users\\helga\\wines_november\\wandb\\run-20240528_135616-37arzik7\\logs\\debug-internal.log</code>"
      ],
      "text/plain": [
       "<IPython.core.display.HTML object>"
      ]
     },
     "metadata": {},
     "output_type": "display_data"
    },
    {
     "data": {
      "text/html": [
       "<h3>Run summary:</h3><br/><style>\n",
       "    table.wandb td:nth-child(1) { padding: 0 10px; text-align: right }\n",
       "    </style><table class=\"wandb\">\n",
       "<tr><td>trn_loss</td><td>0.43079</td></tr><tr><td>vld_loss</td><td>1.98276</td></tr><tr><td>_step</td><td>2399</td></tr><tr><td>_runtime</td><td>549</td></tr><tr><td>_timestamp</td><td>1716894325</td></tr><tr><td>clsf_trn_loss</td><td>0.46804</td></tr><tr><td>clsf_vld_loss</td><td>0.33597</td></tr><tr><td>dscr_trn_loss</td><td>0.37249</td></tr><tr><td>dscr_vld_loss</td><td>0.43732</td></tr></table>"
      ],
      "text/plain": [
       "<IPython.core.display.HTML object>"
      ]
     },
     "metadata": {},
     "output_type": "display_data"
    },
    {
     "data": {
      "text/html": [
       "<h3>Run history:</h3><br/><style>\n",
       "    table.wandb td:nth-child(1) { padding: 0 10px; text-align: right }\n",
       "    </style><table class=\"wandb\">\n",
       "<tr><td>trn_loss</td><td>█▃▁▁▁▁▁▁▁▁▁▁▁▁▁▁▁▁▁▁▁▁▁▁▁▁▁▁▁▁▁▁▁▁▁▁▁▁▁▁</td></tr><tr><td>vld_loss</td><td>█▃▁▁▁▁▁▁▁▁▁▁▁▁▁▁▁▁▁▁▁▁▁▁▁▁▁▁▁▁▁▁▁▁▁▁▁▁▁▁</td></tr><tr><td>_step</td><td>▁▁▁▁▂▂▂▂▂▃▃▃▃▃▃▄▄▄▄▄▅▅▅▅▅▅▆▆▆▆▆▆▇▇▇▇▇███</td></tr><tr><td>_runtime</td><td>▁▁▁▁▂▂▂▂▂▃▃▃▃▃▃▄▄▄▄▄▅▅▅▅▅▅▆▆▆▆▆▆▇▇▇▇▇███</td></tr><tr><td>_timestamp</td><td>▁▁▁▁▂▂▂▂▂▃▃▃▃▃▃▄▄▄▄▄▅▅▅▅▅▅▆▆▆▆▆▆▇▇▇▇▇███</td></tr><tr><td>clsf_trn_loss</td><td>█▃▁▁▁▁▁▁▁▁▁▁▁▁▁▁▁▁▁▁▁▁▁▁▁▁▁▁▁▁▁▁▁▁▁▁▁▁▁▁</td></tr><tr><td>clsf_vld_loss</td><td>█▃▁▁▂▁▂▁▁▁▁▁▁▁▁▁▁▁▁▁▁▂▂▁▁▁▂▁▁▁▁▁▁▁▁▁▂▁▁▁</td></tr><tr><td>dscr_trn_loss</td><td>▄▇▃▃▂▂▃▃▂▁▂▁▁▂▂▃▃▃▄▄▅▄▄▆▆▆█▆▇▆▇▆▇▇▆▆▇▅▆▅</td></tr><tr><td>dscr_vld_loss</td><td>▃▇▅▃▂▂▂▂▂▄▂▂▁▁▂▁▃▃▃▅▄▄▅▅▅▆▄█▅▆▇▆█▆▅▄▅▅▄▄</td></tr></table><br/>"
      ],
      "text/plain": [
       "<IPython.core.display.HTML object>"
      ]
     },
     "metadata": {},
     "output_type": "display_data"
    },
    {
     "data": {
      "text/html": [
       "Synced 5 W&B file(s), 0 media file(s), 0 artifact file(s) and 0 other file(s)"
      ],
      "text/plain": [
       "<IPython.core.display.HTML object>"
      ]
     },
     "metadata": {},
     "output_type": "display_data"
    },
    {
     "data": {
      "text/html": [
       "\n",
       "                    <br/>Synced <strong style=\"color:#cdcd00\">treasured-moon-11</strong>: <a href=\"https://wandb.ai/oe_sarmanova/DANN_ethanol_test_stop_100_MLP_N02_64_16_f_batch_64_19/runs/37arzik7\" target=\"_blank\">https://wandb.ai/oe_sarmanova/DANN_ethanol_test_stop_100_MLP_N02_64_16_f_batch_64_19/runs/37arzik7</a><br/>\n",
       "                "
      ],
      "text/plain": [
       "<IPython.core.display.HTML object>"
      ]
     },
     "metadata": {},
     "output_type": "display_data"
    },
    {
     "name": "stderr",
     "output_type": "stream",
     "text": [
      "wandb: wandb version 0.17.0 is available!  To upgrade, please run:\n",
      "wandb:  $ pip install wandb --upgrade\n"
     ]
    },
    {
     "data": {
      "text/html": [
       "\n",
       "                Tracking run with wandb version 0.10.15<br/>\n",
       "                Syncing run <strong style=\"color:#cdcd00\">rosy-field-12</strong> to <a href=\"https://wandb.ai\" target=\"_blank\">Weights & Biases</a> <a href=\"https://docs.wandb.com/integrations/jupyter.html\" target=\"_blank\">(Documentation)</a>.<br/>\n",
       "                Project page: <a href=\"https://wandb.ai/oe_sarmanova/DANN_ethanol_test_stop_100_MLP_N02_64_16_f_batch_64_19\" target=\"_blank\">https://wandb.ai/oe_sarmanova/DANN_ethanol_test_stop_100_MLP_N02_64_16_f_batch_64_19</a><br/>\n",
       "                Run page: <a href=\"https://wandb.ai/oe_sarmanova/DANN_ethanol_test_stop_100_MLP_N02_64_16_f_batch_64_19/runs/3emlvbzo\" target=\"_blank\">https://wandb.ai/oe_sarmanova/DANN_ethanol_test_stop_100_MLP_N02_64_16_f_batch_64_19/runs/3emlvbzo</a><br/>\n",
       "                Run data is saved locally in <code>C:\\Users\\helga\\wines_november\\wandb\\run-20240528_140534-3emlvbzo</code><br/><br/>\n",
       "            "
      ],
      "text/plain": [
       "<IPython.core.display.HTML object>"
      ]
     },
     "metadata": {},
     "output_type": "display_data"
    },
    {
     "name": "stderr",
     "output_type": "stream",
     "text": [
      "wandb: WARNING Calling run.save without any arguments is deprecated.Changes to attributes are automatically persisted.\n"
     ]
    },
    {
     "name": "stdout",
     "output_type": "stream",
     "text": [
      "Reset trainable parameters of layer = Linear(in_features=1868, out_features=64, bias=True)\n",
      "Reset trainable parameters of layer = Linear(in_features=64, out_features=16, bias=True)\n",
      "Reset trainable parameters of layer = Linear(in_features=16, out_features=1, bias=True)\n",
      "Reset trainable parameters of layer = Linear(in_features=16, out_features=1, bias=True)\n"
     ]
    },
    {
     "data": {
      "text/html": [
       "<br/>Waiting for W&B process to finish, PID 9936<br/>Program ended successfully."
      ],
      "text/plain": [
       "<IPython.core.display.HTML object>"
      ]
     },
     "metadata": {},
     "output_type": "display_data"
    },
    {
     "data": {
      "application/vnd.jupyter.widget-view+json": {
       "model_id": "",
       "version_major": 2,
       "version_minor": 0
      },
      "text/plain": [
       "VBox(children=(Label(value=' 0.00MB of 0.00MB uploaded (0.00MB deduped)\\r'), FloatProgress(value=1.0, max=1.0)…"
      ]
     },
     "metadata": {},
     "output_type": "display_data"
    },
    {
     "data": {
      "text/html": [
       "Find user logs for this run at: <code>C:\\Users\\helga\\wines_november\\wandb\\run-20240528_140534-3emlvbzo\\logs\\debug.log</code>"
      ],
      "text/plain": [
       "<IPython.core.display.HTML object>"
      ]
     },
     "metadata": {},
     "output_type": "display_data"
    },
    {
     "data": {
      "text/html": [
       "Find internal logs for this run at: <code>C:\\Users\\helga\\wines_november\\wandb\\run-20240528_140534-3emlvbzo\\logs\\debug-internal.log</code>"
      ],
      "text/plain": [
       "<IPython.core.display.HTML object>"
      ]
     },
     "metadata": {},
     "output_type": "display_data"
    },
    {
     "data": {
      "text/html": [
       "<h3>Run summary:</h3><br/><style>\n",
       "    table.wandb td:nth-child(1) { padding: 0 10px; text-align: right }\n",
       "    </style><table class=\"wandb\">\n",
       "<tr><td>trn_loss</td><td>0.45762</td></tr><tr><td>vld_loss</td><td>2.85129</td></tr><tr><td>_step</td><td>2099</td></tr><tr><td>_runtime</td><td>473</td></tr><tr><td>_timestamp</td><td>1716894807</td></tr><tr><td>clsf_trn_loss</td><td>0.49396</td></tr><tr><td>clsf_vld_loss</td><td>0.24875</td></tr><tr><td>dscr_trn_loss</td><td>0.36339</td></tr><tr><td>dscr_vld_loss</td><td>0.43275</td></tr></table>"
      ],
      "text/plain": [
       "<IPython.core.display.HTML object>"
      ]
     },
     "metadata": {},
     "output_type": "display_data"
    },
    {
     "data": {
      "text/html": [
       "<h3>Run history:</h3><br/><style>\n",
       "    table.wandb td:nth-child(1) { padding: 0 10px; text-align: right }\n",
       "    </style><table class=\"wandb\">\n",
       "<tr><td>trn_loss</td><td>▇▆█▄▂▁▁▁▁▁▁▁▁▁▁▁▁▁▁▁▁▁▁▁▁▁▁▁▁▁▁▁▁▁▁▁▁▁▁▁</td></tr><tr><td>vld_loss</td><td>███▄▂▁▁▁▁▁▁▁▁▁▁▁▁▁▁▁▁▁▁▁▁▁▁▁▁▁▁▁▁▁▁▁▁▁▁▁</td></tr><tr><td>_step</td><td>▁▁▁▁▂▂▂▂▂▃▃▃▃▃▃▄▄▄▄▄▅▅▅▅▅▅▆▆▆▆▆▆▇▇▇▇▇███</td></tr><tr><td>_runtime</td><td>▁▁▁▁▂▂▂▂▂▂▃▃▃▃▃▄▄▄▄▄▄▅▅▅▅▅▆▆▆▆▆▆▇▇▇▇▇███</td></tr><tr><td>_timestamp</td><td>▁▁▁▁▂▂▂▂▂▂▃▃▃▃▃▄▄▄▄▄▄▅▅▅▅▅▆▆▆▆▆▆▇▇▇▇▇███</td></tr><tr><td>clsf_trn_loss</td><td>▇▆█▄▂▁▁▁▁▁▁▁▁▁▁▁▁▁▁▁▁▁▁▁▁▁▁▁▁▁▁▁▁▁▁▁▁▁▁▁</td></tr><tr><td>clsf_vld_loss</td><td>▆██▄▂▂▁▁▁▁▁▁▁▁▁▁▁▁▁▁▁▁▁▁▁▁▂▁▂▁▁▁▁▁▁▁▂▁▁▁</td></tr><tr><td>dscr_trn_loss</td><td>▆▅▄▆▁▆▄█▄▂▄▃▆▄▃▆▁▆▅▅▅▆▆▅▆▇▂▁▅▆▃▆▆▁▅▅▆▂▂▃</td></tr><tr><td>dscr_vld_loss</td><td>▆▅▅▆▂▇▅▅▄▅▇▅▇▄▄▆▁▆▇▄▇▄▅▄█▆▇▅▅▅▇▆▅▅▃▅▃▄▇▄</td></tr></table><br/>"
      ],
      "text/plain": [
       "<IPython.core.display.HTML object>"
      ]
     },
     "metadata": {},
     "output_type": "display_data"
    },
    {
     "data": {
      "text/html": [
       "Synced 5 W&B file(s), 0 media file(s), 0 artifact file(s) and 0 other file(s)"
      ],
      "text/plain": [
       "<IPython.core.display.HTML object>"
      ]
     },
     "metadata": {},
     "output_type": "display_data"
    },
    {
     "data": {
      "text/html": [
       "\n",
       "                    <br/>Synced <strong style=\"color:#cdcd00\">rosy-field-12</strong>: <a href=\"https://wandb.ai/oe_sarmanova/DANN_ethanol_test_stop_100_MLP_N02_64_16_f_batch_64_19/runs/3emlvbzo\" target=\"_blank\">https://wandb.ai/oe_sarmanova/DANN_ethanol_test_stop_100_MLP_N02_64_16_f_batch_64_19/runs/3emlvbzo</a><br/>\n",
       "                "
      ],
      "text/plain": [
       "<IPython.core.display.HTML object>"
      ]
     },
     "metadata": {},
     "output_type": "display_data"
    },
    {
     "name": "stderr",
     "output_type": "stream",
     "text": [
      "wandb: wandb version 0.17.0 is available!  To upgrade, please run:\n",
      "wandb:  $ pip install wandb --upgrade\n"
     ]
    },
    {
     "data": {
      "text/html": [
       "\n",
       "                Tracking run with wandb version 0.10.15<br/>\n",
       "                Syncing run <strong style=\"color:#cdcd00\">silver-snowflake-13</strong> to <a href=\"https://wandb.ai\" target=\"_blank\">Weights & Biases</a> <a href=\"https://docs.wandb.com/integrations/jupyter.html\" target=\"_blank\">(Documentation)</a>.<br/>\n",
       "                Project page: <a href=\"https://wandb.ai/oe_sarmanova/DANN_ethanol_test_stop_100_MLP_N02_64_16_f_batch_64_19\" target=\"_blank\">https://wandb.ai/oe_sarmanova/DANN_ethanol_test_stop_100_MLP_N02_64_16_f_batch_64_19</a><br/>\n",
       "                Run page: <a href=\"https://wandb.ai/oe_sarmanova/DANN_ethanol_test_stop_100_MLP_N02_64_16_f_batch_64_19/runs/8rs0fgkn\" target=\"_blank\">https://wandb.ai/oe_sarmanova/DANN_ethanol_test_stop_100_MLP_N02_64_16_f_batch_64_19/runs/8rs0fgkn</a><br/>\n",
       "                Run data is saved locally in <code>C:\\Users\\helga\\wines_november\\wandb\\run-20240528_141332-8rs0fgkn</code><br/><br/>\n",
       "            "
      ],
      "text/plain": [
       "<IPython.core.display.HTML object>"
      ]
     },
     "metadata": {},
     "output_type": "display_data"
    },
    {
     "name": "stderr",
     "output_type": "stream",
     "text": [
      "wandb: WARNING Calling run.save without any arguments is deprecated.Changes to attributes are automatically persisted.\n"
     ]
    },
    {
     "name": "stdout",
     "output_type": "stream",
     "text": [
      "Reset trainable parameters of layer = Linear(in_features=1868, out_features=64, bias=True)\n",
      "Reset trainable parameters of layer = Linear(in_features=64, out_features=16, bias=True)\n",
      "Reset trainable parameters of layer = Linear(in_features=16, out_features=1, bias=True)\n",
      "Reset trainable parameters of layer = Linear(in_features=16, out_features=1, bias=True)\n"
     ]
    },
    {
     "data": {
      "text/html": [
       "<br/>Waiting for W&B process to finish, PID 8124<br/>Program ended successfully."
      ],
      "text/plain": [
       "<IPython.core.display.HTML object>"
      ]
     },
     "metadata": {},
     "output_type": "display_data"
    },
    {
     "data": {
      "application/vnd.jupyter.widget-view+json": {
       "model_id": "",
       "version_major": 2,
       "version_minor": 0
      },
      "text/plain": [
       "VBox(children=(Label(value=' 0.00MB of 0.00MB uploaded (0.00MB deduped)\\r'), FloatProgress(value=1.0, max=1.0)…"
      ]
     },
     "metadata": {},
     "output_type": "display_data"
    },
    {
     "data": {
      "text/html": [
       "Find user logs for this run at: <code>C:\\Users\\helga\\wines_november\\wandb\\run-20240528_141332-8rs0fgkn\\logs\\debug.log</code>"
      ],
      "text/plain": [
       "<IPython.core.display.HTML object>"
      ]
     },
     "metadata": {},
     "output_type": "display_data"
    },
    {
     "data": {
      "text/html": [
       "Find internal logs for this run at: <code>C:\\Users\\helga\\wines_november\\wandb\\run-20240528_141332-8rs0fgkn\\logs\\debug-internal.log</code>"
      ],
      "text/plain": [
       "<IPython.core.display.HTML object>"
      ]
     },
     "metadata": {},
     "output_type": "display_data"
    },
    {
     "data": {
      "text/html": [
       "<h3>Run summary:</h3><br/><style>\n",
       "    table.wandb td:nth-child(1) { padding: 0 10px; text-align: right }\n",
       "    </style><table class=\"wandb\">\n",
       "<tr><td>trn_loss</td><td>0.40807</td></tr><tr><td>vld_loss</td><td>2.84216</td></tr><tr><td>_step</td><td>2999</td></tr><tr><td>_runtime</td><td>643</td></tr><tr><td>_timestamp</td><td>1716895455</td></tr><tr><td>clsf_trn_loss</td><td>0.44445</td></tr><tr><td>clsf_vld_loss</td><td>0.25549</td></tr><tr><td>dscr_trn_loss</td><td>0.36371</td></tr><tr><td>dscr_vld_loss</td><td>0.43025</td></tr></table>"
      ],
      "text/plain": [
       "<IPython.core.display.HTML object>"
      ]
     },
     "metadata": {},
     "output_type": "display_data"
    },
    {
     "data": {
      "text/html": [
       "<h3>Run history:</h3><br/><style>\n",
       "    table.wandb td:nth-child(1) { padding: 0 10px; text-align: right }\n",
       "    </style><table class=\"wandb\">\n",
       "<tr><td>trn_loss</td><td>█▇▅▄▁▁▁▁▁▁▁▁▁▁▁▁▁▁▁▁▁▁▁▁▁▁▁▁▁▁▁▁▁▁▁▁▁▁▁▁</td></tr><tr><td>vld_loss</td><td>██▇▄▂▁▁▁▁▁▁▁▁▁▁▁▁▁▁▁▁▁▁▁▁▁▁▁▁▁▁▁▁▁▁▁▁▁▁▁</td></tr><tr><td>_step</td><td>▁▁▁▂▂▂▂▂▂▃▃▃▃▃▄▄▄▄▄▄▅▅▅▅▅▅▆▆▆▆▆▇▇▇▇▇▇███</td></tr><tr><td>_runtime</td><td>▁▁▁▂▂▂▂▂▂▃▃▃▃▃▄▄▄▄▄▅▅▅▅▅▆▆▆▆▆▆▇▇▇▇▇▇▇███</td></tr><tr><td>_timestamp</td><td>▁▁▁▂▂▂▂▂▂▃▃▃▃▃▄▄▄▄▄▅▅▅▅▅▆▆▆▆▆▆▇▇▇▇▇▇▇███</td></tr><tr><td>clsf_trn_loss</td><td>█▇▅▄▁▁▁▁▁▁▁▁▁▁▁▁▁▁▁▁▁▁▁▁▁▁▁▁▁▁▁▁▁▁▁▁▁▁▁▁</td></tr><tr><td>clsf_vld_loss</td><td>█▇▆▃▁▁▁▁▁▁▁▁▁▁▁▁▁▁▁▁▁▁▁▁▁▁▁▂▁▁▁▂▁▁▁▁▂▂▂▁</td></tr><tr><td>dscr_trn_loss</td><td>▂▁▁▃▂▂▁▂▁▁▁▁▁▂▂▂▁▁▁▁▂▁▁▂▁▁▁▂█▁▁▁█▁▂▁▁▁▁▁</td></tr><tr><td>dscr_vld_loss</td><td>▄▃▃█▄▃▂▃▃▃▃▁▁▄▄▃▃▃▂▃▃▂▃▃▁▃▃▃▂▂▃▄▄▄▃▃▃▂▄▃</td></tr></table><br/>"
      ],
      "text/plain": [
       "<IPython.core.display.HTML object>"
      ]
     },
     "metadata": {},
     "output_type": "display_data"
    },
    {
     "data": {
      "text/html": [
       "Synced 5 W&B file(s), 0 media file(s), 0 artifact file(s) and 0 other file(s)"
      ],
      "text/plain": [
       "<IPython.core.display.HTML object>"
      ]
     },
     "metadata": {},
     "output_type": "display_data"
    },
    {
     "data": {
      "text/html": [
       "\n",
       "                    <br/>Synced <strong style=\"color:#cdcd00\">silver-snowflake-13</strong>: <a href=\"https://wandb.ai/oe_sarmanova/DANN_ethanol_test_stop_100_MLP_N02_64_16_f_batch_64_19/runs/8rs0fgkn\" target=\"_blank\">https://wandb.ai/oe_sarmanova/DANN_ethanol_test_stop_100_MLP_N02_64_16_f_batch_64_19/runs/8rs0fgkn</a><br/>\n",
       "                "
      ],
      "text/plain": [
       "<IPython.core.display.HTML object>"
      ]
     },
     "metadata": {},
     "output_type": "display_data"
    },
    {
     "name": "stderr",
     "output_type": "stream",
     "text": [
      "wandb: wandb version 0.17.0 is available!  To upgrade, please run:\n",
      "wandb:  $ pip install wandb --upgrade\n"
     ]
    },
    {
     "data": {
      "text/html": [
       "\n",
       "                Tracking run with wandb version 0.10.15<br/>\n",
       "                Syncing run <strong style=\"color:#cdcd00\">restful-frog-14</strong> to <a href=\"https://wandb.ai\" target=\"_blank\">Weights & Biases</a> <a href=\"https://docs.wandb.com/integrations/jupyter.html\" target=\"_blank\">(Documentation)</a>.<br/>\n",
       "                Project page: <a href=\"https://wandb.ai/oe_sarmanova/DANN_ethanol_test_stop_100_MLP_N02_64_16_f_batch_64_19\" target=\"_blank\">https://wandb.ai/oe_sarmanova/DANN_ethanol_test_stop_100_MLP_N02_64_16_f_batch_64_19</a><br/>\n",
       "                Run page: <a href=\"https://wandb.ai/oe_sarmanova/DANN_ethanol_test_stop_100_MLP_N02_64_16_f_batch_64_19/runs/1bd3x3uq\" target=\"_blank\">https://wandb.ai/oe_sarmanova/DANN_ethanol_test_stop_100_MLP_N02_64_16_f_batch_64_19/runs/1bd3x3uq</a><br/>\n",
       "                Run data is saved locally in <code>C:\\Users\\helga\\wines_november\\wandb\\run-20240528_142419-1bd3x3uq</code><br/><br/>\n",
       "            "
      ],
      "text/plain": [
       "<IPython.core.display.HTML object>"
      ]
     },
     "metadata": {},
     "output_type": "display_data"
    },
    {
     "name": "stderr",
     "output_type": "stream",
     "text": [
      "wandb: WARNING Calling run.save without any arguments is deprecated.Changes to attributes are automatically persisted.\n"
     ]
    },
    {
     "name": "stdout",
     "output_type": "stream",
     "text": [
      "Reset trainable parameters of layer = Linear(in_features=1868, out_features=64, bias=True)\n",
      "Reset trainable parameters of layer = Linear(in_features=64, out_features=16, bias=True)\n",
      "Reset trainable parameters of layer = Linear(in_features=16, out_features=1, bias=True)\n",
      "Reset trainable parameters of layer = Linear(in_features=16, out_features=1, bias=True)\n"
     ]
    },
    {
     "data": {
      "text/html": [
       "<br/>Waiting for W&B process to finish, PID 23884<br/>Program ended successfully."
      ],
      "text/plain": [
       "<IPython.core.display.HTML object>"
      ]
     },
     "metadata": {},
     "output_type": "display_data"
    },
    {
     "data": {
      "application/vnd.jupyter.widget-view+json": {
       "model_id": "",
       "version_major": 2,
       "version_minor": 0
      },
      "text/plain": [
       "VBox(children=(Label(value=' 0.00MB of 0.00MB uploaded (0.00MB deduped)\\r'), FloatProgress(value=1.0, max=1.0)…"
      ]
     },
     "metadata": {},
     "output_type": "display_data"
    },
    {
     "data": {
      "text/html": [
       "Find user logs for this run at: <code>C:\\Users\\helga\\wines_november\\wandb\\run-20240528_142419-1bd3x3uq\\logs\\debug.log</code>"
      ],
      "text/plain": [
       "<IPython.core.display.HTML object>"
      ]
     },
     "metadata": {},
     "output_type": "display_data"
    },
    {
     "data": {
      "text/html": [
       "Find internal logs for this run at: <code>C:\\Users\\helga\\wines_november\\wandb\\run-20240528_142419-1bd3x3uq\\logs\\debug-internal.log</code>"
      ],
      "text/plain": [
       "<IPython.core.display.HTML object>"
      ]
     },
     "metadata": {},
     "output_type": "display_data"
    },
    {
     "data": {
      "text/html": [
       "<h3>Run summary:</h3><br/><style>\n",
       "    table.wandb td:nth-child(1) { padding: 0 10px; text-align: right }\n",
       "    </style><table class=\"wandb\">\n",
       "<tr><td>trn_loss</td><td>0.49467</td></tr><tr><td>vld_loss</td><td>2.59931</td></tr><tr><td>_step</td><td>2999</td></tr><tr><td>_runtime</td><td>543</td></tr><tr><td>_timestamp</td><td>1716896002</td></tr><tr><td>clsf_trn_loss</td><td>0.53102</td></tr><tr><td>clsf_vld_loss</td><td>0.47986</td></tr><tr><td>dscr_trn_loss</td><td>0.36352</td></tr><tr><td>dscr_vld_loss</td><td>0.42878</td></tr></table>"
      ],
      "text/plain": [
       "<IPython.core.display.HTML object>"
      ]
     },
     "metadata": {},
     "output_type": "display_data"
    },
    {
     "data": {
      "text/html": [
       "<h3>Run history:</h3><br/><style>\n",
       "    table.wandb td:nth-child(1) { padding: 0 10px; text-align: right }\n",
       "    </style><table class=\"wandb\">\n",
       "<tr><td>trn_loss</td><td>█▆▂▁▂▁▁▁▁▁▁▁▁▁▁▁▁▁▁▁▁▁▁▁▁▁▁▁▁▁▁▁▁▁▁▁▁▁▁▁</td></tr><tr><td>vld_loss</td><td>█▆▂▂▁▁▁▁▁▁▁▁▁▁▁▁▁▁▁▁▁▁▁▁▁▁▁▁▁▁▁▁▁▁▁▁▁▁▁▁</td></tr><tr><td>_step</td><td>▁▁▁▂▂▂▂▂▂▃▃▃▃▃▄▄▄▄▄▄▅▅▅▅▅▅▆▆▆▆▆▇▇▇▇▇▇███</td></tr><tr><td>_runtime</td><td>▁▁▁▂▂▂▂▂▂▃▃▃▃▃▄▄▄▄▄▄▅▅▅▅▅▅▆▆▆▆▆▇▇▇▇▇▇███</td></tr><tr><td>_timestamp</td><td>▁▁▁▂▂▂▂▂▂▃▃▃▃▃▄▄▄▄▄▄▅▅▅▅▅▅▆▆▆▆▆▇▇▇▇▇▇███</td></tr><tr><td>clsf_trn_loss</td><td>█▆▂▁▂▁▁▁▁▁▁▁▁▁▁▁▁▁▁▁▁▁▁▁▁▁▁▁▁▁▁▁▁▁▁▁▁▁▁▁</td></tr><tr><td>clsf_vld_loss</td><td>█▅▂▂▁▁▁▁▁▁▁▁▁▁▁▁▁▁▁▁▁▁▁▁▁▁▁▂▁▁▁▁▁▁▁▁▁▂▁▁</td></tr><tr><td>dscr_trn_loss</td><td>▃█▄▃▂▄▂▂▄▂▄▂▃▃▂▂▁▂▂▁▄▃▃▂▂▁▁▁▃▃▃▁▂▃▂▄▃▂▃▂</td></tr><tr><td>dscr_vld_loss</td><td>▄█▃▃▄▃▃▃▃▃▂▄▂▃▃▂▁▄▂▅▅▄▄▄▄▁▃▃▅▅▄▃▄▃▃▄▄▅▄▄</td></tr></table><br/>"
      ],
      "text/plain": [
       "<IPython.core.display.HTML object>"
      ]
     },
     "metadata": {},
     "output_type": "display_data"
    },
    {
     "data": {
      "text/html": [
       "Synced 5 W&B file(s), 0 media file(s), 0 artifact file(s) and 0 other file(s)"
      ],
      "text/plain": [
       "<IPython.core.display.HTML object>"
      ]
     },
     "metadata": {},
     "output_type": "display_data"
    },
    {
     "data": {
      "text/html": [
       "\n",
       "                    <br/>Synced <strong style=\"color:#cdcd00\">restful-frog-14</strong>: <a href=\"https://wandb.ai/oe_sarmanova/DANN_ethanol_test_stop_100_MLP_N02_64_16_f_batch_64_19/runs/1bd3x3uq\" target=\"_blank\">https://wandb.ai/oe_sarmanova/DANN_ethanol_test_stop_100_MLP_N02_64_16_f_batch_64_19/runs/1bd3x3uq</a><br/>\n",
       "                "
      ],
      "text/plain": [
       "<IPython.core.display.HTML object>"
      ]
     },
     "metadata": {},
     "output_type": "display_data"
    },
    {
     "name": "stderr",
     "output_type": "stream",
     "text": [
      "wandb: wandb version 0.17.0 is available!  To upgrade, please run:\n",
      "wandb:  $ pip install wandb --upgrade\n"
     ]
    },
    {
     "data": {
      "text/html": [
       "\n",
       "                Tracking run with wandb version 0.10.15<br/>\n",
       "                Syncing run <strong style=\"color:#cdcd00\">vital-violet-15</strong> to <a href=\"https://wandb.ai\" target=\"_blank\">Weights & Biases</a> <a href=\"https://docs.wandb.com/integrations/jupyter.html\" target=\"_blank\">(Documentation)</a>.<br/>\n",
       "                Project page: <a href=\"https://wandb.ai/oe_sarmanova/DANN_ethanol_test_stop_100_MLP_N02_64_16_f_batch_64_19\" target=\"_blank\">https://wandb.ai/oe_sarmanova/DANN_ethanol_test_stop_100_MLP_N02_64_16_f_batch_64_19</a><br/>\n",
       "                Run page: <a href=\"https://wandb.ai/oe_sarmanova/DANN_ethanol_test_stop_100_MLP_N02_64_16_f_batch_64_19/runs/2cb3fogw\" target=\"_blank\">https://wandb.ai/oe_sarmanova/DANN_ethanol_test_stop_100_MLP_N02_64_16_f_batch_64_19/runs/2cb3fogw</a><br/>\n",
       "                Run data is saved locally in <code>C:\\Users\\helga\\wines_november\\wandb\\run-20240528_143328-2cb3fogw</code><br/><br/>\n",
       "            "
      ],
      "text/plain": [
       "<IPython.core.display.HTML object>"
      ]
     },
     "metadata": {},
     "output_type": "display_data"
    },
    {
     "name": "stderr",
     "output_type": "stream",
     "text": [
      "wandb: WARNING Calling run.save without any arguments is deprecated.Changes to attributes are automatically persisted.\n"
     ]
    },
    {
     "name": "stdout",
     "output_type": "stream",
     "text": [
      "Reset trainable parameters of layer = Linear(in_features=1868, out_features=64, bias=True)\n",
      "Reset trainable parameters of layer = Linear(in_features=64, out_features=16, bias=True)\n",
      "Reset trainable parameters of layer = Linear(in_features=16, out_features=1, bias=True)\n",
      "Reset trainable parameters of layer = Linear(in_features=16, out_features=1, bias=True)\n"
     ]
    },
    {
     "data": {
      "text/html": [
       "<br/>Waiting for W&B process to finish, PID 12744<br/>Program ended successfully."
      ],
      "text/plain": [
       "<IPython.core.display.HTML object>"
      ]
     },
     "metadata": {},
     "output_type": "display_data"
    },
    {
     "data": {
      "application/vnd.jupyter.widget-view+json": {
       "model_id": "",
       "version_major": 2,
       "version_minor": 0
      },
      "text/plain": [
       "VBox(children=(Label(value=' 0.00MB of 0.00MB uploaded (0.00MB deduped)\\r'), FloatProgress(value=1.0, max=1.0)…"
      ]
     },
     "metadata": {},
     "output_type": "display_data"
    },
    {
     "data": {
      "text/html": [
       "Find user logs for this run at: <code>C:\\Users\\helga\\wines_november\\wandb\\run-20240528_143328-2cb3fogw\\logs\\debug.log</code>"
      ],
      "text/plain": [
       "<IPython.core.display.HTML object>"
      ]
     },
     "metadata": {},
     "output_type": "display_data"
    },
    {
     "data": {
      "text/html": [
       "Find internal logs for this run at: <code>C:\\Users\\helga\\wines_november\\wandb\\run-20240528_143328-2cb3fogw\\logs\\debug-internal.log</code>"
      ],
      "text/plain": [
       "<IPython.core.display.HTML object>"
      ]
     },
     "metadata": {},
     "output_type": "display_data"
    },
    {
     "data": {
      "text/html": [
       "<h3>Run summary:</h3><br/><style>\n",
       "    table.wandb td:nth-child(1) { padding: 0 10px; text-align: right }\n",
       "    </style><table class=\"wandb\">\n",
       "<tr><td>trn_loss</td><td>0.38773</td></tr><tr><td>vld_loss</td><td>2.75389</td></tr><tr><td>_step</td><td>1799</td></tr><tr><td>_runtime</td><td>331</td></tr><tr><td>_timestamp</td><td>1716896339</td></tr><tr><td>clsf_trn_loss</td><td>0.42414</td></tr><tr><td>clsf_vld_loss</td><td>0.35367</td></tr><tr><td>dscr_trn_loss</td><td>0.36402</td></tr><tr><td>dscr_vld_loss</td><td>0.4295</td></tr></table>"
      ],
      "text/plain": [
       "<IPython.core.display.HTML object>"
      ]
     },
     "metadata": {},
     "output_type": "display_data"
    },
    {
     "data": {
      "text/html": [
       "<h3>Run history:</h3><br/><style>\n",
       "    table.wandb td:nth-child(1) { padding: 0 10px; text-align: right }\n",
       "    </style><table class=\"wandb\">\n",
       "<tr><td>trn_loss</td><td>█▇▅▂▂▂▁▁▁▁▁▁▁▁▁▁▁▁▁▁▁▁▁▁▁▁▁▁▁▁▁▁▁▁▁▁▁▁▂▁</td></tr><tr><td>vld_loss</td><td>██▅▂▁▁▁▁▁▁▁▁▁▁▁▁▁▁▁▁▁▁▁▁▁▁▁▁▁▁▁▁▁▁▁▁▁▁▁▁</td></tr><tr><td>_step</td><td>▁▁▁▂▂▂▂▂▂▃▃▃▃▃▃▄▄▄▄▄▅▅▅▅▅▅▆▆▆▆▆▇▇▇▇▇▇███</td></tr><tr><td>_runtime</td><td>▁▁▁▁▂▂▂▂▂▃▃▃▃▃▃▄▄▄▄▄▅▅▅▅▅▅▆▆▆▆▆▇▇▇▇▇▇███</td></tr><tr><td>_timestamp</td><td>▁▁▁▁▂▂▂▂▂▃▃▃▃▃▃▄▄▄▄▄▅▅▅▅▅▅▆▆▆▆▆▇▇▇▇▇▇███</td></tr><tr><td>clsf_trn_loss</td><td>█▇▅▂▂▂▁▁▁▁▁▁▁▁▁▁▁▁▁▁▁▁▁▁▁▁▁▁▁▁▁▁▁▁▁▁▁▁▂▁</td></tr><tr><td>clsf_vld_loss</td><td>▇█▅▃▂▁▂▁▁▂▁▁▁▁▁▁▂▁▁▁▁▂▁▁▁▁▁▁▁▂▂▁▂▂▁▁▁▂▁▁</td></tr><tr><td>dscr_trn_loss</td><td>▆▃█▆▅▃▃▂▂▃▃▂▄▃▂▃▃▃▃▂▃▃▂▂▂▃▁▂▂▃▃▂▂▃▂▃▁▃▃▂</td></tr><tr><td>dscr_vld_loss</td><td>▇▆▇▇▆▃▄▄▂▄▁▃▆▅▄▆█▂▄▂▃▅▁▄▄▃▃▃▅▃▇▃▅▅▄▆▃▄▅▃</td></tr></table><br/>"
      ],
      "text/plain": [
       "<IPython.core.display.HTML object>"
      ]
     },
     "metadata": {},
     "output_type": "display_data"
    },
    {
     "data": {
      "text/html": [
       "Synced 5 W&B file(s), 0 media file(s), 0 artifact file(s) and 0 other file(s)"
      ],
      "text/plain": [
       "<IPython.core.display.HTML object>"
      ]
     },
     "metadata": {},
     "output_type": "display_data"
    },
    {
     "data": {
      "text/html": [
       "\n",
       "                    <br/>Synced <strong style=\"color:#cdcd00\">vital-violet-15</strong>: <a href=\"https://wandb.ai/oe_sarmanova/DANN_ethanol_test_stop_100_MLP_N02_64_16_f_batch_64_19/runs/2cb3fogw\" target=\"_blank\">https://wandb.ai/oe_sarmanova/DANN_ethanol_test_stop_100_MLP_N02_64_16_f_batch_64_19/runs/2cb3fogw</a><br/>\n",
       "                "
      ],
      "text/plain": [
       "<IPython.core.display.HTML object>"
      ]
     },
     "metadata": {},
     "output_type": "display_data"
    },
    {
     "name": "stderr",
     "output_type": "stream",
     "text": [
      "wandb: wandb version 0.17.0 is available!  To upgrade, please run:\n",
      "wandb:  $ pip install wandb --upgrade\n"
     ]
    },
    {
     "data": {
      "text/html": [
       "\n",
       "                Tracking run with wandb version 0.10.15<br/>\n",
       "                Syncing run <strong style=\"color:#cdcd00\">golden-fire-16</strong> to <a href=\"https://wandb.ai\" target=\"_blank\">Weights & Biases</a> <a href=\"https://docs.wandb.com/integrations/jupyter.html\" target=\"_blank\">(Documentation)</a>.<br/>\n",
       "                Project page: <a href=\"https://wandb.ai/oe_sarmanova/DANN_ethanol_test_stop_100_MLP_N02_64_16_f_batch_64_19\" target=\"_blank\">https://wandb.ai/oe_sarmanova/DANN_ethanol_test_stop_100_MLP_N02_64_16_f_batch_64_19</a><br/>\n",
       "                Run page: <a href=\"https://wandb.ai/oe_sarmanova/DANN_ethanol_test_stop_100_MLP_N02_64_16_f_batch_64_19/runs/1qp1o8ap\" target=\"_blank\">https://wandb.ai/oe_sarmanova/DANN_ethanol_test_stop_100_MLP_N02_64_16_f_batch_64_19/runs/1qp1o8ap</a><br/>\n",
       "                Run data is saved locally in <code>C:\\Users\\helga\\wines_november\\wandb\\run-20240528_143908-1qp1o8ap</code><br/><br/>\n",
       "            "
      ],
      "text/plain": [
       "<IPython.core.display.HTML object>"
      ]
     },
     "metadata": {},
     "output_type": "display_data"
    },
    {
     "name": "stderr",
     "output_type": "stream",
     "text": [
      "wandb: WARNING Calling run.save without any arguments is deprecated.Changes to attributes are automatically persisted.\n"
     ]
    },
    {
     "name": "stdout",
     "output_type": "stream",
     "text": [
      "Reset trainable parameters of layer = Linear(in_features=1868, out_features=64, bias=True)\n",
      "Reset trainable parameters of layer = Linear(in_features=64, out_features=16, bias=True)\n",
      "Reset trainable parameters of layer = Linear(in_features=16, out_features=1, bias=True)\n",
      "Reset trainable parameters of layer = Linear(in_features=16, out_features=1, bias=True)\n"
     ]
    },
    {
     "data": {
      "text/html": [
       "<br/>Waiting for W&B process to finish, PID 9272<br/>Program ended successfully."
      ],
      "text/plain": [
       "<IPython.core.display.HTML object>"
      ]
     },
     "metadata": {},
     "output_type": "display_data"
    },
    {
     "data": {
      "application/vnd.jupyter.widget-view+json": {
       "model_id": "",
       "version_major": 2,
       "version_minor": 0
      },
      "text/plain": [
       "VBox(children=(Label(value=' 0.00MB of 0.00MB uploaded (0.00MB deduped)\\r'), FloatProgress(value=1.0, max=1.0)…"
      ]
     },
     "metadata": {},
     "output_type": "display_data"
    },
    {
     "data": {
      "text/html": [
       "Find user logs for this run at: <code>C:\\Users\\helga\\wines_november\\wandb\\run-20240528_143908-1qp1o8ap\\logs\\debug.log</code>"
      ],
      "text/plain": [
       "<IPython.core.display.HTML object>"
      ]
     },
     "metadata": {},
     "output_type": "display_data"
    },
    {
     "data": {
      "text/html": [
       "Find internal logs for this run at: <code>C:\\Users\\helga\\wines_november\\wandb\\run-20240528_143908-1qp1o8ap\\logs\\debug-internal.log</code>"
      ],
      "text/plain": [
       "<IPython.core.display.HTML object>"
      ]
     },
     "metadata": {},
     "output_type": "display_data"
    },
    {
     "data": {
      "text/html": [
       "<h3>Run summary:</h3><br/><style>\n",
       "    table.wandb td:nth-child(1) { padding: 0 10px; text-align: right }\n",
       "    </style><table class=\"wandb\">\n",
       "<tr><td>trn_loss</td><td>0.15756</td></tr><tr><td>vld_loss</td><td>2.65914</td></tr><tr><td>_step</td><td>1799</td></tr><tr><td>_runtime</td><td>333</td></tr><tr><td>_timestamp</td><td>1716896681</td></tr><tr><td>clsf_trn_loss</td><td>0.19378</td></tr><tr><td>clsf_vld_loss</td><td>0.42199</td></tr><tr><td>dscr_trn_loss</td><td>0.36221</td></tr><tr><td>dscr_vld_loss</td><td>0.43466</td></tr></table>"
      ],
      "text/plain": [
       "<IPython.core.display.HTML object>"
      ]
     },
     "metadata": {},
     "output_type": "display_data"
    },
    {
     "data": {
      "text/html": [
       "<h3>Run history:</h3><br/><style>\n",
       "    table.wandb td:nth-child(1) { padding: 0 10px; text-align: right }\n",
       "    </style><table class=\"wandb\">\n",
       "<tr><td>trn_loss</td><td>█▅▅▂▁▁▁▁▁▁▁▁▁▁▁▁▁▁▁▁▁▁▁▁▁▁▁▁▁▁▁▁▁▁▁▁▁▁▂▁</td></tr><tr><td>vld_loss</td><td>██▆▃▂▁▁▁▁▁▁▁▁▁▁▁▁▁▁▁▁▁▁▁▁▁▁▁▁▁▁▁▁▁▁▁▁▁▁▁</td></tr><tr><td>_step</td><td>▁▁▁▂▂▂▂▂▂▃▃▃▃▃▃▄▄▄▄▄▅▅▅▅▅▅▆▆▆▆▆▇▇▇▇▇▇███</td></tr><tr><td>_runtime</td><td>▁▁▁▁▂▂▂▂▂▃▃▃▃▃▃▄▄▄▄▄▅▅▅▅▅▅▆▆▆▆▆▇▇▇▇▇▇███</td></tr><tr><td>_timestamp</td><td>▁▁▁▁▂▂▂▂▂▃▃▃▃▃▃▄▄▄▄▄▅▅▅▅▅▅▆▆▆▆▆▇▇▇▇▇▇███</td></tr><tr><td>clsf_trn_loss</td><td>█▅▅▂▁▁▁▁▁▁▁▁▁▁▁▁▁▁▁▁▁▁▁▁▁▁▁▁▁▁▁▁▁▁▁▁▁▁▂▁</td></tr><tr><td>clsf_vld_loss</td><td>███▂▂▁▂▁▁▂▁▁▂▁▁▁▂▁▁▁▁▁▁▁▁▁▁▁▂▁▁▁▁▁▁▁▁▁▁▁</td></tr><tr><td>dscr_trn_loss</td><td>▅▄█▃▂▂▃▃▂▃▃▃▂▁▃▂▃▃▄▂▂▃▂▂▄▂▄▁▃▃▃▂▄▃▂▃▃▃▃▁</td></tr><tr><td>dscr_vld_loss</td><td>▇▇█▇▆▆▆▆▆▁▇▇▆▇▆▇▆▇▆▆█▇▇▅▆▆▆▇▇▇▇▇▆▆▇▆▇▆▆▇</td></tr></table><br/>"
      ],
      "text/plain": [
       "<IPython.core.display.HTML object>"
      ]
     },
     "metadata": {},
     "output_type": "display_data"
    },
    {
     "data": {
      "text/html": [
       "Synced 5 W&B file(s), 0 media file(s), 0 artifact file(s) and 0 other file(s)"
      ],
      "text/plain": [
       "<IPython.core.display.HTML object>"
      ]
     },
     "metadata": {},
     "output_type": "display_data"
    },
    {
     "data": {
      "text/html": [
       "\n",
       "                    <br/>Synced <strong style=\"color:#cdcd00\">golden-fire-16</strong>: <a href=\"https://wandb.ai/oe_sarmanova/DANN_ethanol_test_stop_100_MLP_N02_64_16_f_batch_64_19/runs/1qp1o8ap\" target=\"_blank\">https://wandb.ai/oe_sarmanova/DANN_ethanol_test_stop_100_MLP_N02_64_16_f_batch_64_19/runs/1qp1o8ap</a><br/>\n",
       "                "
      ],
      "text/plain": [
       "<IPython.core.display.HTML object>"
      ]
     },
     "metadata": {},
     "output_type": "display_data"
    },
    {
     "name": "stderr",
     "output_type": "stream",
     "text": [
      "wandb: wandb version 0.17.0 is available!  To upgrade, please run:\n",
      "wandb:  $ pip install wandb --upgrade\n"
     ]
    },
    {
     "data": {
      "text/html": [
       "\n",
       "                Tracking run with wandb version 0.10.15<br/>\n",
       "                Syncing run <strong style=\"color:#cdcd00\">fine-pine-17</strong> to <a href=\"https://wandb.ai\" target=\"_blank\">Weights & Biases</a> <a href=\"https://docs.wandb.com/integrations/jupyter.html\" target=\"_blank\">(Documentation)</a>.<br/>\n",
       "                Project page: <a href=\"https://wandb.ai/oe_sarmanova/DANN_ethanol_test_stop_100_MLP_N02_64_16_f_batch_64_19\" target=\"_blank\">https://wandb.ai/oe_sarmanova/DANN_ethanol_test_stop_100_MLP_N02_64_16_f_batch_64_19</a><br/>\n",
       "                Run page: <a href=\"https://wandb.ai/oe_sarmanova/DANN_ethanol_test_stop_100_MLP_N02_64_16_f_batch_64_19/runs/i7tbvsv2\" target=\"_blank\">https://wandb.ai/oe_sarmanova/DANN_ethanol_test_stop_100_MLP_N02_64_16_f_batch_64_19/runs/i7tbvsv2</a><br/>\n",
       "                Run data is saved locally in <code>C:\\Users\\helga\\wines_november\\wandb\\run-20240528_144456-i7tbvsv2</code><br/><br/>\n",
       "            "
      ],
      "text/plain": [
       "<IPython.core.display.HTML object>"
      ]
     },
     "metadata": {},
     "output_type": "display_data"
    },
    {
     "name": "stderr",
     "output_type": "stream",
     "text": [
      "wandb: WARNING Calling run.save without any arguments is deprecated.Changes to attributes are automatically persisted.\n"
     ]
    },
    {
     "name": "stdout",
     "output_type": "stream",
     "text": [
      "Reset trainable parameters of layer = Linear(in_features=1868, out_features=64, bias=True)\n",
      "Reset trainable parameters of layer = Linear(in_features=64, out_features=16, bias=True)\n",
      "Reset trainable parameters of layer = Linear(in_features=16, out_features=1, bias=True)\n",
      "Reset trainable parameters of layer = Linear(in_features=16, out_features=1, bias=True)\n"
     ]
    },
    {
     "data": {
      "text/html": [
       "<br/>Waiting for W&B process to finish, PID 17824<br/>Program ended successfully."
      ],
      "text/plain": [
       "<IPython.core.display.HTML object>"
      ]
     },
     "metadata": {},
     "output_type": "display_data"
    },
    {
     "data": {
      "application/vnd.jupyter.widget-view+json": {
       "model_id": "",
       "version_major": 2,
       "version_minor": 0
      },
      "text/plain": [
       "VBox(children=(Label(value=' 0.00MB of 0.00MB uploaded (0.00MB deduped)\\r'), FloatProgress(value=1.0, max=1.0)…"
      ]
     },
     "metadata": {},
     "output_type": "display_data"
    },
    {
     "data": {
      "text/html": [
       "Find user logs for this run at: <code>C:\\Users\\helga\\wines_november\\wandb\\run-20240528_144456-i7tbvsv2\\logs\\debug.log</code>"
      ],
      "text/plain": [
       "<IPython.core.display.HTML object>"
      ]
     },
     "metadata": {},
     "output_type": "display_data"
    },
    {
     "data": {
      "text/html": [
       "Find internal logs for this run at: <code>C:\\Users\\helga\\wines_november\\wandb\\run-20240528_144456-i7tbvsv2\\logs\\debug-internal.log</code>"
      ],
      "text/plain": [
       "<IPython.core.display.HTML object>"
      ]
     },
     "metadata": {},
     "output_type": "display_data"
    },
    {
     "data": {
      "text/html": [
       "<h3>Run summary:</h3><br/><style>\n",
       "    table.wandb td:nth-child(1) { padding: 0 10px; text-align: right }\n",
       "    </style><table class=\"wandb\">\n",
       "<tr><td>trn_loss</td><td>0.30985</td></tr><tr><td>vld_loss</td><td>3.14707</td></tr><tr><td>_step</td><td>1799</td></tr><tr><td>_runtime</td><td>332</td></tr><tr><td>_timestamp</td><td>1716897028</td></tr><tr><td>clsf_trn_loss</td><td>0.34614</td></tr><tr><td>clsf_vld_loss</td><td>1.39214</td></tr><tr><td>dscr_trn_loss</td><td>0.36284</td></tr><tr><td>dscr_vld_loss</td><td>0.41624</td></tr></table>"
      ],
      "text/plain": [
       "<IPython.core.display.HTML object>"
      ]
     },
     "metadata": {},
     "output_type": "display_data"
    },
    {
     "data": {
      "text/html": [
       "<h3>Run history:</h3><br/><style>\n",
       "    table.wandb td:nth-child(1) { padding: 0 10px; text-align: right }\n",
       "    </style><table class=\"wandb\">\n",
       "<tr><td>trn_loss</td><td>▇█▆▃▂▂▁▂▁▁▁▁▁▁▁▁▁▁▁▁▁▁▁▁▁▁▁▁▁▂▁▁▁▁▁▁▁▁▁▁</td></tr><tr><td>vld_loss</td><td>██▆▃▂▂▁▂▁▁▁▁▁▁▁▁▁▁▁▁▁▁▁▁▁▁▁▁▁▁▁▁▁▁▁▁▁▁▁▁</td></tr><tr><td>_step</td><td>▁▁▁▂▂▂▂▂▂▃▃▃▃▃▃▄▄▄▄▄▅▅▅▅▅▅▆▆▆▆▆▇▇▇▇▇▇███</td></tr><tr><td>_runtime</td><td>▁▁▁▁▂▂▂▂▂▃▃▃▃▃▃▄▄▄▄▄▅▅▅▅▅▅▆▆▆▆▆▇▇▇▇▇▇███</td></tr><tr><td>_timestamp</td><td>▁▁▁▁▂▂▂▂▂▃▃▃▃▃▃▄▄▄▄▄▅▅▅▅▅▅▆▆▆▆▆▇▇▇▇▇▇███</td></tr><tr><td>clsf_trn_loss</td><td>▇█▆▃▂▂▁▂▁▁▁▁▁▁▁▁▁▁▁▁▁▁▁▁▁▁▁▁▁▂▁▁▁▁▁▁▁▁▁▁</td></tr><tr><td>clsf_vld_loss</td><td>█▇▅▃▂▃▁▂▁▁▁▁▁▁▁▁▁▁▁▂▁▁▁▁▁▁▁▁▁▁▁▁▁▁▁▁▂▁▁▂</td></tr><tr><td>dscr_trn_loss</td><td>▄▅█▆▆▅▃▃▃▅▂▁▃▂▂▂▃▂▃▄▃▄▅▃▃▃▁▃▃▄▂▃▅▃▃▂▃▁▃▂</td></tr><tr><td>dscr_vld_loss</td><td>▆▆█▆▅▂▆▆▆▆▅▆▅▅▅▆▅▄▅▅▅▆▅▅▅▆▅▅▅▆▅▆▆▅▆▆▁▅▅▁</td></tr></table><br/>"
      ],
      "text/plain": [
       "<IPython.core.display.HTML object>"
      ]
     },
     "metadata": {},
     "output_type": "display_data"
    },
    {
     "data": {
      "text/html": [
       "Synced 5 W&B file(s), 0 media file(s), 0 artifact file(s) and 0 other file(s)"
      ],
      "text/plain": [
       "<IPython.core.display.HTML object>"
      ]
     },
     "metadata": {},
     "output_type": "display_data"
    },
    {
     "data": {
      "text/html": [
       "\n",
       "                    <br/>Synced <strong style=\"color:#cdcd00\">fine-pine-17</strong>: <a href=\"https://wandb.ai/oe_sarmanova/DANN_ethanol_test_stop_100_MLP_N02_64_16_f_batch_64_19/runs/i7tbvsv2\" target=\"_blank\">https://wandb.ai/oe_sarmanova/DANN_ethanol_test_stop_100_MLP_N02_64_16_f_batch_64_19/runs/i7tbvsv2</a><br/>\n",
       "                "
      ],
      "text/plain": [
       "<IPython.core.display.HTML object>"
      ]
     },
     "metadata": {},
     "output_type": "display_data"
    },
    {
     "name": "stderr",
     "output_type": "stream",
     "text": [
      "wandb: wandb version 0.17.0 is available!  To upgrade, please run:\n",
      "wandb:  $ pip install wandb --upgrade\n"
     ]
    },
    {
     "data": {
      "text/html": [
       "\n",
       "                Tracking run with wandb version 0.10.15<br/>\n",
       "                Syncing run <strong style=\"color:#cdcd00\">breezy-feather-18</strong> to <a href=\"https://wandb.ai\" target=\"_blank\">Weights & Biases</a> <a href=\"https://docs.wandb.com/integrations/jupyter.html\" target=\"_blank\">(Documentation)</a>.<br/>\n",
       "                Project page: <a href=\"https://wandb.ai/oe_sarmanova/DANN_ethanol_test_stop_100_MLP_N02_64_16_f_batch_64_19\" target=\"_blank\">https://wandb.ai/oe_sarmanova/DANN_ethanol_test_stop_100_MLP_N02_64_16_f_batch_64_19</a><br/>\n",
       "                Run page: <a href=\"https://wandb.ai/oe_sarmanova/DANN_ethanol_test_stop_100_MLP_N02_64_16_f_batch_64_19/runs/v3cgrqsq\" target=\"_blank\">https://wandb.ai/oe_sarmanova/DANN_ethanol_test_stop_100_MLP_N02_64_16_f_batch_64_19/runs/v3cgrqsq</a><br/>\n",
       "                Run data is saved locally in <code>C:\\Users\\helga\\wines_november\\wandb\\run-20240528_145032-v3cgrqsq</code><br/><br/>\n",
       "            "
      ],
      "text/plain": [
       "<IPython.core.display.HTML object>"
      ]
     },
     "metadata": {},
     "output_type": "display_data"
    },
    {
     "name": "stderr",
     "output_type": "stream",
     "text": [
      "wandb: WARNING Calling run.save without any arguments is deprecated.Changes to attributes are automatically persisted.\n"
     ]
    },
    {
     "name": "stdout",
     "output_type": "stream",
     "text": [
      "Reset trainable parameters of layer = Linear(in_features=1868, out_features=64, bias=True)\n",
      "Reset trainable parameters of layer = Linear(in_features=64, out_features=16, bias=True)\n",
      "Reset trainable parameters of layer = Linear(in_features=16, out_features=1, bias=True)\n",
      "Reset trainable parameters of layer = Linear(in_features=16, out_features=1, bias=True)\n"
     ]
    },
    {
     "data": {
      "text/html": [
       "<br/>Waiting for W&B process to finish, PID 20308<br/>Program ended successfully."
      ],
      "text/plain": [
       "<IPython.core.display.HTML object>"
      ]
     },
     "metadata": {},
     "output_type": "display_data"
    },
    {
     "data": {
      "application/vnd.jupyter.widget-view+json": {
       "model_id": "",
       "version_major": 2,
       "version_minor": 0
      },
      "text/plain": [
       "VBox(children=(Label(value=' 0.00MB of 0.00MB uploaded (0.00MB deduped)\\r'), FloatProgress(value=1.0, max=1.0)…"
      ]
     },
     "metadata": {},
     "output_type": "display_data"
    },
    {
     "data": {
      "text/html": [
       "Find user logs for this run at: <code>C:\\Users\\helga\\wines_november\\wandb\\run-20240528_145032-v3cgrqsq\\logs\\debug.log</code>"
      ],
      "text/plain": [
       "<IPython.core.display.HTML object>"
      ]
     },
     "metadata": {},
     "output_type": "display_data"
    },
    {
     "data": {
      "text/html": [
       "Find internal logs for this run at: <code>C:\\Users\\helga\\wines_november\\wandb\\run-20240528_145032-v3cgrqsq\\logs\\debug-internal.log</code>"
      ],
      "text/plain": [
       "<IPython.core.display.HTML object>"
      ]
     },
     "metadata": {},
     "output_type": "display_data"
    },
    {
     "data": {
      "text/html": [
       "<h3>Run summary:</h3><br/><style>\n",
       "    table.wandb td:nth-child(1) { padding: 0 10px; text-align: right }\n",
       "    </style><table class=\"wandb\">\n",
       "<tr><td>trn_loss</td><td>0.17681</td></tr><tr><td>vld_loss</td><td>2.88238</td></tr><tr><td>_step</td><td>2399</td></tr><tr><td>_runtime</td><td>438</td></tr><tr><td>_timestamp</td><td>1716897471</td></tr><tr><td>clsf_trn_loss</td><td>0.21327</td></tr><tr><td>clsf_vld_loss</td><td>0.50406</td></tr><tr><td>dscr_trn_loss</td><td>0.36459</td></tr><tr><td>dscr_vld_loss</td><td>0.43107</td></tr></table>"
      ],
      "text/plain": [
       "<IPython.core.display.HTML object>"
      ]
     },
     "metadata": {},
     "output_type": "display_data"
    },
    {
     "data": {
      "text/html": [
       "<h3>Run history:</h3><br/><style>\n",
       "    table.wandb td:nth-child(1) { padding: 0 10px; text-align: right }\n",
       "    </style><table class=\"wandb\">\n",
       "<tr><td>trn_loss</td><td>█▅▂▂▁▁▁▁▁▁▁▁▁▁▁▁▁▁▁▁▁▁▁▁▁▁▁▁▁▁▁▁▁▁▁▁▁▁▁▁</td></tr><tr><td>vld_loss</td><td>█▇▃▂▁▁▁▁▁▁▁▁▁▁▁▁▁▁▁▁▁▁▁▁▁▁▁▁▁▁▁▁▁▁▁▁▁▁▁▁</td></tr><tr><td>_step</td><td>▁▁▁▁▂▂▂▂▂▃▃▃▃▃▃▄▄▄▄▄▅▅▅▅▅▅▆▆▆▆▆▆▇▇▇▇▇███</td></tr><tr><td>_runtime</td><td>▁▁▁▁▂▂▂▂▂▃▃▃▃▃▃▄▄▄▄▄▄▅▅▅▅▅▆▆▆▆▆▆▇▇▇▇▇███</td></tr><tr><td>_timestamp</td><td>▁▁▁▁▂▂▂▂▂▃▃▃▃▃▃▄▄▄▄▄▄▅▅▅▅▅▆▆▆▆▆▆▇▇▇▇▇███</td></tr><tr><td>clsf_trn_loss</td><td>█▅▂▂▁▁▁▁▁▁▁▁▁▁▁▁▁▁▁▁▁▁▁▁▁▁▁▁▁▁▁▁▁▁▁▁▁▁▁▁</td></tr><tr><td>clsf_vld_loss</td><td>█▆▃▂▁▁▁▁▁▁▁▁▁▁▁▁▁▁▁▁▁▁▁▁▁▁▁▁▁▁▁▁▁▁▁▁▁▁▁▁</td></tr><tr><td>dscr_trn_loss</td><td>▅█▅▃▃▃▂▂▅▁▂▄▁▅▂▂▃▆▂▃▅▄▅▂▂▂▅▅▃▂▂▂▂▂▃▁▂▄▂▃</td></tr><tr><td>dscr_vld_loss</td><td>▅█▄▄▄▃▃▄▄▃▄▃▃▃▅▄▂▂▁▃▄▄▃▄▃▄▁▄▅▅▅▂▇▄▃▃▂▄▄▄</td></tr></table><br/>"
      ],
      "text/plain": [
       "<IPython.core.display.HTML object>"
      ]
     },
     "metadata": {},
     "output_type": "display_data"
    },
    {
     "data": {
      "text/html": [
       "Synced 5 W&B file(s), 0 media file(s), 0 artifact file(s) and 0 other file(s)"
      ],
      "text/plain": [
       "<IPython.core.display.HTML object>"
      ]
     },
     "metadata": {},
     "output_type": "display_data"
    },
    {
     "data": {
      "text/html": [
       "\n",
       "                    <br/>Synced <strong style=\"color:#cdcd00\">breezy-feather-18</strong>: <a href=\"https://wandb.ai/oe_sarmanova/DANN_ethanol_test_stop_100_MLP_N02_64_16_f_batch_64_19/runs/v3cgrqsq\" target=\"_blank\">https://wandb.ai/oe_sarmanova/DANN_ethanol_test_stop_100_MLP_N02_64_16_f_batch_64_19/runs/v3cgrqsq</a><br/>\n",
       "                "
      ],
      "text/plain": [
       "<IPython.core.display.HTML object>"
      ]
     },
     "metadata": {},
     "output_type": "display_data"
    },
    {
     "name": "stderr",
     "output_type": "stream",
     "text": [
      "wandb: wandb version 0.17.0 is available!  To upgrade, please run:\n",
      "wandb:  $ pip install wandb --upgrade\n"
     ]
    },
    {
     "data": {
      "text/html": [
       "\n",
       "                Tracking run with wandb version 0.10.15<br/>\n",
       "                Syncing run <strong style=\"color:#cdcd00\">fresh-valley-19</strong> to <a href=\"https://wandb.ai\" target=\"_blank\">Weights & Biases</a> <a href=\"https://docs.wandb.com/integrations/jupyter.html\" target=\"_blank\">(Documentation)</a>.<br/>\n",
       "                Project page: <a href=\"https://wandb.ai/oe_sarmanova/DANN_ethanol_test_stop_100_MLP_N02_64_16_f_batch_64_19\" target=\"_blank\">https://wandb.ai/oe_sarmanova/DANN_ethanol_test_stop_100_MLP_N02_64_16_f_batch_64_19</a><br/>\n",
       "                Run page: <a href=\"https://wandb.ai/oe_sarmanova/DANN_ethanol_test_stop_100_MLP_N02_64_16_f_batch_64_19/runs/tcz9i49p\" target=\"_blank\">https://wandb.ai/oe_sarmanova/DANN_ethanol_test_stop_100_MLP_N02_64_16_f_batch_64_19/runs/tcz9i49p</a><br/>\n",
       "                Run data is saved locally in <code>C:\\Users\\helga\\wines_november\\wandb\\run-20240528_145758-tcz9i49p</code><br/><br/>\n",
       "            "
      ],
      "text/plain": [
       "<IPython.core.display.HTML object>"
      ]
     },
     "metadata": {},
     "output_type": "display_data"
    },
    {
     "name": "stderr",
     "output_type": "stream",
     "text": [
      "wandb: WARNING Calling run.save without any arguments is deprecated.Changes to attributes are automatically persisted.\n"
     ]
    },
    {
     "name": "stdout",
     "output_type": "stream",
     "text": [
      "Reset trainable parameters of layer = Linear(in_features=1868, out_features=64, bias=True)\n",
      "Reset trainable parameters of layer = Linear(in_features=64, out_features=16, bias=True)\n",
      "Reset trainable parameters of layer = Linear(in_features=16, out_features=1, bias=True)\n",
      "Reset trainable parameters of layer = Linear(in_features=16, out_features=1, bias=True)\n"
     ]
    },
    {
     "data": {
      "text/html": [
       "<br/>Waiting for W&B process to finish, PID 20368<br/>Program ended successfully."
      ],
      "text/plain": [
       "<IPython.core.display.HTML object>"
      ]
     },
     "metadata": {},
     "output_type": "display_data"
    },
    {
     "data": {
      "application/vnd.jupyter.widget-view+json": {
       "model_id": "",
       "version_major": 2,
       "version_minor": 0
      },
      "text/plain": [
       "VBox(children=(Label(value=' 0.00MB of 0.00MB uploaded (0.00MB deduped)\\r'), FloatProgress(value=1.0, max=1.0)…"
      ]
     },
     "metadata": {},
     "output_type": "display_data"
    },
    {
     "data": {
      "text/html": [
       "Find user logs for this run at: <code>C:\\Users\\helga\\wines_november\\wandb\\run-20240528_145758-tcz9i49p\\logs\\debug.log</code>"
      ],
      "text/plain": [
       "<IPython.core.display.HTML object>"
      ]
     },
     "metadata": {},
     "output_type": "display_data"
    },
    {
     "data": {
      "text/html": [
       "Find internal logs for this run at: <code>C:\\Users\\helga\\wines_november\\wandb\\run-20240528_145758-tcz9i49p\\logs\\debug-internal.log</code>"
      ],
      "text/plain": [
       "<IPython.core.display.HTML object>"
      ]
     },
     "metadata": {},
     "output_type": "display_data"
    },
    {
     "data": {
      "text/html": [
       "<h3>Run summary:</h3><br/><style>\n",
       "    table.wandb td:nth-child(1) { padding: 0 10px; text-align: right }\n",
       "    </style><table class=\"wandb\">\n",
       "<tr><td>trn_loss</td><td>0.46766</td></tr><tr><td>vld_loss</td><td>3.23683</td></tr><tr><td>_step</td><td>2099</td></tr><tr><td>_runtime</td><td>432</td></tr><tr><td>_timestamp</td><td>1716897910</td></tr><tr><td>clsf_trn_loss</td><td>0.50448</td></tr><tr><td>clsf_vld_loss</td><td>0.55994</td></tr><tr><td>dscr_trn_loss</td><td>0.36819</td></tr><tr><td>dscr_vld_loss</td><td>0.43008</td></tr></table>"
      ],
      "text/plain": [
       "<IPython.core.display.HTML object>"
      ]
     },
     "metadata": {},
     "output_type": "display_data"
    },
    {
     "data": {
      "text/html": [
       "<h3>Run history:</h3><br/><style>\n",
       "    table.wandb td:nth-child(1) { padding: 0 10px; text-align: right }\n",
       "    </style><table class=\"wandb\">\n",
       "<tr><td>trn_loss</td><td>█▆▅▃▂▂▂▁▁▁▂▁▁▁▂▁▁▁▁▁▁▁▂▁▁▁▁▁▁▁▁▁▁▁▁▁▁▁▁▁</td></tr><tr><td>vld_loss</td><td>█▇▅▃▂▁▁▁▁▁▁▁▁▁▁▁▁▁▁▁▁▁▁▁▁▁▁▁▁▁▁▁▁▁▁▁▁▁▁▁</td></tr><tr><td>_step</td><td>▁▁▁▁▂▂▂▂▂▃▃▃▃▃▃▄▄▄▄▄▅▅▅▅▅▅▆▆▆▆▆▆▇▇▇▇▇███</td></tr><tr><td>_runtime</td><td>▁▁▁▁▂▂▂▂▂▂▃▃▃▃▃▃▄▄▄▄▄▄▅▅▅▅▅▆▆▆▆▆▇▇▇▇▇▇██</td></tr><tr><td>_timestamp</td><td>▁▁▁▁▂▂▂▂▂▂▃▃▃▃▃▃▄▄▄▄▄▄▅▅▅▅▅▆▆▆▆▆▇▇▇▇▇▇██</td></tr><tr><td>clsf_trn_loss</td><td>█▆▅▃▂▂▂▁▁▁▂▁▁▁▂▁▁▁▁▁▁▁▂▁▁▁▁▁▁▁▁▁▁▁▁▁▁▁▁▁</td></tr><tr><td>clsf_vld_loss</td><td>██▆▂▂▁▁▁▁▁▁▁▁▁▁▁▁▁▁▁▁▁▁▁▁▁▁▁▁▁▁▁▁▁▁▁▁▁▁▁</td></tr><tr><td>dscr_trn_loss</td><td>▆▅█▄▄▃▄▄▃▃▂▃▃▄▄▃▃▅▃▁▂▆▅▃▃▃▄▃▃▃▃▃▃▂▅▂▄▁▃▃</td></tr><tr><td>dscr_vld_loss</td><td>▄▄▅▂█▅▄▃▃▃▃▃▅▄▅▂▃▂▄▃▂▄▂▃▃▂▃▂▆▄▂▂▁▃▃▃▃▂▃▃</td></tr></table><br/>"
      ],
      "text/plain": [
       "<IPython.core.display.HTML object>"
      ]
     },
     "metadata": {},
     "output_type": "display_data"
    },
    {
     "data": {
      "text/html": [
       "Synced 5 W&B file(s), 0 media file(s), 0 artifact file(s) and 0 other file(s)"
      ],
      "text/plain": [
       "<IPython.core.display.HTML object>"
      ]
     },
     "metadata": {},
     "output_type": "display_data"
    },
    {
     "data": {
      "text/html": [
       "\n",
       "                    <br/>Synced <strong style=\"color:#cdcd00\">fresh-valley-19</strong>: <a href=\"https://wandb.ai/oe_sarmanova/DANN_ethanol_test_stop_100_MLP_N02_64_16_f_batch_64_19/runs/tcz9i49p\" target=\"_blank\">https://wandb.ai/oe_sarmanova/DANN_ethanol_test_stop_100_MLP_N02_64_16_f_batch_64_19/runs/tcz9i49p</a><br/>\n",
       "                "
      ],
      "text/plain": [
       "<IPython.core.display.HTML object>"
      ]
     },
     "metadata": {},
     "output_type": "display_data"
    },
    {
     "name": "stderr",
     "output_type": "stream",
     "text": [
      "wandb: wandb version 0.17.0 is available!  To upgrade, please run:\n",
      "wandb:  $ pip install wandb --upgrade\n"
     ]
    },
    {
     "data": {
      "text/html": [
       "\n",
       "                Tracking run with wandb version 0.10.15<br/>\n",
       "                Syncing run <strong style=\"color:#cdcd00\">blooming-voice-20</strong> to <a href=\"https://wandb.ai\" target=\"_blank\">Weights & Biases</a> <a href=\"https://docs.wandb.com/integrations/jupyter.html\" target=\"_blank\">(Documentation)</a>.<br/>\n",
       "                Project page: <a href=\"https://wandb.ai/oe_sarmanova/DANN_ethanol_test_stop_100_MLP_N02_64_16_f_batch_64_19\" target=\"_blank\">https://wandb.ai/oe_sarmanova/DANN_ethanol_test_stop_100_MLP_N02_64_16_f_batch_64_19</a><br/>\n",
       "                Run page: <a href=\"https://wandb.ai/oe_sarmanova/DANN_ethanol_test_stop_100_MLP_N02_64_16_f_batch_64_19/runs/1f2afd38\" target=\"_blank\">https://wandb.ai/oe_sarmanova/DANN_ethanol_test_stop_100_MLP_N02_64_16_f_batch_64_19/runs/1f2afd38</a><br/>\n",
       "                Run data is saved locally in <code>C:\\Users\\helga\\wines_november\\wandb\\run-20240528_150515-1f2afd38</code><br/><br/>\n",
       "            "
      ],
      "text/plain": [
       "<IPython.core.display.HTML object>"
      ]
     },
     "metadata": {},
     "output_type": "display_data"
    },
    {
     "name": "stderr",
     "output_type": "stream",
     "text": [
      "wandb: WARNING Calling run.save without any arguments is deprecated.Changes to attributes are automatically persisted.\n"
     ]
    },
    {
     "name": "stdout",
     "output_type": "stream",
     "text": [
      "Reset trainable parameters of layer = Linear(in_features=1868, out_features=64, bias=True)\n",
      "Reset trainable parameters of layer = Linear(in_features=64, out_features=16, bias=True)\n",
      "Reset trainable parameters of layer = Linear(in_features=16, out_features=1, bias=True)\n",
      "Reset trainable parameters of layer = Linear(in_features=16, out_features=1, bias=True)\n"
     ]
    },
    {
     "data": {
      "text/html": [
       "<br/>Waiting for W&B process to finish, PID 2472<br/>Program ended successfully."
      ],
      "text/plain": [
       "<IPython.core.display.HTML object>"
      ]
     },
     "metadata": {},
     "output_type": "display_data"
    },
    {
     "data": {
      "application/vnd.jupyter.widget-view+json": {
       "model_id": "",
       "version_major": 2,
       "version_minor": 0
      },
      "text/plain": [
       "VBox(children=(Label(value=' 0.00MB of 0.00MB uploaded (0.00MB deduped)\\r'), FloatProgress(value=1.0, max=1.0)…"
      ]
     },
     "metadata": {},
     "output_type": "display_data"
    },
    {
     "data": {
      "text/html": [
       "Find user logs for this run at: <code>C:\\Users\\helga\\wines_november\\wandb\\run-20240528_150515-1f2afd38\\logs\\debug.log</code>"
      ],
      "text/plain": [
       "<IPython.core.display.HTML object>"
      ]
     },
     "metadata": {},
     "output_type": "display_data"
    },
    {
     "data": {
      "text/html": [
       "Find internal logs for this run at: <code>C:\\Users\\helga\\wines_november\\wandb\\run-20240528_150515-1f2afd38\\logs\\debug-internal.log</code>"
      ],
      "text/plain": [
       "<IPython.core.display.HTML object>"
      ]
     },
     "metadata": {},
     "output_type": "display_data"
    },
    {
     "data": {
      "text/html": [
       "<h3>Run summary:</h3><br/><style>\n",
       "    table.wandb td:nth-child(1) { padding: 0 10px; text-align: right }\n",
       "    </style><table class=\"wandb\">\n",
       "<tr><td>trn_loss</td><td>0.4142</td></tr><tr><td>vld_loss</td><td>2.05223</td></tr><tr><td>_step</td><td>3899</td></tr><tr><td>_runtime</td><td>857</td></tr><tr><td>_timestamp</td><td>1716898772</td></tr><tr><td>clsf_trn_loss</td><td>0.45061</td></tr><tr><td>clsf_vld_loss</td><td>0.15238</td></tr><tr><td>dscr_trn_loss</td><td>0.36408</td></tr><tr><td>dscr_vld_loss</td><td>0.43583</td></tr></table>"
      ],
      "text/plain": [
       "<IPython.core.display.HTML object>"
      ]
     },
     "metadata": {},
     "output_type": "display_data"
    },
    {
     "data": {
      "text/html": [
       "<h3>Run history:</h3><br/><style>\n",
       "    table.wandb td:nth-child(1) { padding: 0 10px; text-align: right }\n",
       "    </style><table class=\"wandb\">\n",
       "<tr><td>trn_loss</td><td>█▂▁▁▁▁▁▁▁▁▁▂▁▁▁▁▁▁▁▁▁▁▁▁▁▁▁▁▁▁▁▁▁▁▁▁▁▁▁▁</td></tr><tr><td>vld_loss</td><td>█▂▁▁▁▁▁▁▁▁▁▁▁▁▁▁▁▁▁▁▁▁▁▁▁▁▁▁▁▁▁▁▁▁▁▁▁▁▁▁</td></tr><tr><td>_step</td><td>▁▁▁▂▂▂▂▂▂▃▃▃▃▃▄▄▄▄▄▄▅▅▅▅▅▅▆▆▆▆▆▇▇▇▇▇▇███</td></tr><tr><td>_runtime</td><td>▁▁▁▂▂▂▂▂▂▃▃▃▃▃▄▄▄▄▄▄▅▅▅▅▅▅▆▆▆▆▆▇▇▇▇▇▇███</td></tr><tr><td>_timestamp</td><td>▁▁▁▂▂▂▂▂▂▃▃▃▃▃▄▄▄▄▄▄▅▅▅▅▅▅▆▆▆▆▆▇▇▇▇▇▇███</td></tr><tr><td>clsf_trn_loss</td><td>█▂▁▁▁▁▁▁▁▁▁▂▁▁▁▁▁▁▁▁▁▁▁▁▁▁▁▁▁▁▁▁▁▁▁▁▁▁▁▁</td></tr><tr><td>clsf_vld_loss</td><td>█▂▁▁▂▁▁▃▁▁▁▁▁▁▁▂▁▁▃▁▁▁▁▁▁▁▁▁▁▁▁▁▁▄▁▁▁▁▂▁</td></tr><tr><td>dscr_trn_loss</td><td>▇▆▆▁▄▃▄▄▃▂▄▄▄▄▃▆▅▆▆▆▆▆▆▆█▆▆▅▆▅▇▆▆▆▅▆▄▆▆▆</td></tr><tr><td>dscr_vld_loss</td><td>█▇▆▆▆▅▇▁▅▅▆▆▆▆▆▆▇▇▃▆▇▇▇▇▇▇▆▇▆▇▇▆▆▃▇▇▇▇▇▇</td></tr></table><br/>"
      ],
      "text/plain": [
       "<IPython.core.display.HTML object>"
      ]
     },
     "metadata": {},
     "output_type": "display_data"
    },
    {
     "data": {
      "text/html": [
       "Synced 5 W&B file(s), 0 media file(s), 0 artifact file(s) and 0 other file(s)"
      ],
      "text/plain": [
       "<IPython.core.display.HTML object>"
      ]
     },
     "metadata": {},
     "output_type": "display_data"
    },
    {
     "data": {
      "text/html": [
       "\n",
       "                    <br/>Synced <strong style=\"color:#cdcd00\">blooming-voice-20</strong>: <a href=\"https://wandb.ai/oe_sarmanova/DANN_ethanol_test_stop_100_MLP_N02_64_16_f_batch_64_19/runs/1f2afd38\" target=\"_blank\">https://wandb.ai/oe_sarmanova/DANN_ethanol_test_stop_100_MLP_N02_64_16_f_batch_64_19/runs/1f2afd38</a><br/>\n",
       "                "
      ],
      "text/plain": [
       "<IPython.core.display.HTML object>"
      ]
     },
     "metadata": {},
     "output_type": "display_data"
    },
    {
     "data": {
      "text/html": [
       "\n",
       "                Tracking run with wandb version 0.10.15<br/>\n",
       "                Syncing run <strong style=\"color:#cdcd00\">autumn-grass-21</strong> to <a href=\"https://wandb.ai\" target=\"_blank\">Weights & Biases</a> <a href=\"https://docs.wandb.com/integrations/jupyter.html\" target=\"_blank\">(Documentation)</a>.<br/>\n",
       "                Project page: <a href=\"https://wandb.ai/oe_sarmanova/DANN_ethanol_test_stop_100_MLP_N02_64_16_f_batch_64_19\" target=\"_blank\">https://wandb.ai/oe_sarmanova/DANN_ethanol_test_stop_100_MLP_N02_64_16_f_batch_64_19</a><br/>\n",
       "                Run page: <a href=\"https://wandb.ai/oe_sarmanova/DANN_ethanol_test_stop_100_MLP_N02_64_16_f_batch_64_19/runs/csv2cmuz\" target=\"_blank\">https://wandb.ai/oe_sarmanova/DANN_ethanol_test_stop_100_MLP_N02_64_16_f_batch_64_19/runs/csv2cmuz</a><br/>\n",
       "                Run data is saved locally in <code>C:\\Users\\helga\\wines_november\\wandb\\run-20240528_151947-csv2cmuz</code><br/><br/>\n",
       "            "
      ],
      "text/plain": [
       "<IPython.core.display.HTML object>"
      ]
     },
     "metadata": {},
     "output_type": "display_data"
    },
    {
     "name": "stderr",
     "output_type": "stream",
     "text": [
      "wandb: WARNING Calling run.save without any arguments is deprecated.Changes to attributes are automatically persisted.\n"
     ]
    },
    {
     "name": "stdout",
     "output_type": "stream",
     "text": [
      "Reset trainable parameters of layer = Linear(in_features=1868, out_features=64, bias=True)\n",
      "Reset trainable parameters of layer = Linear(in_features=64, out_features=16, bias=True)\n",
      "Reset trainable parameters of layer = Linear(in_features=16, out_features=1, bias=True)\n",
      "Reset trainable parameters of layer = Linear(in_features=16, out_features=1, bias=True)\n"
     ]
    },
    {
     "data": {
      "text/html": [
       "<br/>Waiting for W&B process to finish, PID 23788<br/>Program ended successfully."
      ],
      "text/plain": [
       "<IPython.core.display.HTML object>"
      ]
     },
     "metadata": {},
     "output_type": "display_data"
    },
    {
     "data": {
      "application/vnd.jupyter.widget-view+json": {
       "model_id": "",
       "version_major": 2,
       "version_minor": 0
      },
      "text/plain": [
       "VBox(children=(Label(value=' 0.00MB of 0.00MB uploaded (0.00MB deduped)\\r'), FloatProgress(value=1.0, max=1.0)…"
      ]
     },
     "metadata": {},
     "output_type": "display_data"
    },
    {
     "data": {
      "text/html": [
       "Find user logs for this run at: <code>C:\\Users\\helga\\wines_november\\wandb\\run-20240528_151947-csv2cmuz\\logs\\debug.log</code>"
      ],
      "text/plain": [
       "<IPython.core.display.HTML object>"
      ]
     },
     "metadata": {},
     "output_type": "display_data"
    },
    {
     "data": {
      "text/html": [
       "Find internal logs for this run at: <code>C:\\Users\\helga\\wines_november\\wandb\\run-20240528_151947-csv2cmuz\\logs\\debug-internal.log</code>"
      ],
      "text/plain": [
       "<IPython.core.display.HTML object>"
      ]
     },
     "metadata": {},
     "output_type": "display_data"
    },
    {
     "data": {
      "text/html": [
       "<h3>Run summary:</h3><br/><style>\n",
       "    table.wandb td:nth-child(1) { padding: 0 10px; text-align: right }\n",
       "    </style><table class=\"wandb\">\n",
       "<tr><td>trn_loss</td><td>0.34695</td></tr><tr><td>vld_loss</td><td>3.18064</td></tr><tr><td>_step</td><td>1499</td></tr><tr><td>_runtime</td><td>343</td></tr><tr><td>_timestamp</td><td>1716899131</td></tr><tr><td>clsf_trn_loss</td><td>0.38362</td></tr><tr><td>clsf_vld_loss</td><td>0.32069</td></tr><tr><td>dscr_trn_loss</td><td>0.36676</td></tr><tr><td>dscr_vld_loss</td><td>0.4325</td></tr></table>"
      ],
      "text/plain": [
       "<IPython.core.display.HTML object>"
      ]
     },
     "metadata": {},
     "output_type": "display_data"
    },
    {
     "data": {
      "text/html": [
       "<h3>Run history:</h3><br/><style>\n",
       "    table.wandb td:nth-child(1) { padding: 0 10px; text-align: right }\n",
       "    </style><table class=\"wandb\">\n",
       "<tr><td>trn_loss</td><td>█▇▅▃▂▂▁▁▁▁▁▁▁▁▁▁▁▁▁▁▁▁▁▁▁▁▁▁▁▁▁▁▁▁▁▁▁▁▁▁</td></tr><tr><td>vld_loss</td><td>█▇▅▃▂▁▁▁▁▁▁▁▁▁▁▁▁▁▁▁▁▁▁▁▁▁▁▁▁▁▁▁▁▁▁▁▁▁▁▁</td></tr><tr><td>_step</td><td>▁▁▁▂▂▂▂▂▂▃▃▃▃▃▄▄▄▄▄▄▅▅▅▅▅▅▆▆▆▆▆▇▇▇▇▇▇███</td></tr><tr><td>_runtime</td><td>▁▁▁▂▂▂▂▂▂▃▃▃▃▃▄▄▄▄▄▄▅▅▅▅▅▅▆▆▆▆▆▇▇▇▇▇▇███</td></tr><tr><td>_timestamp</td><td>▁▁▁▂▂▂▂▂▂▃▃▃▃▃▄▄▄▄▄▄▅▅▅▅▅▅▆▆▆▆▆▇▇▇▇▇▇███</td></tr><tr><td>clsf_trn_loss</td><td>█▇▅▃▂▂▁▁▁▁▁▁▁▁▁▁▁▁▁▁▁▁▁▁▁▁▁▁▁▁▁▁▁▁▁▁▁▁▁▁</td></tr><tr><td>clsf_vld_loss</td><td>██▃▂▂▁▂▁▁▁▁▁▁▁▁▁▂▁▁▂▁▁▁▁▁▁▁▁▁▁▁▁▁▁▁▁▁▁▁▁</td></tr><tr><td>dscr_trn_loss</td><td>█▇▆▅▅▅▅▅▅▅▅▄▅▄▄▅▆▅▅▁▄▄▃▁▃▄▄▄▅▃▄▅▄▄▅▅▅▅▅▆</td></tr><tr><td>dscr_vld_loss</td><td>█▇▆▆▅▅▄▂▅▄▄▅▃▆▃▃▇▄▂▁▂▄▂▆▁▁▆▂▄▂▅▄▂▁▂▅▂▅▅▇</td></tr></table><br/>"
      ],
      "text/plain": [
       "<IPython.core.display.HTML object>"
      ]
     },
     "metadata": {},
     "output_type": "display_data"
    },
    {
     "data": {
      "text/html": [
       "Synced 5 W&B file(s), 0 media file(s), 0 artifact file(s) and 0 other file(s)"
      ],
      "text/plain": [
       "<IPython.core.display.HTML object>"
      ]
     },
     "metadata": {},
     "output_type": "display_data"
    },
    {
     "data": {
      "text/html": [
       "\n",
       "                    <br/>Synced <strong style=\"color:#cdcd00\">autumn-grass-21</strong>: <a href=\"https://wandb.ai/oe_sarmanova/DANN_ethanol_test_stop_100_MLP_N02_64_16_f_batch_64_19/runs/csv2cmuz\" target=\"_blank\">https://wandb.ai/oe_sarmanova/DANN_ethanol_test_stop_100_MLP_N02_64_16_f_batch_64_19/runs/csv2cmuz</a><br/>\n",
       "                "
      ],
      "text/plain": [
       "<IPython.core.display.HTML object>"
      ]
     },
     "metadata": {},
     "output_type": "display_data"
    },
    {
     "name": "stderr",
     "output_type": "stream",
     "text": [
      "wandb: wandb version 0.17.0 is available!  To upgrade, please run:\n",
      "wandb:  $ pip install wandb --upgrade\n"
     ]
    },
    {
     "data": {
      "text/html": [
       "\n",
       "                Tracking run with wandb version 0.10.15<br/>\n",
       "                Syncing run <strong style=\"color:#cdcd00\">denim-sea-22</strong> to <a href=\"https://wandb.ai\" target=\"_blank\">Weights & Biases</a> <a href=\"https://docs.wandb.com/integrations/jupyter.html\" target=\"_blank\">(Documentation)</a>.<br/>\n",
       "                Project page: <a href=\"https://wandb.ai/oe_sarmanova/DANN_ethanol_test_stop_100_MLP_N02_64_16_f_batch_64_19\" target=\"_blank\">https://wandb.ai/oe_sarmanova/DANN_ethanol_test_stop_100_MLP_N02_64_16_f_batch_64_19</a><br/>\n",
       "                Run page: <a href=\"https://wandb.ai/oe_sarmanova/DANN_ethanol_test_stop_100_MLP_N02_64_16_f_batch_64_19/runs/y59hiiil\" target=\"_blank\">https://wandb.ai/oe_sarmanova/DANN_ethanol_test_stop_100_MLP_N02_64_16_f_batch_64_19/runs/y59hiiil</a><br/>\n",
       "                Run data is saved locally in <code>C:\\Users\\helga\\wines_november\\wandb\\run-20240528_152536-y59hiiil</code><br/><br/>\n",
       "            "
      ],
      "text/plain": [
       "<IPython.core.display.HTML object>"
      ]
     },
     "metadata": {},
     "output_type": "display_data"
    },
    {
     "name": "stderr",
     "output_type": "stream",
     "text": [
      "wandb: WARNING Calling run.save without any arguments is deprecated.Changes to attributes are automatically persisted.\n"
     ]
    },
    {
     "name": "stdout",
     "output_type": "stream",
     "text": [
      "Reset trainable parameters of layer = Linear(in_features=1868, out_features=64, bias=True)\n",
      "Reset trainable parameters of layer = Linear(in_features=64, out_features=16, bias=True)\n",
      "Reset trainable parameters of layer = Linear(in_features=16, out_features=1, bias=True)\n",
      "Reset trainable parameters of layer = Linear(in_features=16, out_features=1, bias=True)\n"
     ]
    },
    {
     "data": {
      "text/html": [
       "<br/>Waiting for W&B process to finish, PID 17024<br/>Program ended successfully."
      ],
      "text/plain": [
       "<IPython.core.display.HTML object>"
      ]
     },
     "metadata": {},
     "output_type": "display_data"
    },
    {
     "data": {
      "application/vnd.jupyter.widget-view+json": {
       "model_id": "",
       "version_major": 2,
       "version_minor": 0
      },
      "text/plain": [
       "VBox(children=(Label(value=' 0.00MB of 0.00MB uploaded (0.00MB deduped)\\r'), FloatProgress(value=1.0, max=1.0)…"
      ]
     },
     "metadata": {},
     "output_type": "display_data"
    },
    {
     "data": {
      "text/html": [
       "Find user logs for this run at: <code>C:\\Users\\helga\\wines_november\\wandb\\run-20240528_152536-y59hiiil\\logs\\debug.log</code>"
      ],
      "text/plain": [
       "<IPython.core.display.HTML object>"
      ]
     },
     "metadata": {},
     "output_type": "display_data"
    },
    {
     "data": {
      "text/html": [
       "Find internal logs for this run at: <code>C:\\Users\\helga\\wines_november\\wandb\\run-20240528_152536-y59hiiil\\logs\\debug-internal.log</code>"
      ],
      "text/plain": [
       "<IPython.core.display.HTML object>"
      ]
     },
     "metadata": {},
     "output_type": "display_data"
    },
    {
     "data": {
      "text/html": [
       "<h3>Run summary:</h3><br/><style>\n",
       "    table.wandb td:nth-child(1) { padding: 0 10px; text-align: right }\n",
       "    </style><table class=\"wandb\">\n",
       "<tr><td>trn_loss</td><td>0.77837</td></tr><tr><td>vld_loss</td><td>2.85492</td></tr><tr><td>_step</td><td>2699</td></tr><tr><td>_runtime</td><td>605</td></tr><tr><td>_timestamp</td><td>1716899741</td></tr><tr><td>clsf_trn_loss</td><td>0.81503</td></tr><tr><td>clsf_vld_loss</td><td>0.63561</td></tr><tr><td>dscr_trn_loss</td><td>0.36655</td></tr><tr><td>dscr_vld_loss</td><td>0.43564</td></tr></table>"
      ],
      "text/plain": [
       "<IPython.core.display.HTML object>"
      ]
     },
     "metadata": {},
     "output_type": "display_data"
    },
    {
     "data": {
      "text/html": [
       "<h3>Run history:</h3><br/><style>\n",
       "    table.wandb td:nth-child(1) { padding: 0 10px; text-align: right }\n",
       "    </style><table class=\"wandb\">\n",
       "<tr><td>trn_loss</td><td>█▃▁▁▁▁▁▁▁▁▁▁▁▁▁▁▁▁▁▁▁▁▁▁▁▁▁▁▁▁▁▁▁▁▁▁▁▁▁▁</td></tr><tr><td>vld_loss</td><td>█▃▁▁▁▁▁▁▁▁▁▁▁▁▁▁▁▁▁▁▁▁▁▁▁▁▁▁▁▁▁▁▁▁▁▁▁▁▁▁</td></tr><tr><td>_step</td><td>▁▁▁▂▂▂▂▂▂▃▃▃▃▃▃▄▄▄▄▄▅▅▅▅▅▅▆▆▆▆▆▆▇▇▇▇▇███</td></tr><tr><td>_runtime</td><td>▁▁▁▁▂▂▂▂▂▃▃▃▃▃▃▄▄▄▄▄▅▅▅▅▅▅▆▆▆▆▆▆▇▇▇▇▇███</td></tr><tr><td>_timestamp</td><td>▁▁▁▁▂▂▂▂▂▃▃▃▃▃▃▄▄▄▄▄▅▅▅▅▅▅▆▆▆▆▆▆▇▇▇▇▇███</td></tr><tr><td>clsf_trn_loss</td><td>█▃▁▁▁▁▁▁▁▁▁▁▁▁▁▁▁▁▁▁▁▁▁▁▁▁▁▁▁▁▁▁▁▁▁▁▁▁▁▁</td></tr><tr><td>clsf_vld_loss</td><td>█▃▂▂▁▁▂▁▁▁▁▁▁▂▁▁▁▂▁▁▁▁▁▁▁▁▁▁▁▁▁▁▁▁▁▁▁▂▂▁</td></tr><tr><td>dscr_trn_loss</td><td>▂▂▁▂▁▁▂▁▁▁▁▁▁▁▁▁▂▂▁▁▁▁▁▁▁▁▁▁▁▁▁▁▁▁▁▁▂▁▂█</td></tr><tr><td>dscr_vld_loss</td><td>█▃▂▄▃▄▄▃▄▄▄▃▃▄▄▄▄▄▃▄▃▄▃▃▄▄▃▃▃▃▄▄▄▃▃▃▄▃▃▁</td></tr></table><br/>"
      ],
      "text/plain": [
       "<IPython.core.display.HTML object>"
      ]
     },
     "metadata": {},
     "output_type": "display_data"
    },
    {
     "data": {
      "text/html": [
       "Synced 5 W&B file(s), 0 media file(s), 0 artifact file(s) and 0 other file(s)"
      ],
      "text/plain": [
       "<IPython.core.display.HTML object>"
      ]
     },
     "metadata": {},
     "output_type": "display_data"
    },
    {
     "data": {
      "text/html": [
       "\n",
       "                    <br/>Synced <strong style=\"color:#cdcd00\">denim-sea-22</strong>: <a href=\"https://wandb.ai/oe_sarmanova/DANN_ethanol_test_stop_100_MLP_N02_64_16_f_batch_64_19/runs/y59hiiil\" target=\"_blank\">https://wandb.ai/oe_sarmanova/DANN_ethanol_test_stop_100_MLP_N02_64_16_f_batch_64_19/runs/y59hiiil</a><br/>\n",
       "                "
      ],
      "text/plain": [
       "<IPython.core.display.HTML object>"
      ]
     },
     "metadata": {},
     "output_type": "display_data"
    },
    {
     "name": "stderr",
     "output_type": "stream",
     "text": [
      "wandb: wandb version 0.17.0 is available!  To upgrade, please run:\n",
      "wandb:  $ pip install wandb --upgrade\n"
     ]
    },
    {
     "data": {
      "text/html": [
       "\n",
       "                Tracking run with wandb version 0.10.15<br/>\n",
       "                Syncing run <strong style=\"color:#cdcd00\">wobbly-dawn-23</strong> to <a href=\"https://wandb.ai\" target=\"_blank\">Weights & Biases</a> <a href=\"https://docs.wandb.com/integrations/jupyter.html\" target=\"_blank\">(Documentation)</a>.<br/>\n",
       "                Project page: <a href=\"https://wandb.ai/oe_sarmanova/DANN_ethanol_test_stop_100_MLP_N02_64_16_f_batch_64_19\" target=\"_blank\">https://wandb.ai/oe_sarmanova/DANN_ethanol_test_stop_100_MLP_N02_64_16_f_batch_64_19</a><br/>\n",
       "                Run page: <a href=\"https://wandb.ai/oe_sarmanova/DANN_ethanol_test_stop_100_MLP_N02_64_16_f_batch_64_19/runs/3hjge1fz\" target=\"_blank\">https://wandb.ai/oe_sarmanova/DANN_ethanol_test_stop_100_MLP_N02_64_16_f_batch_64_19/runs/3hjge1fz</a><br/>\n",
       "                Run data is saved locally in <code>C:\\Users\\helga\\wines_november\\wandb\\run-20240528_153545-3hjge1fz</code><br/><br/>\n",
       "            "
      ],
      "text/plain": [
       "<IPython.core.display.HTML object>"
      ]
     },
     "metadata": {},
     "output_type": "display_data"
    },
    {
     "name": "stderr",
     "output_type": "stream",
     "text": [
      "wandb: WARNING Calling run.save without any arguments is deprecated.Changes to attributes are automatically persisted.\n"
     ]
    },
    {
     "name": "stdout",
     "output_type": "stream",
     "text": [
      "Reset trainable parameters of layer = Linear(in_features=1868, out_features=64, bias=True)\n",
      "Reset trainable parameters of layer = Linear(in_features=64, out_features=16, bias=True)\n",
      "Reset trainable parameters of layer = Linear(in_features=16, out_features=1, bias=True)\n",
      "Reset trainable parameters of layer = Linear(in_features=16, out_features=1, bias=True)\n"
     ]
    },
    {
     "data": {
      "text/html": [
       "<br/>Waiting for W&B process to finish, PID 19296<br/>Program ended successfully."
      ],
      "text/plain": [
       "<IPython.core.display.HTML object>"
      ]
     },
     "metadata": {},
     "output_type": "display_data"
    },
    {
     "data": {
      "application/vnd.jupyter.widget-view+json": {
       "model_id": "",
       "version_major": 2,
       "version_minor": 0
      },
      "text/plain": [
       "VBox(children=(Label(value=' 0.00MB of 0.00MB uploaded (0.00MB deduped)\\r'), FloatProgress(value=1.0, max=1.0)…"
      ]
     },
     "metadata": {},
     "output_type": "display_data"
    },
    {
     "data": {
      "text/html": [
       "Find user logs for this run at: <code>C:\\Users\\helga\\wines_november\\wandb\\run-20240528_153545-3hjge1fz\\logs\\debug.log</code>"
      ],
      "text/plain": [
       "<IPython.core.display.HTML object>"
      ]
     },
     "metadata": {},
     "output_type": "display_data"
    },
    {
     "data": {
      "text/html": [
       "Find internal logs for this run at: <code>C:\\Users\\helga\\wines_november\\wandb\\run-20240528_153545-3hjge1fz\\logs\\debug-internal.log</code>"
      ],
      "text/plain": [
       "<IPython.core.display.HTML object>"
      ]
     },
     "metadata": {},
     "output_type": "display_data"
    },
    {
     "data": {
      "text/html": [
       "<h3>Run summary:</h3><br/><style>\n",
       "    table.wandb td:nth-child(1) { padding: 0 10px; text-align: right }\n",
       "    </style><table class=\"wandb\">\n",
       "<tr><td>trn_loss</td><td>0.3345</td></tr><tr><td>vld_loss</td><td>3.52611</td></tr><tr><td>_step</td><td>2099</td></tr><tr><td>_runtime</td><td>491</td></tr><tr><td>_timestamp</td><td>1716900236</td></tr><tr><td>clsf_trn_loss</td><td>0.37084</td></tr><tr><td>clsf_vld_loss</td><td>0.64494</td></tr><tr><td>dscr_trn_loss</td><td>0.36342</td></tr><tr><td>dscr_vld_loss</td><td>0.43125</td></tr></table>"
      ],
      "text/plain": [
       "<IPython.core.display.HTML object>"
      ]
     },
     "metadata": {},
     "output_type": "display_data"
    },
    {
     "data": {
      "text/html": [
       "<h3>Run history:</h3><br/><style>\n",
       "    table.wandb td:nth-child(1) { padding: 0 10px; text-align: right }\n",
       "    </style><table class=\"wandb\">\n",
       "<tr><td>trn_loss</td><td>▇▇██▇▆▄▂▁▁▁▁▁▁▁▁▁▁▁▁▁▁▁▁▁▁▁▁▁▁▁▁▁▁▁▁▁▁▁▁</td></tr><tr><td>vld_loss</td><td>▇█████▃▂▂▁▁▁▁▁▁▁▁▁▁▁▁▁▁▁▁▁▁▁▁▁▁▁▁▁▁▁▁▁▁▁</td></tr><tr><td>_step</td><td>▁▁▁▁▂▂▂▂▂▃▃▃▃▃▃▄▄▄▄▄▅▅▅▅▅▅▆▆▆▆▆▆▇▇▇▇▇███</td></tr><tr><td>_runtime</td><td>▁▁▁▁▂▂▂▂▂▂▃▃▃▃▃▄▄▄▄▄▄▅▅▅▅▅▅▆▆▆▆▆▇▇▇▇▇▇██</td></tr><tr><td>_timestamp</td><td>▁▁▁▁▂▂▂▂▂▂▃▃▃▃▃▄▄▄▄▄▄▅▅▅▅▅▅▆▆▆▆▆▇▇▇▇▇▇██</td></tr><tr><td>clsf_trn_loss</td><td>▇▇██▇▆▄▂▁▁▁▁▁▁▁▁▁▁▁▁▁▁▁▁▁▁▁▁▁▁▁▁▁▁▁▁▁▁▁▁</td></tr><tr><td>clsf_vld_loss</td><td>▅▆█▆▅▇▃▂▁▁▁▁▁▁▁▁▁▁▁▁▁▁▁▁▁▁▂▂▁▁▁▁▁▁▁▁▁▁▂▁</td></tr><tr><td>dscr_trn_loss</td><td>▆▅█▄▅▆▂▅▄▃▁▂▃▂▃▂▅▄▃▄▂▄▄▃▅▄▃▅▂▁▄▃▅▂▃▃▅▂▃▃</td></tr><tr><td>dscr_vld_loss</td><td>▆▆▇▅▆▆█▁▅▆▆▆▆▆▄▆▆▅▆▅▄▅▅▅▆▆▄▄▃▅▆▅▅▆▅▅▅▃▇▅</td></tr></table><br/>"
      ],
      "text/plain": [
       "<IPython.core.display.HTML object>"
      ]
     },
     "metadata": {},
     "output_type": "display_data"
    },
    {
     "data": {
      "text/html": [
       "Synced 5 W&B file(s), 0 media file(s), 0 artifact file(s) and 0 other file(s)"
      ],
      "text/plain": [
       "<IPython.core.display.HTML object>"
      ]
     },
     "metadata": {},
     "output_type": "display_data"
    },
    {
     "data": {
      "text/html": [
       "\n",
       "                    <br/>Synced <strong style=\"color:#cdcd00\">wobbly-dawn-23</strong>: <a href=\"https://wandb.ai/oe_sarmanova/DANN_ethanol_test_stop_100_MLP_N02_64_16_f_batch_64_19/runs/3hjge1fz\" target=\"_blank\">https://wandb.ai/oe_sarmanova/DANN_ethanol_test_stop_100_MLP_N02_64_16_f_batch_64_19/runs/3hjge1fz</a><br/>\n",
       "                "
      ],
      "text/plain": [
       "<IPython.core.display.HTML object>"
      ]
     },
     "metadata": {},
     "output_type": "display_data"
    },
    {
     "name": "stderr",
     "output_type": "stream",
     "text": [
      "wandb: wandb version 0.17.0 is available!  To upgrade, please run:\n",
      "wandb:  $ pip install wandb --upgrade\n"
     ]
    },
    {
     "data": {
      "text/html": [
       "\n",
       "                Tracking run with wandb version 0.10.15<br/>\n",
       "                Syncing run <strong style=\"color:#cdcd00\">feasible-sunset-24</strong> to <a href=\"https://wandb.ai\" target=\"_blank\">Weights & Biases</a> <a href=\"https://docs.wandb.com/integrations/jupyter.html\" target=\"_blank\">(Documentation)</a>.<br/>\n",
       "                Project page: <a href=\"https://wandb.ai/oe_sarmanova/DANN_ethanol_test_stop_100_MLP_N02_64_16_f_batch_64_19\" target=\"_blank\">https://wandb.ai/oe_sarmanova/DANN_ethanol_test_stop_100_MLP_N02_64_16_f_batch_64_19</a><br/>\n",
       "                Run page: <a href=\"https://wandb.ai/oe_sarmanova/DANN_ethanol_test_stop_100_MLP_N02_64_16_f_batch_64_19/runs/1mi23q09\" target=\"_blank\">https://wandb.ai/oe_sarmanova/DANN_ethanol_test_stop_100_MLP_N02_64_16_f_batch_64_19/runs/1mi23q09</a><br/>\n",
       "                Run data is saved locally in <code>C:\\Users\\helga\\wines_november\\wandb\\run-20240528_154404-1mi23q09</code><br/><br/>\n",
       "            "
      ],
      "text/plain": [
       "<IPython.core.display.HTML object>"
      ]
     },
     "metadata": {},
     "output_type": "display_data"
    },
    {
     "name": "stderr",
     "output_type": "stream",
     "text": [
      "wandb: WARNING Calling run.save without any arguments is deprecated.Changes to attributes are automatically persisted.\n"
     ]
    },
    {
     "name": "stdout",
     "output_type": "stream",
     "text": [
      "Reset trainable parameters of layer = Linear(in_features=1868, out_features=64, bias=True)\n",
      "Reset trainable parameters of layer = Linear(in_features=64, out_features=16, bias=True)\n",
      "Reset trainable parameters of layer = Linear(in_features=16, out_features=1, bias=True)\n",
      "Reset trainable parameters of layer = Linear(in_features=16, out_features=1, bias=True)\n"
     ]
    },
    {
     "data": {
      "text/html": [
       "<br/>Waiting for W&B process to finish, PID 15300<br/>Program ended successfully."
      ],
      "text/plain": [
       "<IPython.core.display.HTML object>"
      ]
     },
     "metadata": {},
     "output_type": "display_data"
    },
    {
     "data": {
      "application/vnd.jupyter.widget-view+json": {
       "model_id": "",
       "version_major": 2,
       "version_minor": 0
      },
      "text/plain": [
       "VBox(children=(Label(value=' 0.00MB of 0.00MB uploaded (0.00MB deduped)\\r'), FloatProgress(value=1.0, max=1.0)…"
      ]
     },
     "metadata": {},
     "output_type": "display_data"
    },
    {
     "data": {
      "text/html": [
       "Find user logs for this run at: <code>C:\\Users\\helga\\wines_november\\wandb\\run-20240528_154404-1mi23q09\\logs\\debug.log</code>"
      ],
      "text/plain": [
       "<IPython.core.display.HTML object>"
      ]
     },
     "metadata": {},
     "output_type": "display_data"
    },
    {
     "data": {
      "text/html": [
       "Find internal logs for this run at: <code>C:\\Users\\helga\\wines_november\\wandb\\run-20240528_154404-1mi23q09\\logs\\debug-internal.log</code>"
      ],
      "text/plain": [
       "<IPython.core.display.HTML object>"
      ]
     },
     "metadata": {},
     "output_type": "display_data"
    },
    {
     "data": {
      "text/html": [
       "<h3>Run summary:</h3><br/><style>\n",
       "    table.wandb td:nth-child(1) { padding: 0 10px; text-align: right }\n",
       "    </style><table class=\"wandb\">\n",
       "<tr><td>trn_loss</td><td>0.18624</td></tr><tr><td>vld_loss</td><td>2.23049</td></tr><tr><td>_step</td><td>3899</td></tr><tr><td>_runtime</td><td>1052</td></tr><tr><td>_timestamp</td><td>1716901296</td></tr><tr><td>clsf_trn_loss</td><td>0.22279</td></tr><tr><td>clsf_vld_loss</td><td>0.33207</td></tr><tr><td>dscr_trn_loss</td><td>0.36557</td></tr><tr><td>dscr_vld_loss</td><td>0.43526</td></tr></table>"
      ],
      "text/plain": [
       "<IPython.core.display.HTML object>"
      ]
     },
     "metadata": {},
     "output_type": "display_data"
    },
    {
     "data": {
      "text/html": [
       "<h3>Run history:</h3><br/><style>\n",
       "    table.wandb td:nth-child(1) { padding: 0 10px; text-align: right }\n",
       "    </style><table class=\"wandb\">\n",
       "<tr><td>trn_loss</td><td>█▂▁▁▁▁▁▁▁▁▁▁▁▁▂▁▁▁▁▁▁▁▁▁▁▁▁▁▁▁▁▁▁▁▁▁▁▁▁▁</td></tr><tr><td>vld_loss</td><td>█▂▁▁▁▁▁▁▁▁▁▁▁▁▁▁▁▁▁▁▁▁▁▁▁▁▁▁▁▁▁▁▁▁▁▁▁▁▁▁</td></tr><tr><td>_step</td><td>▁▁▁▂▂▂▂▂▂▃▃▃▃▃▄▄▄▄▄▄▅▅▅▅▅▅▆▆▆▆▆▇▇▇▇▇▇███</td></tr><tr><td>_runtime</td><td>▁▁▁▂▂▂▂▂▂▃▃▃▃▃▄▄▄▄▄▄▅▅▅▅▅▅▆▆▆▆▆▇▇▇▇▇▇███</td></tr><tr><td>_timestamp</td><td>▁▁▁▂▂▂▂▂▂▃▃▃▃▃▄▄▄▄▄▄▅▅▅▅▅▅▆▆▆▆▆▇▇▇▇▇▇███</td></tr><tr><td>clsf_trn_loss</td><td>█▂▁▁▁▁▁▁▁▁▁▁▁▁▂▁▁▁▁▁▁▁▁▁▁▁▁▁▁▁▁▁▁▁▁▁▁▁▁▁</td></tr><tr><td>clsf_vld_loss</td><td>█▂▁▁▁▁▁▁▁▁▁▃▁▁▁▁▁▁▃▁▃▁▁▁▂▂▂▂▁▁▂▁▁▁▁▁▁▁▁▁</td></tr><tr><td>dscr_trn_loss</td><td>▃▃▂▂▂▂▃▂▂▂▂▃▃▃▃▃▃▃▃▃▃▃▃▃▃▃▃▂▂▁▂▃▃▃▂█▃▃▃▃</td></tr><tr><td>dscr_vld_loss</td><td>▂▂▂▂▂▂▁▁▂▂▂▂▂▂▂▂▂▂▂▂▂▂▂▂▂▂▃▂▂▂▂▃▂▂▁█▂▃▂▂</td></tr></table><br/>"
      ],
      "text/plain": [
       "<IPython.core.display.HTML object>"
      ]
     },
     "metadata": {},
     "output_type": "display_data"
    },
    {
     "data": {
      "text/html": [
       "Synced 5 W&B file(s), 0 media file(s), 0 artifact file(s) and 0 other file(s)"
      ],
      "text/plain": [
       "<IPython.core.display.HTML object>"
      ]
     },
     "metadata": {},
     "output_type": "display_data"
    },
    {
     "data": {
      "text/html": [
       "\n",
       "                    <br/>Synced <strong style=\"color:#cdcd00\">feasible-sunset-24</strong>: <a href=\"https://wandb.ai/oe_sarmanova/DANN_ethanol_test_stop_100_MLP_N02_64_16_f_batch_64_19/runs/1mi23q09\" target=\"_blank\">https://wandb.ai/oe_sarmanova/DANN_ethanol_test_stop_100_MLP_N02_64_16_f_batch_64_19/runs/1mi23q09</a><br/>\n",
       "                "
      ],
      "text/plain": [
       "<IPython.core.display.HTML object>"
      ]
     },
     "metadata": {},
     "output_type": "display_data"
    },
    {
     "name": "stderr",
     "output_type": "stream",
     "text": [
      "wandb: wandb version 0.17.0 is available!  To upgrade, please run:\n",
      "wandb:  $ pip install wandb --upgrade\n"
     ]
    },
    {
     "data": {
      "text/html": [
       "\n",
       "                Tracking run with wandb version 0.10.15<br/>\n",
       "                Syncing run <strong style=\"color:#cdcd00\">likely-sun-25</strong> to <a href=\"https://wandb.ai\" target=\"_blank\">Weights & Biases</a> <a href=\"https://docs.wandb.com/integrations/jupyter.html\" target=\"_blank\">(Documentation)</a>.<br/>\n",
       "                Project page: <a href=\"https://wandb.ai/oe_sarmanova/DANN_ethanol_test_stop_100_MLP_N02_64_16_f_batch_64_19\" target=\"_blank\">https://wandb.ai/oe_sarmanova/DANN_ethanol_test_stop_100_MLP_N02_64_16_f_batch_64_19</a><br/>\n",
       "                Run page: <a href=\"https://wandb.ai/oe_sarmanova/DANN_ethanol_test_stop_100_MLP_N02_64_16_f_batch_64_19/runs/17zkmat5\" target=\"_blank\">https://wandb.ai/oe_sarmanova/DANN_ethanol_test_stop_100_MLP_N02_64_16_f_batch_64_19/runs/17zkmat5</a><br/>\n",
       "                Run data is saved locally in <code>C:\\Users\\helga\\wines_november\\wandb\\run-20240528_160141-17zkmat5</code><br/><br/>\n",
       "            "
      ],
      "text/plain": [
       "<IPython.core.display.HTML object>"
      ]
     },
     "metadata": {},
     "output_type": "display_data"
    },
    {
     "name": "stderr",
     "output_type": "stream",
     "text": [
      "wandb: WARNING Calling run.save without any arguments is deprecated.Changes to attributes are automatically persisted.\n"
     ]
    },
    {
     "name": "stdout",
     "output_type": "stream",
     "text": [
      "Reset trainable parameters of layer = Linear(in_features=1868, out_features=64, bias=True)\n",
      "Reset trainable parameters of layer = Linear(in_features=64, out_features=16, bias=True)\n",
      "Reset trainable parameters of layer = Linear(in_features=16, out_features=1, bias=True)\n",
      "Reset trainable parameters of layer = Linear(in_features=16, out_features=1, bias=True)\n"
     ]
    },
    {
     "data": {
      "text/html": [
       "<br/>Waiting for W&B process to finish, PID 24364<br/>Program ended successfully."
      ],
      "text/plain": [
       "<IPython.core.display.HTML object>"
      ]
     },
     "metadata": {},
     "output_type": "display_data"
    },
    {
     "data": {
      "application/vnd.jupyter.widget-view+json": {
       "model_id": "",
       "version_major": 2,
       "version_minor": 0
      },
      "text/plain": [
       "VBox(children=(Label(value=' 0.00MB of 0.00MB uploaded (0.00MB deduped)\\r'), FloatProgress(value=1.0, max=1.0)…"
      ]
     },
     "metadata": {},
     "output_type": "display_data"
    },
    {
     "data": {
      "text/html": [
       "Find user logs for this run at: <code>C:\\Users\\helga\\wines_november\\wandb\\run-20240528_160141-17zkmat5\\logs\\debug.log</code>"
      ],
      "text/plain": [
       "<IPython.core.display.HTML object>"
      ]
     },
     "metadata": {},
     "output_type": "display_data"
    },
    {
     "data": {
      "text/html": [
       "Find internal logs for this run at: <code>C:\\Users\\helga\\wines_november\\wandb\\run-20240528_160141-17zkmat5\\logs\\debug-internal.log</code>"
      ],
      "text/plain": [
       "<IPython.core.display.HTML object>"
      ]
     },
     "metadata": {},
     "output_type": "display_data"
    },
    {
     "data": {
      "text/html": [
       "<h3>Run summary:</h3><br/><style>\n",
       "    table.wandb td:nth-child(1) { padding: 0 10px; text-align: right }\n",
       "    </style><table class=\"wandb\">\n",
       "<tr><td>trn_loss</td><td>0.3902</td></tr><tr><td>vld_loss</td><td>2.4881</td></tr><tr><td>_step</td><td>3299</td></tr><tr><td>_runtime</td><td>857</td></tr><tr><td>_timestamp</td><td>1716902158</td></tr><tr><td>clsf_trn_loss</td><td>0.43152</td></tr><tr><td>clsf_vld_loss</td><td>0.22458</td></tr><tr><td>dscr_trn_loss</td><td>0.41315</td></tr><tr><td>dscr_vld_loss</td><td>0.42036</td></tr></table>"
      ],
      "text/plain": [
       "<IPython.core.display.HTML object>"
      ]
     },
     "metadata": {},
     "output_type": "display_data"
    },
    {
     "data": {
      "text/html": [
       "<h3>Run history:</h3><br/><style>\n",
       "    table.wandb td:nth-child(1) { padding: 0 10px; text-align: right }\n",
       "    </style><table class=\"wandb\">\n",
       "<tr><td>trn_loss</td><td>▇█▇▇█▇▄▂▁▁▂▁▁▁▁▁▁▁▁▁▁▁▁▁▁▁▁▁▁▁▁▁▁▁▁▁▁▁▁▁</td></tr><tr><td>vld_loss</td><td>██████▄▂▂▁▁▁▁▁▁▁▁▁▁▁▁▁▁▁▁▁▁▁▁▁▁▁▁▁▁▁▁▁▁▁</td></tr><tr><td>_step</td><td>▁▁▁▁▂▂▂▂▂▃▃▃▃▃▃▄▄▄▄▄▅▅▅▅▅▅▆▆▆▆▆▇▇▇▇▇▇███</td></tr><tr><td>_runtime</td><td>▁▁▁▁▂▂▂▂▂▃▃▃▃▃▃▄▄▄▄▄▅▅▅▅▅▅▆▆▆▆▆▇▇▇▇▇▇███</td></tr><tr><td>_timestamp</td><td>▁▁▁▁▂▂▂▂▂▃▃▃▃▃▃▄▄▄▄▄▅▅▅▅▅▅▆▆▆▆▆▇▇▇▇▇▇███</td></tr><tr><td>clsf_trn_loss</td><td>▇█▇▇█▇▄▂▁▁▂▁▁▁▁▁▁▁▁▁▁▁▁▁▁▁▁▁▁▁▁▁▁▁▁▁▁▁▁▁</td></tr><tr><td>clsf_vld_loss</td><td>▅█▇▅██▄▂▂▁▁▂▁▁▂▁▁▁▁▁▁▁▁▁▁▁▁▁▁▁▁▁▁▁▁▁▁▁▂▁</td></tr><tr><td>dscr_trn_loss</td><td>▅▅▅▇▇▆█▆▆▆▅▅▆▆▄▆▆▆▅▅▆▆▆▆▆▆▆▆▇▇▅▅▆▅▄▃▃▃▁▂</td></tr><tr><td>dscr_vld_loss</td><td>▃▃▃▄▄▄▃█▃▃▃▃▃▃▃▃▃▄▃▄▄▃▃▄▃▃▄▃▄▃▃▃▃▃▂▁▁▂▁▁</td></tr></table><br/>"
      ],
      "text/plain": [
       "<IPython.core.display.HTML object>"
      ]
     },
     "metadata": {},
     "output_type": "display_data"
    },
    {
     "data": {
      "text/html": [
       "Synced 5 W&B file(s), 0 media file(s), 0 artifact file(s) and 0 other file(s)"
      ],
      "text/plain": [
       "<IPython.core.display.HTML object>"
      ]
     },
     "metadata": {},
     "output_type": "display_data"
    },
    {
     "data": {
      "text/html": [
       "\n",
       "                    <br/>Synced <strong style=\"color:#cdcd00\">likely-sun-25</strong>: <a href=\"https://wandb.ai/oe_sarmanova/DANN_ethanol_test_stop_100_MLP_N02_64_16_f_batch_64_19/runs/17zkmat5\" target=\"_blank\">https://wandb.ai/oe_sarmanova/DANN_ethanol_test_stop_100_MLP_N02_64_16_f_batch_64_19/runs/17zkmat5</a><br/>\n",
       "                "
      ],
      "text/plain": [
       "<IPython.core.display.HTML object>"
      ]
     },
     "metadata": {},
     "output_type": "display_data"
    },
    {
     "name": "stderr",
     "output_type": "stream",
     "text": [
      "wandb: wandb version 0.17.0 is available!  To upgrade, please run:\n",
      "wandb:  $ pip install wandb --upgrade\n"
     ]
    },
    {
     "data": {
      "text/html": [
       "\n",
       "                Tracking run with wandb version 0.10.15<br/>\n",
       "                Syncing run <strong style=\"color:#cdcd00\">colorful-breeze-26</strong> to <a href=\"https://wandb.ai\" target=\"_blank\">Weights & Biases</a> <a href=\"https://docs.wandb.com/integrations/jupyter.html\" target=\"_blank\">(Documentation)</a>.<br/>\n",
       "                Project page: <a href=\"https://wandb.ai/oe_sarmanova/DANN_ethanol_test_stop_100_MLP_N02_64_16_f_batch_64_19\" target=\"_blank\">https://wandb.ai/oe_sarmanova/DANN_ethanol_test_stop_100_MLP_N02_64_16_f_batch_64_19</a><br/>\n",
       "                Run page: <a href=\"https://wandb.ai/oe_sarmanova/DANN_ethanol_test_stop_100_MLP_N02_64_16_f_batch_64_19/runs/2g1zevrw\" target=\"_blank\">https://wandb.ai/oe_sarmanova/DANN_ethanol_test_stop_100_MLP_N02_64_16_f_batch_64_19/runs/2g1zevrw</a><br/>\n",
       "                Run data is saved locally in <code>C:\\Users\\helga\\wines_november\\wandb\\run-20240528_161611-2g1zevrw</code><br/><br/>\n",
       "            "
      ],
      "text/plain": [
       "<IPython.core.display.HTML object>"
      ]
     },
     "metadata": {},
     "output_type": "display_data"
    },
    {
     "name": "stderr",
     "output_type": "stream",
     "text": [
      "wandb: WARNING Calling run.save without any arguments is deprecated.Changes to attributes are automatically persisted.\n"
     ]
    },
    {
     "name": "stdout",
     "output_type": "stream",
     "text": [
      "Reset trainable parameters of layer = Linear(in_features=1868, out_features=64, bias=True)\n",
      "Reset trainable parameters of layer = Linear(in_features=64, out_features=16, bias=True)\n",
      "Reset trainable parameters of layer = Linear(in_features=16, out_features=1, bias=True)\n",
      "Reset trainable parameters of layer = Linear(in_features=16, out_features=1, bias=True)\n"
     ]
    },
    {
     "data": {
      "text/html": [
       "<br/>Waiting for W&B process to finish, PID 20092<br/>Program ended successfully."
      ],
      "text/plain": [
       "<IPython.core.display.HTML object>"
      ]
     },
     "metadata": {},
     "output_type": "display_data"
    },
    {
     "data": {
      "application/vnd.jupyter.widget-view+json": {
       "model_id": "",
       "version_major": 2,
       "version_minor": 0
      },
      "text/plain": [
       "VBox(children=(Label(value=' 0.00MB of 0.00MB uploaded (0.00MB deduped)\\r'), FloatProgress(value=1.0, max=1.0)…"
      ]
     },
     "metadata": {},
     "output_type": "display_data"
    },
    {
     "data": {
      "text/html": [
       "Find user logs for this run at: <code>C:\\Users\\helga\\wines_november\\wandb\\run-20240528_161611-2g1zevrw\\logs\\debug.log</code>"
      ],
      "text/plain": [
       "<IPython.core.display.HTML object>"
      ]
     },
     "metadata": {},
     "output_type": "display_data"
    },
    {
     "data": {
      "text/html": [
       "Find internal logs for this run at: <code>C:\\Users\\helga\\wines_november\\wandb\\run-20240528_161611-2g1zevrw\\logs\\debug-internal.log</code>"
      ],
      "text/plain": [
       "<IPython.core.display.HTML object>"
      ]
     },
     "metadata": {},
     "output_type": "display_data"
    },
    {
     "data": {
      "text/html": [
       "<h3>Run summary:</h3><br/><style>\n",
       "    table.wandb td:nth-child(1) { padding: 0 10px; text-align: right }\n",
       "    </style><table class=\"wandb\">\n",
       "<tr><td>trn_loss</td><td>0.42471</td></tr><tr><td>vld_loss</td><td>2.85777</td></tr><tr><td>_step</td><td>2699</td></tr><tr><td>_runtime</td><td>699</td></tr><tr><td>_timestamp</td><td>1716902870</td></tr><tr><td>clsf_trn_loss</td><td>0.46184</td></tr><tr><td>clsf_vld_loss</td><td>0.21188</td></tr><tr><td>dscr_trn_loss</td><td>0.37131</td></tr><tr><td>dscr_vld_loss</td><td>0.4363</td></tr></table>"
      ],
      "text/plain": [
       "<IPython.core.display.HTML object>"
      ]
     },
     "metadata": {},
     "output_type": "display_data"
    },
    {
     "data": {
      "text/html": [
       "<h3>Run history:</h3><br/><style>\n",
       "    table.wandb td:nth-child(1) { padding: 0 10px; text-align: right }\n",
       "    </style><table class=\"wandb\">\n",
       "<tr><td>trn_loss</td><td>█▄▁▂▁▁▂▁▁▁▁▁▁▁▁▁▂▂▁▁▁▁▁▁▁▁▁▁▁▁▁▁▁▁▁▁▁▁▁▁</td></tr><tr><td>vld_loss</td><td>█▄▂▁▁▁▁▁▁▁▁▁▁▁▁▁▁▁▁▁▁▁▁▁▁▁▁▁▁▁▁▁▁▁▁▁▁▁▁▁</td></tr><tr><td>_step</td><td>▁▁▁▂▂▂▂▂▂▃▃▃▃▃▃▄▄▄▄▄▅▅▅▅▅▅▆▆▆▆▆▆▇▇▇▇▇███</td></tr><tr><td>_runtime</td><td>▁▁▁▁▂▂▂▂▂▃▃▃▃▃▃▄▄▄▄▄▅▅▅▅▅▅▆▆▆▆▆▇▇▇▇▇▇███</td></tr><tr><td>_timestamp</td><td>▁▁▁▁▂▂▂▂▂▃▃▃▃▃▃▄▄▄▄▄▅▅▅▅▅▅▆▆▆▆▆▇▇▇▇▇▇███</td></tr><tr><td>clsf_trn_loss</td><td>█▄▁▂▁▁▂▁▁▁▁▁▁▁▁▁▂▂▁▁▁▁▁▁▁▁▁▁▁▁▁▁▁▁▁▁▁▁▁▁</td></tr><tr><td>clsf_vld_loss</td><td>█▄▂▁▂▁▁▁▁▂▁▁▁▁▁▁▁▁▁▁▁▁▁▁▁▁▁▁▁▁▁▁▁▃▁▁▁▁▁▃</td></tr><tr><td>dscr_trn_loss</td><td>▄▅█▄▆▃▄▃▃▃▃▄▁▄▄▅▅▄▂▃▄▅▁▆▁▄▄▄▄▄▃▃▄▃▃▅▄▄▄▃</td></tr><tr><td>dscr_vld_loss</td><td>▇▅▆▇▁▇▇▇▇▆▇▆▆▆▆▆▆▆█▆▇█▆█▇▇█▇▇▇▆▆▇▂▆▆▆▅▆▂</td></tr></table><br/>"
      ],
      "text/plain": [
       "<IPython.core.display.HTML object>"
      ]
     },
     "metadata": {},
     "output_type": "display_data"
    },
    {
     "data": {
      "text/html": [
       "Synced 5 W&B file(s), 0 media file(s), 0 artifact file(s) and 0 other file(s)"
      ],
      "text/plain": [
       "<IPython.core.display.HTML object>"
      ]
     },
     "metadata": {},
     "output_type": "display_data"
    },
    {
     "data": {
      "text/html": [
       "\n",
       "                    <br/>Synced <strong style=\"color:#cdcd00\">colorful-breeze-26</strong>: <a href=\"https://wandb.ai/oe_sarmanova/DANN_ethanol_test_stop_100_MLP_N02_64_16_f_batch_64_19/runs/2g1zevrw\" target=\"_blank\">https://wandb.ai/oe_sarmanova/DANN_ethanol_test_stop_100_MLP_N02_64_16_f_batch_64_19/runs/2g1zevrw</a><br/>\n",
       "                "
      ],
      "text/plain": [
       "<IPython.core.display.HTML object>"
      ]
     },
     "metadata": {},
     "output_type": "display_data"
    },
    {
     "name": "stderr",
     "output_type": "stream",
     "text": [
      "wandb: wandb version 0.17.0 is available!  To upgrade, please run:\n",
      "wandb:  $ pip install wandb --upgrade\n"
     ]
    },
    {
     "data": {
      "text/html": [
       "\n",
       "                Tracking run with wandb version 0.10.15<br/>\n",
       "                Syncing run <strong style=\"color:#cdcd00\">magic-pond-27</strong> to <a href=\"https://wandb.ai\" target=\"_blank\">Weights & Biases</a> <a href=\"https://docs.wandb.com/integrations/jupyter.html\" target=\"_blank\">(Documentation)</a>.<br/>\n",
       "                Project page: <a href=\"https://wandb.ai/oe_sarmanova/DANN_ethanol_test_stop_100_MLP_N02_64_16_f_batch_64_19\" target=\"_blank\">https://wandb.ai/oe_sarmanova/DANN_ethanol_test_stop_100_MLP_N02_64_16_f_batch_64_19</a><br/>\n",
       "                Run page: <a href=\"https://wandb.ai/oe_sarmanova/DANN_ethanol_test_stop_100_MLP_N02_64_16_f_batch_64_19/runs/37jf2zsp\" target=\"_blank\">https://wandb.ai/oe_sarmanova/DANN_ethanol_test_stop_100_MLP_N02_64_16_f_batch_64_19/runs/37jf2zsp</a><br/>\n",
       "                Run data is saved locally in <code>C:\\Users\\helga\\wines_november\\wandb\\run-20240528_162755-37jf2zsp</code><br/><br/>\n",
       "            "
      ],
      "text/plain": [
       "<IPython.core.display.HTML object>"
      ]
     },
     "metadata": {},
     "output_type": "display_data"
    },
    {
     "name": "stderr",
     "output_type": "stream",
     "text": [
      "wandb: WARNING Calling run.save without any arguments is deprecated.Changes to attributes are automatically persisted.\n"
     ]
    },
    {
     "name": "stdout",
     "output_type": "stream",
     "text": [
      "Reset trainable parameters of layer = Linear(in_features=1868, out_features=64, bias=True)\n",
      "Reset trainable parameters of layer = Linear(in_features=64, out_features=16, bias=True)\n",
      "Reset trainable parameters of layer = Linear(in_features=16, out_features=1, bias=True)\n",
      "Reset trainable parameters of layer = Linear(in_features=16, out_features=1, bias=True)\n"
     ]
    },
    {
     "data": {
      "text/html": [
       "<br/>Waiting for W&B process to finish, PID 5136<br/>Program ended successfully."
      ],
      "text/plain": [
       "<IPython.core.display.HTML object>"
      ]
     },
     "metadata": {},
     "output_type": "display_data"
    },
    {
     "data": {
      "application/vnd.jupyter.widget-view+json": {
       "model_id": "",
       "version_major": 2,
       "version_minor": 0
      },
      "text/plain": [
       "VBox(children=(Label(value=' 0.00MB of 0.00MB uploaded (0.00MB deduped)\\r'), FloatProgress(value=1.0, max=1.0)…"
      ]
     },
     "metadata": {},
     "output_type": "display_data"
    },
    {
     "data": {
      "text/html": [
       "Find user logs for this run at: <code>C:\\Users\\helga\\wines_november\\wandb\\run-20240528_162755-37jf2zsp\\logs\\debug.log</code>"
      ],
      "text/plain": [
       "<IPython.core.display.HTML object>"
      ]
     },
     "metadata": {},
     "output_type": "display_data"
    },
    {
     "data": {
      "text/html": [
       "Find internal logs for this run at: <code>C:\\Users\\helga\\wines_november\\wandb\\run-20240528_162755-37jf2zsp\\logs\\debug-internal.log</code>"
      ],
      "text/plain": [
       "<IPython.core.display.HTML object>"
      ]
     },
     "metadata": {},
     "output_type": "display_data"
    },
    {
     "data": {
      "text/html": [
       "<h3>Run summary:</h3><br/><style>\n",
       "    table.wandb td:nth-child(1) { padding: 0 10px; text-align: right }\n",
       "    </style><table class=\"wandb\">\n",
       "<tr><td>trn_loss</td><td>0.17124</td></tr><tr><td>vld_loss</td><td>2.02756</td></tr><tr><td>_step</td><td>899</td></tr><tr><td>_runtime</td><td>236</td></tr><tr><td>_timestamp</td><td>1716903111</td></tr><tr><td>clsf_trn_loss</td><td>0.20757</td></tr><tr><td>clsf_vld_loss</td><td>0.26813</td></tr><tr><td>dscr_trn_loss</td><td>0.36328</td></tr><tr><td>dscr_vld_loss</td><td>0.43061</td></tr></table>"
      ],
      "text/plain": [
       "<IPython.core.display.HTML object>"
      ]
     },
     "metadata": {},
     "output_type": "display_data"
    },
    {
     "data": {
      "text/html": [
       "<h3>Run history:</h3><br/><style>\n",
       "    table.wandb td:nth-child(1) { padding: 0 10px; text-align: right }\n",
       "    </style><table class=\"wandb\">\n",
       "<tr><td>trn_loss</td><td>▅█▅▃▂▂▁▁▁▁▁▁▁▁▁▁▁▁▁▁▁▁▂▁▁▁▁▁▁▁▁▁▁▁▁▁▁▁▁▁</td></tr><tr><td>vld_loss</td><td>██▆▄▂▂▁▁▁▁▁▁▁▁▁▁▁▁▁▁▁▁▁▁▁▁▁▁▁▁▁▁▁▁▁▁▁▁▁▁</td></tr><tr><td>_step</td><td>▁▁▁▂▂▂▂▂▂▃▃▃▃▃▃▄▄▄▄▄▅▅▅▅▅▅▆▆▆▆▆▇▇▇▇▇▇███</td></tr><tr><td>_runtime</td><td>▁▁▁▁▂▂▂▂▂▃▃▃▃▃▃▄▄▄▄▄▅▅▅▅▅▅▆▆▆▆▆▇▇▇▇▇▇███</td></tr><tr><td>_timestamp</td><td>▁▁▁▁▂▂▂▂▂▃▃▃▃▃▃▄▄▄▄▄▅▅▅▅▅▅▆▆▆▆▆▇▇▇▇▇▇███</td></tr><tr><td>clsf_trn_loss</td><td>▅█▅▃▂▂▁▁▁▁▁▁▁▁▁▁▁▁▁▁▁▁▂▁▁▁▁▁▁▁▁▁▁▁▁▁▁▁▁▁</td></tr><tr><td>clsf_vld_loss</td><td>▅█▆▄▂▁▁▁▁▁▁▁▁▁▁▁▁▁▁▁▁▁▁▁▁▁▁▁▁▁▁▁▁▁▁▁▁▁▁▁</td></tr><tr><td>dscr_trn_loss</td><td>▃▄█▄▆▂▄▄▃▃▃▃▂▃▃▂▃▃▂▂▂▂▂▂▂▁▂▂▂▂▂▃▁▂▂▂▂▁▁▁</td></tr><tr><td>dscr_vld_loss</td><td>▆▆█▆▂▅▇▆▆▆▆▆▆▁▆▆▆▆▆▆▆▆▆▆▅▅▅▆▆▆▅▆▆▆▅▅▅▅▆▆</td></tr></table><br/>"
      ],
      "text/plain": [
       "<IPython.core.display.HTML object>"
      ]
     },
     "metadata": {},
     "output_type": "display_data"
    },
    {
     "data": {
      "text/html": [
       "Synced 5 W&B file(s), 0 media file(s), 0 artifact file(s) and 0 other file(s)"
      ],
      "text/plain": [
       "<IPython.core.display.HTML object>"
      ]
     },
     "metadata": {},
     "output_type": "display_data"
    },
    {
     "data": {
      "text/html": [
       "\n",
       "                    <br/>Synced <strong style=\"color:#cdcd00\">magic-pond-27</strong>: <a href=\"https://wandb.ai/oe_sarmanova/DANN_ethanol_test_stop_100_MLP_N02_64_16_f_batch_64_19/runs/37jf2zsp\" target=\"_blank\">https://wandb.ai/oe_sarmanova/DANN_ethanol_test_stop_100_MLP_N02_64_16_f_batch_64_19/runs/37jf2zsp</a><br/>\n",
       "                "
      ],
      "text/plain": [
       "<IPython.core.display.HTML object>"
      ]
     },
     "metadata": {},
     "output_type": "display_data"
    },
    {
     "name": "stderr",
     "output_type": "stream",
     "text": [
      "wandb: wandb version 0.17.0 is available!  To upgrade, please run:\n",
      "wandb:  $ pip install wandb --upgrade\n"
     ]
    },
    {
     "data": {
      "text/html": [
       "\n",
       "                Tracking run with wandb version 0.10.15<br/>\n",
       "                Syncing run <strong style=\"color:#cdcd00\">lively-gorge-28</strong> to <a href=\"https://wandb.ai\" target=\"_blank\">Weights & Biases</a> <a href=\"https://docs.wandb.com/integrations/jupyter.html\" target=\"_blank\">(Documentation)</a>.<br/>\n",
       "                Project page: <a href=\"https://wandb.ai/oe_sarmanova/DANN_ethanol_test_stop_100_MLP_N02_64_16_f_batch_64_19\" target=\"_blank\">https://wandb.ai/oe_sarmanova/DANN_ethanol_test_stop_100_MLP_N02_64_16_f_batch_64_19</a><br/>\n",
       "                Run page: <a href=\"https://wandb.ai/oe_sarmanova/DANN_ethanol_test_stop_100_MLP_N02_64_16_f_batch_64_19/runs/22gy8skt\" target=\"_blank\">https://wandb.ai/oe_sarmanova/DANN_ethanol_test_stop_100_MLP_N02_64_16_f_batch_64_19/runs/22gy8skt</a><br/>\n",
       "                Run data is saved locally in <code>C:\\Users\\helga\\wines_november\\wandb\\run-20240528_163157-22gy8skt</code><br/><br/>\n",
       "            "
      ],
      "text/plain": [
       "<IPython.core.display.HTML object>"
      ]
     },
     "metadata": {},
     "output_type": "display_data"
    },
    {
     "name": "stderr",
     "output_type": "stream",
     "text": [
      "wandb: WARNING Calling run.save without any arguments is deprecated.Changes to attributes are automatically persisted.\n"
     ]
    },
    {
     "name": "stdout",
     "output_type": "stream",
     "text": [
      "Reset trainable parameters of layer = Linear(in_features=1868, out_features=64, bias=True)\n",
      "Reset trainable parameters of layer = Linear(in_features=64, out_features=16, bias=True)\n",
      "Reset trainable parameters of layer = Linear(in_features=16, out_features=1, bias=True)\n",
      "Reset trainable parameters of layer = Linear(in_features=16, out_features=1, bias=True)\n"
     ]
    },
    {
     "data": {
      "text/html": [
       "<br/>Waiting for W&B process to finish, PID 972<br/>Program ended successfully."
      ],
      "text/plain": [
       "<IPython.core.display.HTML object>"
      ]
     },
     "metadata": {},
     "output_type": "display_data"
    },
    {
     "data": {
      "application/vnd.jupyter.widget-view+json": {
       "model_id": "",
       "version_major": 2,
       "version_minor": 0
      },
      "text/plain": [
       "VBox(children=(Label(value=' 0.00MB of 0.00MB uploaded (0.00MB deduped)\\r'), FloatProgress(value=1.0, max=1.0)…"
      ]
     },
     "metadata": {},
     "output_type": "display_data"
    },
    {
     "data": {
      "text/html": [
       "Find user logs for this run at: <code>C:\\Users\\helga\\wines_november\\wandb\\run-20240528_163157-22gy8skt\\logs\\debug.log</code>"
      ],
      "text/plain": [
       "<IPython.core.display.HTML object>"
      ]
     },
     "metadata": {},
     "output_type": "display_data"
    },
    {
     "data": {
      "text/html": [
       "Find internal logs for this run at: <code>C:\\Users\\helga\\wines_november\\wandb\\run-20240528_163157-22gy8skt\\logs\\debug-internal.log</code>"
      ],
      "text/plain": [
       "<IPython.core.display.HTML object>"
      ]
     },
     "metadata": {},
     "output_type": "display_data"
    },
    {
     "data": {
      "text/html": [
       "<h3>Run summary:</h3><br/><style>\n",
       "    table.wandb td:nth-child(1) { padding: 0 10px; text-align: right }\n",
       "    </style><table class=\"wandb\">\n",
       "<tr><td>trn_loss</td><td>0.30002</td></tr><tr><td>vld_loss</td><td>2.67015</td></tr><tr><td>_step</td><td>1799</td></tr><tr><td>_runtime</td><td>464</td></tr><tr><td>_timestamp</td><td>1716903581</td></tr><tr><td>clsf_trn_loss</td><td>0.33651</td></tr><tr><td>clsf_vld_loss</td><td>0.3397</td></tr><tr><td>dscr_trn_loss</td><td>0.36489</td></tr><tr><td>dscr_vld_loss</td><td>0.43067</td></tr></table>"
      ],
      "text/plain": [
       "<IPython.core.display.HTML object>"
      ]
     },
     "metadata": {},
     "output_type": "display_data"
    },
    {
     "data": {
      "text/html": [
       "<h3>Run history:</h3><br/><style>\n",
       "    table.wandb td:nth-child(1) { padding: 0 10px; text-align: right }\n",
       "    </style><table class=\"wandb\">\n",
       "<tr><td>trn_loss</td><td>█▇▃▂▂▂▁▁▁▂▁▁▁▁▁▁▂▁▁▁▁▁▁▁▁▁▂▁▁▂▂▁▁▁▂▁▁▁▁▁</td></tr><tr><td>vld_loss</td><td>█▆▃▂▂▁▁▁▁▁▁▁▁▁▁▁▁▁▁▁▁▁▁▁▁▁▁▁▁▁▁▁▁▁▁▁▁▁▁▁</td></tr><tr><td>_step</td><td>▁▁▁▂▂▂▂▂▂▃▃▃▃▃▃▄▄▄▄▄▅▅▅▅▅▅▆▆▆▆▆▇▇▇▇▇▇███</td></tr><tr><td>_runtime</td><td>▁▁▁▁▂▂▂▂▂▃▃▃▃▃▃▄▄▄▄▄▅▅▅▅▅▅▆▆▆▆▆▇▇▇▇▇▇███</td></tr><tr><td>_timestamp</td><td>▁▁▁▁▂▂▂▂▂▃▃▃▃▃▃▄▄▄▄▄▅▅▅▅▅▅▆▆▆▆▆▇▇▇▇▇▇███</td></tr><tr><td>clsf_trn_loss</td><td>█▇▃▂▂▂▁▁▁▂▁▁▁▁▁▁▂▁▁▁▁▁▁▁▁▁▂▁▁▂▂▁▁▁▂▁▁▁▁▁</td></tr><tr><td>clsf_vld_loss</td><td>█▆▃▂▂▁▁▁▁▁▁▁▁▁▁▁▁▂▁▁▁▁▁▁▁▁▁▁▁▁▁▁▁▁▁▁▁▁▁▁</td></tr><tr><td>dscr_trn_loss</td><td>▃▄▅█▂▁▁▁▁▂▁▁▁▁▁▁▁▁▂▂▂▁▂▂▂▂▁▁▁▂▁▁▁▂▂▁▂▁▂▂</td></tr><tr><td>dscr_vld_loss</td><td>▅▆█▁▃▄▄▄▄▄▄▄▅▅▄▄▄▄▄▄▄▄▄▄▅▄▄▄▄▄▄▄▅▄▅▄▅▅▄▄</td></tr></table><br/>"
      ],
      "text/plain": [
       "<IPython.core.display.HTML object>"
      ]
     },
     "metadata": {},
     "output_type": "display_data"
    },
    {
     "data": {
      "text/html": [
       "Synced 5 W&B file(s), 0 media file(s), 0 artifact file(s) and 0 other file(s)"
      ],
      "text/plain": [
       "<IPython.core.display.HTML object>"
      ]
     },
     "metadata": {},
     "output_type": "display_data"
    },
    {
     "data": {
      "text/html": [
       "\n",
       "                    <br/>Synced <strong style=\"color:#cdcd00\">lively-gorge-28</strong>: <a href=\"https://wandb.ai/oe_sarmanova/DANN_ethanol_test_stop_100_MLP_N02_64_16_f_batch_64_19/runs/22gy8skt\" target=\"_blank\">https://wandb.ai/oe_sarmanova/DANN_ethanol_test_stop_100_MLP_N02_64_16_f_batch_64_19/runs/22gy8skt</a><br/>\n",
       "                "
      ],
      "text/plain": [
       "<IPython.core.display.HTML object>"
      ]
     },
     "metadata": {},
     "output_type": "display_data"
    },
    {
     "name": "stderr",
     "output_type": "stream",
     "text": [
      "wandb: wandb version 0.17.0 is available!  To upgrade, please run:\n",
      "wandb:  $ pip install wandb --upgrade\n"
     ]
    },
    {
     "data": {
      "text/html": [
       "\n",
       "                Tracking run with wandb version 0.10.15<br/>\n",
       "                Syncing run <strong style=\"color:#cdcd00\">floral-elevator-29</strong> to <a href=\"https://wandb.ai\" target=\"_blank\">Weights & Biases</a> <a href=\"https://docs.wandb.com/integrations/jupyter.html\" target=\"_blank\">(Documentation)</a>.<br/>\n",
       "                Project page: <a href=\"https://wandb.ai/oe_sarmanova/DANN_ethanol_test_stop_100_MLP_N02_64_16_f_batch_64_19\" target=\"_blank\">https://wandb.ai/oe_sarmanova/DANN_ethanol_test_stop_100_MLP_N02_64_16_f_batch_64_19</a><br/>\n",
       "                Run page: <a href=\"https://wandb.ai/oe_sarmanova/DANN_ethanol_test_stop_100_MLP_N02_64_16_f_batch_64_19/runs/ssn6q6g7\" target=\"_blank\">https://wandb.ai/oe_sarmanova/DANN_ethanol_test_stop_100_MLP_N02_64_16_f_batch_64_19/runs/ssn6q6g7</a><br/>\n",
       "                Run data is saved locally in <code>C:\\Users\\helga\\wines_november\\wandb\\run-20240528_163947-ssn6q6g7</code><br/><br/>\n",
       "            "
      ],
      "text/plain": [
       "<IPython.core.display.HTML object>"
      ]
     },
     "metadata": {},
     "output_type": "display_data"
    },
    {
     "name": "stderr",
     "output_type": "stream",
     "text": [
      "wandb: WARNING Calling run.save without any arguments is deprecated.Changes to attributes are automatically persisted.\n"
     ]
    },
    {
     "name": "stdout",
     "output_type": "stream",
     "text": [
      "Reset trainable parameters of layer = Linear(in_features=1868, out_features=64, bias=True)\n",
      "Reset trainable parameters of layer = Linear(in_features=64, out_features=16, bias=True)\n",
      "Reset trainable parameters of layer = Linear(in_features=16, out_features=1, bias=True)\n",
      "Reset trainable parameters of layer = Linear(in_features=16, out_features=1, bias=True)\n"
     ]
    },
    {
     "data": {
      "text/html": [
       "<br/>Waiting for W&B process to finish, PID 22216<br/>Program ended successfully."
      ],
      "text/plain": [
       "<IPython.core.display.HTML object>"
      ]
     },
     "metadata": {},
     "output_type": "display_data"
    },
    {
     "data": {
      "application/vnd.jupyter.widget-view+json": {
       "model_id": "",
       "version_major": 2,
       "version_minor": 0
      },
      "text/plain": [
       "VBox(children=(Label(value=' 0.00MB of 0.00MB uploaded (0.00MB deduped)\\r'), FloatProgress(value=1.0, max=1.0)…"
      ]
     },
     "metadata": {},
     "output_type": "display_data"
    },
    {
     "data": {
      "text/html": [
       "Find user logs for this run at: <code>C:\\Users\\helga\\wines_november\\wandb\\run-20240528_163947-ssn6q6g7\\logs\\debug.log</code>"
      ],
      "text/plain": [
       "<IPython.core.display.HTML object>"
      ]
     },
     "metadata": {},
     "output_type": "display_data"
    },
    {
     "data": {
      "text/html": [
       "Find internal logs for this run at: <code>C:\\Users\\helga\\wines_november\\wandb\\run-20240528_163947-ssn6q6g7\\logs\\debug-internal.log</code>"
      ],
      "text/plain": [
       "<IPython.core.display.HTML object>"
      ]
     },
     "metadata": {},
     "output_type": "display_data"
    },
    {
     "data": {
      "text/html": [
       "<h3>Run summary:</h3><br/><style>\n",
       "    table.wandb td:nth-child(1) { padding: 0 10px; text-align: right }\n",
       "    </style><table class=\"wandb\">\n",
       "<tr><td>trn_loss</td><td>0.35615</td></tr><tr><td>vld_loss</td><td>2.76144</td></tr><tr><td>_step</td><td>1799</td></tr><tr><td>_runtime</td><td>459</td></tr><tr><td>_timestamp</td><td>1716904046</td></tr><tr><td>clsf_trn_loss</td><td>0.3928</td></tr><tr><td>clsf_vld_loss</td><td>0.45964</td></tr><tr><td>dscr_trn_loss</td><td>0.36652</td></tr><tr><td>dscr_vld_loss</td><td>0.43413</td></tr></table>"
      ],
      "text/plain": [
       "<IPython.core.display.HTML object>"
      ]
     },
     "metadata": {},
     "output_type": "display_data"
    },
    {
     "data": {
      "text/html": [
       "<h3>Run history:</h3><br/><style>\n",
       "    table.wandb td:nth-child(1) { padding: 0 10px; text-align: right }\n",
       "    </style><table class=\"wandb\">\n",
       "<tr><td>trn_loss</td><td>█▅▂▂▁▁▁▁▁▁▁▁▂▁▁▂▁▁▁▁▁▁▁▁▁▁▁▁▁▁▁▁▁▁▁▁▁▂▁▁</td></tr><tr><td>vld_loss</td><td>█▅▂▂▂▁▁▁▁▁▁▁▁▁▁▁▁▁▁▁▁▁▁▁▁▁▁▁▁▁▁▁▁▁▁▁▁▁▁▁</td></tr><tr><td>_step</td><td>▁▁▁▂▂▂▂▂▂▃▃▃▃▃▃▄▄▄▄▄▅▅▅▅▅▅▆▆▆▆▆▇▇▇▇▇▇███</td></tr><tr><td>_runtime</td><td>▁▁▁▁▂▂▂▂▂▃▃▃▃▃▃▄▄▄▄▄▅▅▅▅▅▅▆▆▆▆▆▇▇▇▇▇▇███</td></tr><tr><td>_timestamp</td><td>▁▁▁▁▂▂▂▂▂▃▃▃▃▃▃▄▄▄▄▄▅▅▅▅▅▅▆▆▆▆▆▇▇▇▇▇▇███</td></tr><tr><td>clsf_trn_loss</td><td>█▅▂▂▁▁▁▁▁▁▁▁▂▁▁▂▁▁▁▁▁▁▁▁▁▁▁▁▁▁▁▁▁▁▁▁▁▂▁▁</td></tr><tr><td>clsf_vld_loss</td><td>█▇▃▂▂▂▁▂▁▁▂▃▁▁▁▂▃▁▂▁▂▁▂▂▁▂▁▂▁▁▂▂▂▁▂▁▂▂▁▁</td></tr><tr><td>dscr_trn_loss</td><td>█▅▂▂▆▁▁▃▅▅▄▅▆▅▂▅▄▆▅▃▆▅▅▅▅▅▅▅▄▄▅▄▅▃▄▅▅▆▆▄</td></tr><tr><td>dscr_vld_loss</td><td>▇▇▇▆█▇▇▇▇██▁██▇▇▁▇▁▇▇▇▇▇▇▇▇▇▇▇▇▇▇█▇█▇▇▇█</td></tr></table><br/>"
      ],
      "text/plain": [
       "<IPython.core.display.HTML object>"
      ]
     },
     "metadata": {},
     "output_type": "display_data"
    },
    {
     "data": {
      "text/html": [
       "Synced 5 W&B file(s), 0 media file(s), 0 artifact file(s) and 0 other file(s)"
      ],
      "text/plain": [
       "<IPython.core.display.HTML object>"
      ]
     },
     "metadata": {},
     "output_type": "display_data"
    },
    {
     "data": {
      "text/html": [
       "\n",
       "                    <br/>Synced <strong style=\"color:#cdcd00\">floral-elevator-29</strong>: <a href=\"https://wandb.ai/oe_sarmanova/DANN_ethanol_test_stop_100_MLP_N02_64_16_f_batch_64_19/runs/ssn6q6g7\" target=\"_blank\">https://wandb.ai/oe_sarmanova/DANN_ethanol_test_stop_100_MLP_N02_64_16_f_batch_64_19/runs/ssn6q6g7</a><br/>\n",
       "                "
      ],
      "text/plain": [
       "<IPython.core.display.HTML object>"
      ]
     },
     "metadata": {},
     "output_type": "display_data"
    },
    {
     "name": "stderr",
     "output_type": "stream",
     "text": [
      "wandb: wandb version 0.17.0 is available!  To upgrade, please run:\n",
      "wandb:  $ pip install wandb --upgrade\n"
     ]
    },
    {
     "data": {
      "text/html": [
       "\n",
       "                Tracking run with wandb version 0.10.15<br/>\n",
       "                Syncing run <strong style=\"color:#cdcd00\">absurd-fog-30</strong> to <a href=\"https://wandb.ai\" target=\"_blank\">Weights & Biases</a> <a href=\"https://docs.wandb.com/integrations/jupyter.html\" target=\"_blank\">(Documentation)</a>.<br/>\n",
       "                Project page: <a href=\"https://wandb.ai/oe_sarmanova/DANN_ethanol_test_stop_100_MLP_N02_64_16_f_batch_64_19\" target=\"_blank\">https://wandb.ai/oe_sarmanova/DANN_ethanol_test_stop_100_MLP_N02_64_16_f_batch_64_19</a><br/>\n",
       "                Run page: <a href=\"https://wandb.ai/oe_sarmanova/DANN_ethanol_test_stop_100_MLP_N02_64_16_f_batch_64_19/runs/1snjv5z2\" target=\"_blank\">https://wandb.ai/oe_sarmanova/DANN_ethanol_test_stop_100_MLP_N02_64_16_f_batch_64_19/runs/1snjv5z2</a><br/>\n",
       "                Run data is saved locally in <code>C:\\Users\\helga\\wines_november\\wandb\\run-20240528_164731-1snjv5z2</code><br/><br/>\n",
       "            "
      ],
      "text/plain": [
       "<IPython.core.display.HTML object>"
      ]
     },
     "metadata": {},
     "output_type": "display_data"
    },
    {
     "name": "stderr",
     "output_type": "stream",
     "text": [
      "wandb: WARNING Calling run.save without any arguments is deprecated.Changes to attributes are automatically persisted.\n"
     ]
    },
    {
     "name": "stdout",
     "output_type": "stream",
     "text": [
      "Reset trainable parameters of layer = Linear(in_features=1868, out_features=64, bias=True)\n",
      "Reset trainable parameters of layer = Linear(in_features=64, out_features=16, bias=True)\n",
      "Reset trainable parameters of layer = Linear(in_features=16, out_features=1, bias=True)\n",
      "Reset trainable parameters of layer = Linear(in_features=16, out_features=1, bias=True)\n"
     ]
    },
    {
     "data": {
      "text/html": [
       "<br/>Waiting for W&B process to finish, PID 21264<br/>Program ended successfully."
      ],
      "text/plain": [
       "<IPython.core.display.HTML object>"
      ]
     },
     "metadata": {},
     "output_type": "display_data"
    },
    {
     "data": {
      "application/vnd.jupyter.widget-view+json": {
       "model_id": "",
       "version_major": 2,
       "version_minor": 0
      },
      "text/plain": [
       "VBox(children=(Label(value=' 0.00MB of 0.00MB uploaded (0.00MB deduped)\\r'), FloatProgress(value=1.0, max=1.0)…"
      ]
     },
     "metadata": {},
     "output_type": "display_data"
    },
    {
     "data": {
      "text/html": [
       "Find user logs for this run at: <code>C:\\Users\\helga\\wines_november\\wandb\\run-20240528_164731-1snjv5z2\\logs\\debug.log</code>"
      ],
      "text/plain": [
       "<IPython.core.display.HTML object>"
      ]
     },
     "metadata": {},
     "output_type": "display_data"
    },
    {
     "data": {
      "text/html": [
       "Find internal logs for this run at: <code>C:\\Users\\helga\\wines_november\\wandb\\run-20240528_164731-1snjv5z2\\logs\\debug-internal.log</code>"
      ],
      "text/plain": [
       "<IPython.core.display.HTML object>"
      ]
     },
     "metadata": {},
     "output_type": "display_data"
    },
    {
     "data": {
      "text/html": [
       "<h3>Run summary:</h3><br/><style>\n",
       "    table.wandb td:nth-child(1) { padding: 0 10px; text-align: right }\n",
       "    </style><table class=\"wandb\">\n",
       "<tr><td>trn_loss</td><td>0.26511</td></tr><tr><td>vld_loss</td><td>3.20156</td></tr><tr><td>_step</td><td>2099</td></tr><tr><td>_runtime</td><td>539</td></tr><tr><td>_timestamp</td><td>1716904590</td></tr><tr><td>clsf_trn_loss</td><td>0.30156</td></tr><tr><td>clsf_vld_loss</td><td>1.27857</td></tr><tr><td>dscr_trn_loss</td><td>0.36456</td></tr><tr><td>dscr_vld_loss</td><td>0.4082</td></tr></table>"
      ],
      "text/plain": [
       "<IPython.core.display.HTML object>"
      ]
     },
     "metadata": {},
     "output_type": "display_data"
    },
    {
     "data": {
      "text/html": [
       "<h3>Run history:</h3><br/><style>\n",
       "    table.wandb td:nth-child(1) { padding: 0 10px; text-align: right }\n",
       "    </style><table class=\"wandb\">\n",
       "<tr><td>trn_loss</td><td>██▆▄▂▁▁▁▁▁▁▁▁▁▁▁▁▁▁▁▁▁▁▁▁▁▁▁▁▁▁▁▁▁▁▁▂▁▁▁</td></tr><tr><td>vld_loss</td><td>██▆▄▂▁▁▁▁▁▁▁▁▁▁▁▁▁▁▁▁▁▁▁▁▁▁▁▁▁▁▁▁▁▁▁▁▁▁▁</td></tr><tr><td>_step</td><td>▁▁▁▁▂▂▂▂▂▃▃▃▃▃▃▄▄▄▄▄▅▅▅▅▅▅▆▆▆▆▆▆▇▇▇▇▇███</td></tr><tr><td>_runtime</td><td>▁▁▁▁▂▂▂▂▂▃▃▃▃▃▃▄▄▄▄▄▄▅▅▅▅▅▆▆▆▆▆▆▇▇▇▇▇███</td></tr><tr><td>_timestamp</td><td>▁▁▁▁▂▂▂▂▂▃▃▃▃▃▃▄▄▄▄▄▄▅▅▅▅▅▆▆▆▆▆▆▇▇▇▇▇███</td></tr><tr><td>clsf_trn_loss</td><td>██▆▄▂▁▁▁▁▁▁▁▁▁▁▁▁▁▁▁▁▁▁▁▁▁▁▁▁▁▁▁▁▁▁▁▂▁▁▁</td></tr><tr><td>clsf_vld_loss</td><td>██▅▅▂▂▁▂▂▁▁▁▁▁▁▁▁▂▁▁▁▂▁▁▂▁▁▁▁▁▁▁▁▁▁▁▁▂▁▁</td></tr><tr><td>dscr_trn_loss</td><td>▃▄█▇▇▆▂▂▂▁▂▂▂▂▂▁▃▂▂▂▂▃▂▁▂▃▂▃▂▂▃▂▂▂▃▁▂▁▃▂</td></tr><tr><td>dscr_vld_loss</td><td>▆▆▇█▆▅▆▆▆▆▆▆▆▆▆▆▆▆▆▆▆▁▆▆▆▆▆▆▆▁▆▆▆▆▆▆▆▆▆▆</td></tr></table><br/>"
      ],
      "text/plain": [
       "<IPython.core.display.HTML object>"
      ]
     },
     "metadata": {},
     "output_type": "display_data"
    },
    {
     "data": {
      "text/html": [
       "Synced 5 W&B file(s), 0 media file(s), 0 artifact file(s) and 0 other file(s)"
      ],
      "text/plain": [
       "<IPython.core.display.HTML object>"
      ]
     },
     "metadata": {},
     "output_type": "display_data"
    },
    {
     "data": {
      "text/html": [
       "\n",
       "                    <br/>Synced <strong style=\"color:#cdcd00\">absurd-fog-30</strong>: <a href=\"https://wandb.ai/oe_sarmanova/DANN_ethanol_test_stop_100_MLP_N02_64_16_f_batch_64_19/runs/1snjv5z2\" target=\"_blank\">https://wandb.ai/oe_sarmanova/DANN_ethanol_test_stop_100_MLP_N02_64_16_f_batch_64_19/runs/1snjv5z2</a><br/>\n",
       "                "
      ],
      "text/plain": [
       "<IPython.core.display.HTML object>"
      ]
     },
     "metadata": {},
     "output_type": "display_data"
    },
    {
     "name": "stderr",
     "output_type": "stream",
     "text": [
      "wandb: wandb version 0.17.0 is available!  To upgrade, please run:\n",
      "wandb:  $ pip install wandb --upgrade\n"
     ]
    },
    {
     "data": {
      "text/html": [
       "\n",
       "                Tracking run with wandb version 0.10.15<br/>\n",
       "                Syncing run <strong style=\"color:#cdcd00\">swept-disco-31</strong> to <a href=\"https://wandb.ai\" target=\"_blank\">Weights & Biases</a> <a href=\"https://docs.wandb.com/integrations/jupyter.html\" target=\"_blank\">(Documentation)</a>.<br/>\n",
       "                Project page: <a href=\"https://wandb.ai/oe_sarmanova/DANN_ethanol_test_stop_100_MLP_N02_64_16_f_batch_64_19\" target=\"_blank\">https://wandb.ai/oe_sarmanova/DANN_ethanol_test_stop_100_MLP_N02_64_16_f_batch_64_19</a><br/>\n",
       "                Run page: <a href=\"https://wandb.ai/oe_sarmanova/DANN_ethanol_test_stop_100_MLP_N02_64_16_f_batch_64_19/runs/36gcymrt\" target=\"_blank\">https://wandb.ai/oe_sarmanova/DANN_ethanol_test_stop_100_MLP_N02_64_16_f_batch_64_19/runs/36gcymrt</a><br/>\n",
       "                Run data is saved locally in <code>C:\\Users\\helga\\wines_november\\wandb\\run-20240528_165643-36gcymrt</code><br/><br/>\n",
       "            "
      ],
      "text/plain": [
       "<IPython.core.display.HTML object>"
      ]
     },
     "metadata": {},
     "output_type": "display_data"
    },
    {
     "name": "stderr",
     "output_type": "stream",
     "text": [
      "wandb: WARNING Calling run.save without any arguments is deprecated.Changes to attributes are automatically persisted.\n"
     ]
    },
    {
     "name": "stdout",
     "output_type": "stream",
     "text": [
      "Reset trainable parameters of layer = Linear(in_features=1868, out_features=64, bias=True)\n",
      "Reset trainable parameters of layer = Linear(in_features=64, out_features=16, bias=True)\n",
      "Reset trainable parameters of layer = Linear(in_features=16, out_features=1, bias=True)\n",
      "Reset trainable parameters of layer = Linear(in_features=16, out_features=1, bias=True)\n"
     ]
    },
    {
     "data": {
      "text/html": [
       "<br/>Waiting for W&B process to finish, PID 22336<br/>Program ended successfully."
      ],
      "text/plain": [
       "<IPython.core.display.HTML object>"
      ]
     },
     "metadata": {},
     "output_type": "display_data"
    },
    {
     "data": {
      "application/vnd.jupyter.widget-view+json": {
       "model_id": "",
       "version_major": 2,
       "version_minor": 0
      },
      "text/plain": [
       "VBox(children=(Label(value=' 0.00MB of 0.00MB uploaded (0.00MB deduped)\\r'), FloatProgress(value=1.0, max=1.0)…"
      ]
     },
     "metadata": {},
     "output_type": "display_data"
    },
    {
     "data": {
      "text/html": [
       "Find user logs for this run at: <code>C:\\Users\\helga\\wines_november\\wandb\\run-20240528_165643-36gcymrt\\logs\\debug.log</code>"
      ],
      "text/plain": [
       "<IPython.core.display.HTML object>"
      ]
     },
     "metadata": {},
     "output_type": "display_data"
    },
    {
     "data": {
      "text/html": [
       "Find internal logs for this run at: <code>C:\\Users\\helga\\wines_november\\wandb\\run-20240528_165643-36gcymrt\\logs\\debug-internal.log</code>"
      ],
      "text/plain": [
       "<IPython.core.display.HTML object>"
      ]
     },
     "metadata": {},
     "output_type": "display_data"
    },
    {
     "data": {
      "text/html": [
       "<h3>Run summary:</h3><br/><style>\n",
       "    table.wandb td:nth-child(1) { padding: 0 10px; text-align: right }\n",
       "    </style><table class=\"wandb\">\n",
       "<tr><td>trn_loss</td><td>0.51979</td></tr><tr><td>vld_loss</td><td>3.164</td></tr><tr><td>_step</td><td>1199</td></tr><tr><td>_runtime</td><td>312</td></tr><tr><td>_timestamp</td><td>1716904915</td></tr><tr><td>clsf_trn_loss</td><td>0.55613</td></tr><tr><td>clsf_vld_loss</td><td>0.30513</td></tr><tr><td>dscr_trn_loss</td><td>0.36343</td></tr><tr><td>dscr_vld_loss</td><td>0.43027</td></tr></table>"
      ],
      "text/plain": [
       "<IPython.core.display.HTML object>"
      ]
     },
     "metadata": {},
     "output_type": "display_data"
    },
    {
     "data": {
      "text/html": [
       "<h3>Run history:</h3><br/><style>\n",
       "    table.wandb td:nth-child(1) { padding: 0 10px; text-align: right }\n",
       "    </style><table class=\"wandb\">\n",
       "<tr><td>trn_loss</td><td>█▆▆▅▃▂▁▁▁▁▁▁▁▁▁▁▁▂▁▁▁▁▁▁▁▂▁▁▁▁▁▁▁▁▁▁▁▁▁▁</td></tr><tr><td>vld_loss</td><td>██▇▅▃▂▂▁▁▁▁▁▁▁▁▁▁▁▁▁▁▁▁▁▁▁▁▁▁▁▁▁▁▁▁▁▁▁▁▁</td></tr><tr><td>_step</td><td>▁▁▁▁▂▂▂▂▂▃▃▃▃▃▃▄▄▄▄▄▅▅▅▅▅▅▆▆▆▆▆▆▇▇▇▇▇███</td></tr><tr><td>_runtime</td><td>▁▁▁▁▂▂▂▂▂▃▃▃▃▃▄▄▄▄▄▄▅▅▅▅▅▅▆▆▆▆▆▆▇▇▇▇▇███</td></tr><tr><td>_timestamp</td><td>▁▁▁▁▂▂▂▂▂▃▃▃▃▃▄▄▄▄▄▄▅▅▅▅▅▅▆▆▆▆▆▆▇▇▇▇▇███</td></tr><tr><td>clsf_trn_loss</td><td>█▆▆▅▃▂▁▁▁▁▁▁▁▁▁▁▁▂▁▁▁▁▁▁▁▂▁▁▁▁▁▁▁▁▁▁▁▁▁▁</td></tr><tr><td>clsf_vld_loss</td><td>▇█▆▅▃▃▂▂▁▁▁▁▁▁▁▁▁▂▂▁▁▁▁▁▁▁▁▁▁▂▁▂▁▁▁▁▁▁▁▁</td></tr><tr><td>dscr_trn_loss</td><td>█▄▆▅▃▃▁▂▁▂▂▂▂▂▂▂▂▂▂▂▂▂▂▂▂▂▂▂▂▂▂▂▁▂▂▂▂▂▂▂</td></tr><tr><td>dscr_vld_loss</td><td>▇▅▇█▄▁▁▆▃▄▄▄▄▃▄▃▃▄▄▃▃▄▃▄▄▄▃▄▃▄▃▄▃▃▄▃▄▃▄▃</td></tr></table><br/>"
      ],
      "text/plain": [
       "<IPython.core.display.HTML object>"
      ]
     },
     "metadata": {},
     "output_type": "display_data"
    },
    {
     "data": {
      "text/html": [
       "Synced 5 W&B file(s), 0 media file(s), 0 artifact file(s) and 0 other file(s)"
      ],
      "text/plain": [
       "<IPython.core.display.HTML object>"
      ]
     },
     "metadata": {},
     "output_type": "display_data"
    },
    {
     "data": {
      "text/html": [
       "\n",
       "                    <br/>Synced <strong style=\"color:#cdcd00\">swept-disco-31</strong>: <a href=\"https://wandb.ai/oe_sarmanova/DANN_ethanol_test_stop_100_MLP_N02_64_16_f_batch_64_19/runs/36gcymrt\" target=\"_blank\">https://wandb.ai/oe_sarmanova/DANN_ethanol_test_stop_100_MLP_N02_64_16_f_batch_64_19/runs/36gcymrt</a><br/>\n",
       "                "
      ],
      "text/plain": [
       "<IPython.core.display.HTML object>"
      ]
     },
     "metadata": {},
     "output_type": "display_data"
    },
    {
     "name": "stderr",
     "output_type": "stream",
     "text": [
      "wandb: wandb version 0.17.0 is available!  To upgrade, please run:\n",
      "wandb:  $ pip install wandb --upgrade\n"
     ]
    },
    {
     "data": {
      "text/html": [
       "\n",
       "                Tracking run with wandb version 0.10.15<br/>\n",
       "                Syncing run <strong style=\"color:#cdcd00\">restful-vortex-32</strong> to <a href=\"https://wandb.ai\" target=\"_blank\">Weights & Biases</a> <a href=\"https://docs.wandb.com/integrations/jupyter.html\" target=\"_blank\">(Documentation)</a>.<br/>\n",
       "                Project page: <a href=\"https://wandb.ai/oe_sarmanova/DANN_ethanol_test_stop_100_MLP_N02_64_16_f_batch_64_19\" target=\"_blank\">https://wandb.ai/oe_sarmanova/DANN_ethanol_test_stop_100_MLP_N02_64_16_f_batch_64_19</a><br/>\n",
       "                Run page: <a href=\"https://wandb.ai/oe_sarmanova/DANN_ethanol_test_stop_100_MLP_N02_64_16_f_batch_64_19/runs/2zflamd3\" target=\"_blank\">https://wandb.ai/oe_sarmanova/DANN_ethanol_test_stop_100_MLP_N02_64_16_f_batch_64_19/runs/2zflamd3</a><br/>\n",
       "                Run data is saved locally in <code>C:\\Users\\helga\\wines_november\\wandb\\run-20240528_170202-2zflamd3</code><br/><br/>\n",
       "            "
      ],
      "text/plain": [
       "<IPython.core.display.HTML object>"
      ]
     },
     "metadata": {},
     "output_type": "display_data"
    },
    {
     "name": "stderr",
     "output_type": "stream",
     "text": [
      "wandb: WARNING Calling run.save without any arguments is deprecated.Changes to attributes are automatically persisted.\n"
     ]
    },
    {
     "name": "stdout",
     "output_type": "stream",
     "text": [
      "Reset trainable parameters of layer = Linear(in_features=1868, out_features=64, bias=True)\n",
      "Reset trainable parameters of layer = Linear(in_features=64, out_features=16, bias=True)\n",
      "Reset trainable parameters of layer = Linear(in_features=16, out_features=1, bias=True)\n",
      "Reset trainable parameters of layer = Linear(in_features=16, out_features=1, bias=True)\n"
     ]
    },
    {
     "data": {
      "text/html": [
       "<br/>Waiting for W&B process to finish, PID 5816<br/>Program ended successfully."
      ],
      "text/plain": [
       "<IPython.core.display.HTML object>"
      ]
     },
     "metadata": {},
     "output_type": "display_data"
    },
    {
     "data": {
      "application/vnd.jupyter.widget-view+json": {
       "model_id": "",
       "version_major": 2,
       "version_minor": 0
      },
      "text/plain": [
       "VBox(children=(Label(value=' 0.00MB of 0.00MB uploaded (0.00MB deduped)\\r'), FloatProgress(value=1.0, max=1.0)…"
      ]
     },
     "metadata": {},
     "output_type": "display_data"
    },
    {
     "data": {
      "text/html": [
       "Find user logs for this run at: <code>C:\\Users\\helga\\wines_november\\wandb\\run-20240528_170202-2zflamd3\\logs\\debug.log</code>"
      ],
      "text/plain": [
       "<IPython.core.display.HTML object>"
      ]
     },
     "metadata": {},
     "output_type": "display_data"
    },
    {
     "data": {
      "text/html": [
       "Find internal logs for this run at: <code>C:\\Users\\helga\\wines_november\\wandb\\run-20240528_170202-2zflamd3\\logs\\debug-internal.log</code>"
      ],
      "text/plain": [
       "<IPython.core.display.HTML object>"
      ]
     },
     "metadata": {},
     "output_type": "display_data"
    },
    {
     "data": {
      "text/html": [
       "<h3>Run summary:</h3><br/><style>\n",
       "    table.wandb td:nth-child(1) { padding: 0 10px; text-align: right }\n",
       "    </style><table class=\"wandb\">\n",
       "<tr><td>trn_loss</td><td>0.1765</td></tr><tr><td>vld_loss</td><td>4.76518</td></tr><tr><td>_step</td><td>1499</td></tr><tr><td>_runtime</td><td>391</td></tr><tr><td>_timestamp</td><td>1716905313</td></tr><tr><td>clsf_trn_loss</td><td>0.21287</td></tr><tr><td>clsf_vld_loss</td><td>0.85289</td></tr><tr><td>dscr_trn_loss</td><td>0.36367</td></tr><tr><td>dscr_vld_loss</td><td>0.43053</td></tr></table>"
      ],
      "text/plain": [
       "<IPython.core.display.HTML object>"
      ]
     },
     "metadata": {},
     "output_type": "display_data"
    },
    {
     "data": {
      "text/html": [
       "<h3>Run history:</h3><br/><style>\n",
       "    table.wandb td:nth-child(1) { padding: 0 10px; text-align: right }\n",
       "    </style><table class=\"wandb\">\n",
       "<tr><td>trn_loss</td><td>█▇▇▅▅▂▂▁▁▁▁▁▁▁▁▁▁▁▁▁▁▁▁▁▁▁▁▁▁▁▁▁▁▁▁▁▁▁▁▁</td></tr><tr><td>vld_loss</td><td>███▆▄▃▂▁▁▁▁▁▁▁▁▁▁▁▁▁▁▁▁▁▁▁▁▁▁▁▁▁▁▁▁▁▁▁▁▁</td></tr><tr><td>_step</td><td>▁▁▁▂▂▂▂▂▂▃▃▃▃▃▄▄▄▄▄▄▅▅▅▅▅▅▆▆▆▆▆▇▇▇▇▇▇███</td></tr><tr><td>_runtime</td><td>▁▁▁▂▂▂▂▂▂▃▃▃▃▃▃▄▄▄▄▄▅▅▅▅▅▅▆▆▆▆▆▇▇▇▇▇▇███</td></tr><tr><td>_timestamp</td><td>▁▁▁▂▂▂▂▂▂▃▃▃▃▃▃▄▄▄▄▄▅▅▅▅▅▅▆▆▆▆▆▇▇▇▇▇▇███</td></tr><tr><td>clsf_trn_loss</td><td>█▇▇▅▅▂▂▁▁▁▁▁▁▁▁▁▁▁▁▁▁▁▁▁▁▁▁▁▁▁▁▁▁▁▁▁▁▁▁▁</td></tr><tr><td>clsf_vld_loss</td><td>██▆▆▄▃▂▂▂▁▁▁▁▂▁▁▁▁▁▁▁▁▁▂▁▁▁▁▂▁▁▁▁▂▁▁▁▁▁▁</td></tr><tr><td>dscr_trn_loss</td><td>█▅▆▇▃▅▅▁▄▃▂▃▂▂▂▂▂▃▂▃▂▃▂▃▂▂▃▂▂▂▂▃▃▃▂▂▂▂▂▂</td></tr><tr><td>dscr_vld_loss</td><td>▅▃▄█▇▄▄▁▂▃▁▂▁▁▂▁▂▂▁▂▂▂▁▂▂▂▂▂▂▁▂▂▁▁▂▁▁▁▂▂</td></tr></table><br/>"
      ],
      "text/plain": [
       "<IPython.core.display.HTML object>"
      ]
     },
     "metadata": {},
     "output_type": "display_data"
    },
    {
     "data": {
      "text/html": [
       "Synced 5 W&B file(s), 0 media file(s), 0 artifact file(s) and 0 other file(s)"
      ],
      "text/plain": [
       "<IPython.core.display.HTML object>"
      ]
     },
     "metadata": {},
     "output_type": "display_data"
    },
    {
     "data": {
      "text/html": [
       "\n",
       "                    <br/>Synced <strong style=\"color:#cdcd00\">restful-vortex-32</strong>: <a href=\"https://wandb.ai/oe_sarmanova/DANN_ethanol_test_stop_100_MLP_N02_64_16_f_batch_64_19/runs/2zflamd3\" target=\"_blank\">https://wandb.ai/oe_sarmanova/DANN_ethanol_test_stop_100_MLP_N02_64_16_f_batch_64_19/runs/2zflamd3</a><br/>\n",
       "                "
      ],
      "text/plain": [
       "<IPython.core.display.HTML object>"
      ]
     },
     "metadata": {},
     "output_type": "display_data"
    },
    {
     "name": "stderr",
     "output_type": "stream",
     "text": [
      "wandb: wandb version 0.17.0 is available!  To upgrade, please run:\n",
      "wandb:  $ pip install wandb --upgrade\n"
     ]
    },
    {
     "data": {
      "text/html": [
       "\n",
       "                Tracking run with wandb version 0.10.15<br/>\n",
       "                Syncing run <strong style=\"color:#cdcd00\">firm-field-33</strong> to <a href=\"https://wandb.ai\" target=\"_blank\">Weights & Biases</a> <a href=\"https://docs.wandb.com/integrations/jupyter.html\" target=\"_blank\">(Documentation)</a>.<br/>\n",
       "                Project page: <a href=\"https://wandb.ai/oe_sarmanova/DANN_ethanol_test_stop_100_MLP_N02_64_16_f_batch_64_19\" target=\"_blank\">https://wandb.ai/oe_sarmanova/DANN_ethanol_test_stop_100_MLP_N02_64_16_f_batch_64_19</a><br/>\n",
       "                Run page: <a href=\"https://wandb.ai/oe_sarmanova/DANN_ethanol_test_stop_100_MLP_N02_64_16_f_batch_64_19/runs/23ypr3ja\" target=\"_blank\">https://wandb.ai/oe_sarmanova/DANN_ethanol_test_stop_100_MLP_N02_64_16_f_batch_64_19/runs/23ypr3ja</a><br/>\n",
       "                Run data is saved locally in <code>C:\\Users\\helga\\wines_november\\wandb\\run-20240528_170838-23ypr3ja</code><br/><br/>\n",
       "            "
      ],
      "text/plain": [
       "<IPython.core.display.HTML object>"
      ]
     },
     "metadata": {},
     "output_type": "display_data"
    },
    {
     "name": "stderr",
     "output_type": "stream",
     "text": [
      "wandb: WARNING Calling run.save without any arguments is deprecated.Changes to attributes are automatically persisted.\n"
     ]
    },
    {
     "name": "stdout",
     "output_type": "stream",
     "text": [
      "Reset trainable parameters of layer = Linear(in_features=1868, out_features=64, bias=True)\n",
      "Reset trainable parameters of layer = Linear(in_features=64, out_features=16, bias=True)\n",
      "Reset trainable parameters of layer = Linear(in_features=16, out_features=1, bias=True)\n",
      "Reset trainable parameters of layer = Linear(in_features=16, out_features=1, bias=True)\n"
     ]
    },
    {
     "data": {
      "text/html": [
       "<br/>Waiting for W&B process to finish, PID 23376<br/>Program ended successfully."
      ],
      "text/plain": [
       "<IPython.core.display.HTML object>"
      ]
     },
     "metadata": {},
     "output_type": "display_data"
    },
    {
     "data": {
      "application/vnd.jupyter.widget-view+json": {
       "model_id": "",
       "version_major": 2,
       "version_minor": 0
      },
      "text/plain": [
       "VBox(children=(Label(value=' 0.00MB of 0.00MB uploaded (0.00MB deduped)\\r'), FloatProgress(value=1.0, max=1.0)…"
      ]
     },
     "metadata": {},
     "output_type": "display_data"
    },
    {
     "data": {
      "text/html": [
       "Find user logs for this run at: <code>C:\\Users\\helga\\wines_november\\wandb\\run-20240528_170838-23ypr3ja\\logs\\debug.log</code>"
      ],
      "text/plain": [
       "<IPython.core.display.HTML object>"
      ]
     },
     "metadata": {},
     "output_type": "display_data"
    },
    {
     "data": {
      "text/html": [
       "Find internal logs for this run at: <code>C:\\Users\\helga\\wines_november\\wandb\\run-20240528_170838-23ypr3ja\\logs\\debug-internal.log</code>"
      ],
      "text/plain": [
       "<IPython.core.display.HTML object>"
      ]
     },
     "metadata": {},
     "output_type": "display_data"
    },
    {
     "data": {
      "text/html": [
       "<h3>Run summary:</h3><br/><style>\n",
       "    table.wandb td:nth-child(1) { padding: 0 10px; text-align: right }\n",
       "    </style><table class=\"wandb\">\n",
       "<tr><td>trn_loss</td><td>0.29718</td></tr><tr><td>vld_loss</td><td>3.1086</td></tr><tr><td>_step</td><td>1199</td></tr><tr><td>_runtime</td><td>317</td></tr><tr><td>_timestamp</td><td>1716905635</td></tr><tr><td>clsf_trn_loss</td><td>0.33345</td></tr><tr><td>clsf_vld_loss</td><td>0.52009</td></tr><tr><td>dscr_trn_loss</td><td>0.36273</td></tr><tr><td>dscr_vld_loss</td><td>0.43226</td></tr></table>"
      ],
      "text/plain": [
       "<IPython.core.display.HTML object>"
      ]
     },
     "metadata": {},
     "output_type": "display_data"
    },
    {
     "data": {
      "text/html": [
       "<h3>Run history:</h3><br/><style>\n",
       "    table.wandb td:nth-child(1) { padding: 0 10px; text-align: right }\n",
       "    </style><table class=\"wandb\">\n",
       "<tr><td>trn_loss</td><td>█▇▄▃▂▂▂▂▁▁▁▂▁▁▁▁▁▁▁▁▁▁▁▁▁▁▁▁▁▁▁▁▁▁▁▁▁▂▁▁</td></tr><tr><td>vld_loss</td><td>█▅▃▂▂▂▁▁▁▁▁▁▁▁▁▁▁▁▁▁▁▁▁▁▁▁▁▁▁▁▁▁▁▁▁▁▁▁▁▁</td></tr><tr><td>_step</td><td>▁▁▁▁▂▂▂▂▂▃▃▃▃▃▃▄▄▄▄▄▅▅▅▅▅▅▆▆▆▆▆▆▇▇▇▇▇███</td></tr><tr><td>_runtime</td><td>▁▁▁▁▂▂▂▂▂▃▃▃▃▃▃▄▄▄▄▄▅▅▅▅▅▅▆▆▆▆▆▆▇▇▇▇▇███</td></tr><tr><td>_timestamp</td><td>▁▁▁▁▂▂▂▂▂▃▃▃▃▃▃▄▄▄▄▄▅▅▅▅▅▅▆▆▆▆▆▆▇▇▇▇▇███</td></tr><tr><td>clsf_trn_loss</td><td>█▇▄▃▂▂▂▂▁▁▁▂▁▁▁▁▁▁▁▁▁▁▁▁▁▁▁▁▁▁▁▁▁▁▁▁▁▂▁▁</td></tr><tr><td>clsf_vld_loss</td><td>█▃▂▂▂▂▁▁▁▁▁▁▁▁▁▁▂▁▁▁▁▁▁▁▁▁▁▁▁▁▁▁▂▁▁▁▁▁▁▁</td></tr><tr><td>dscr_trn_loss</td><td>▆▆█▂▂▂▂▂▂▂▂▂▂▂▂▃▃▂▂▃▂▂▃▂▃▃▂▂▂▂▃▃▂▃▂▂▂▂▂▁</td></tr><tr><td>dscr_vld_loss</td><td>▅▃▄█▄▄▁▃▃▄▂▂▂▂▂▄▄▃▄▃▂▃▃▃▃▃▃▂▃▂▃▃▂▃▃▂▂▁▂▃</td></tr></table><br/>"
      ],
      "text/plain": [
       "<IPython.core.display.HTML object>"
      ]
     },
     "metadata": {},
     "output_type": "display_data"
    },
    {
     "data": {
      "text/html": [
       "Synced 5 W&B file(s), 0 media file(s), 0 artifact file(s) and 0 other file(s)"
      ],
      "text/plain": [
       "<IPython.core.display.HTML object>"
      ]
     },
     "metadata": {},
     "output_type": "display_data"
    },
    {
     "data": {
      "text/html": [
       "\n",
       "                    <br/>Synced <strong style=\"color:#cdcd00\">firm-field-33</strong>: <a href=\"https://wandb.ai/oe_sarmanova/DANN_ethanol_test_stop_100_MLP_N02_64_16_f_batch_64_19/runs/23ypr3ja\" target=\"_blank\">https://wandb.ai/oe_sarmanova/DANN_ethanol_test_stop_100_MLP_N02_64_16_f_batch_64_19/runs/23ypr3ja</a><br/>\n",
       "                "
      ],
      "text/plain": [
       "<IPython.core.display.HTML object>"
      ]
     },
     "metadata": {},
     "output_type": "display_data"
    },
    {
     "name": "stderr",
     "output_type": "stream",
     "text": [
      "wandb: wandb version 0.17.0 is available!  To upgrade, please run:\n",
      "wandb:  $ pip install wandb --upgrade\n"
     ]
    },
    {
     "data": {
      "text/html": [
       "\n",
       "                Tracking run with wandb version 0.10.15<br/>\n",
       "                Syncing run <strong style=\"color:#cdcd00\">fast-music-34</strong> to <a href=\"https://wandb.ai\" target=\"_blank\">Weights & Biases</a> <a href=\"https://docs.wandb.com/integrations/jupyter.html\" target=\"_blank\">(Documentation)</a>.<br/>\n",
       "                Project page: <a href=\"https://wandb.ai/oe_sarmanova/DANN_ethanol_test_stop_100_MLP_N02_64_16_f_batch_64_19\" target=\"_blank\">https://wandb.ai/oe_sarmanova/DANN_ethanol_test_stop_100_MLP_N02_64_16_f_batch_64_19</a><br/>\n",
       "                Run page: <a href=\"https://wandb.ai/oe_sarmanova/DANN_ethanol_test_stop_100_MLP_N02_64_16_f_batch_64_19/runs/3hdy9h44\" target=\"_blank\">https://wandb.ai/oe_sarmanova/DANN_ethanol_test_stop_100_MLP_N02_64_16_f_batch_64_19/runs/3hdy9h44</a><br/>\n",
       "                Run data is saved locally in <code>C:\\Users\\helga\\wines_november\\wandb\\run-20240528_171400-3hdy9h44</code><br/><br/>\n",
       "            "
      ],
      "text/plain": [
       "<IPython.core.display.HTML object>"
      ]
     },
     "metadata": {},
     "output_type": "display_data"
    },
    {
     "name": "stderr",
     "output_type": "stream",
     "text": [
      "wandb: WARNING Calling run.save without any arguments is deprecated.Changes to attributes are automatically persisted.\n"
     ]
    },
    {
     "name": "stdout",
     "output_type": "stream",
     "text": [
      "Reset trainable parameters of layer = Linear(in_features=1868, out_features=64, bias=True)\n",
      "Reset trainable parameters of layer = Linear(in_features=64, out_features=16, bias=True)\n",
      "Reset trainable parameters of layer = Linear(in_features=16, out_features=1, bias=True)\n",
      "Reset trainable parameters of layer = Linear(in_features=16, out_features=1, bias=True)\n"
     ]
    },
    {
     "data": {
      "text/html": [
       "<br/>Waiting for W&B process to finish, PID 24104<br/>Program ended successfully."
      ],
      "text/plain": [
       "<IPython.core.display.HTML object>"
      ]
     },
     "metadata": {},
     "output_type": "display_data"
    },
    {
     "data": {
      "application/vnd.jupyter.widget-view+json": {
       "model_id": "",
       "version_major": 2,
       "version_minor": 0
      },
      "text/plain": [
       "VBox(children=(Label(value=' 0.00MB of 0.00MB uploaded (0.00MB deduped)\\r'), FloatProgress(value=1.0, max=1.0)…"
      ]
     },
     "metadata": {},
     "output_type": "display_data"
    },
    {
     "data": {
      "text/html": [
       "Find user logs for this run at: <code>C:\\Users\\helga\\wines_november\\wandb\\run-20240528_171400-3hdy9h44\\logs\\debug.log</code>"
      ],
      "text/plain": [
       "<IPython.core.display.HTML object>"
      ]
     },
     "metadata": {},
     "output_type": "display_data"
    },
    {
     "data": {
      "text/html": [
       "Find internal logs for this run at: <code>C:\\Users\\helga\\wines_november\\wandb\\run-20240528_171400-3hdy9h44\\logs\\debug-internal.log</code>"
      ],
      "text/plain": [
       "<IPython.core.display.HTML object>"
      ]
     },
     "metadata": {},
     "output_type": "display_data"
    },
    {
     "data": {
      "text/html": [
       "<h3>Run summary:</h3><br/><style>\n",
       "    table.wandb td:nth-child(1) { padding: 0 10px; text-align: right }\n",
       "    </style><table class=\"wandb\">\n",
       "<tr><td>trn_loss</td><td>0.35585</td></tr><tr><td>vld_loss</td><td>3.16788</td></tr><tr><td>_step</td><td>2099</td></tr><tr><td>_runtime</td><td>541</td></tr><tr><td>_timestamp</td><td>1716906181</td></tr><tr><td>clsf_trn_loss</td><td>0.3922</td></tr><tr><td>clsf_vld_loss</td><td>0.6896</td></tr><tr><td>dscr_trn_loss</td><td>0.36355</td></tr><tr><td>dscr_vld_loss</td><td>0.43071</td></tr></table>"
      ],
      "text/plain": [
       "<IPython.core.display.HTML object>"
      ]
     },
     "metadata": {},
     "output_type": "display_data"
    },
    {
     "data": {
      "text/html": [
       "<h3>Run history:</h3><br/><style>\n",
       "    table.wandb td:nth-child(1) { padding: 0 10px; text-align: right }\n",
       "    </style><table class=\"wandb\">\n",
       "<tr><td>trn_loss</td><td>▆██▅▃▁▁▁▁▁▁▁▁▂▁▁▁▁▁▁▁▁▁▁▁▁▁▁▁▁▁▁▁▁▁▁▁▁▁▁</td></tr><tr><td>vld_loss</td><td>███▆▃▂▁▁▁▁▁▁▁▁▁▁▁▁▁▁▁▁▁▁▁▁▁▁▁▁▁▁▁▁▁▁▁▁▁▁</td></tr><tr><td>_step</td><td>▁▁▁▁▂▂▂▂▂▃▃▃▃▃▃▄▄▄▄▄▅▅▅▅▅▅▆▆▆▆▆▆▇▇▇▇▇███</td></tr><tr><td>_runtime</td><td>▁▁▁▁▂▂▂▂▂▂▃▃▃▃▃▄▄▄▄▄▄▅▅▅▅▅▆▆▆▆▆▆▇▇▇▇▇███</td></tr><tr><td>_timestamp</td><td>▁▁▁▁▂▂▂▂▂▂▃▃▃▃▃▄▄▄▄▄▄▅▅▅▅▅▆▆▆▆▆▆▇▇▇▇▇███</td></tr><tr><td>clsf_trn_loss</td><td>▆██▅▃▁▁▁▁▁▁▁▁▂▁▁▁▁▁▁▁▁▁▁▁▁▁▁▁▁▁▁▁▁▁▁▁▁▁▁</td></tr><tr><td>clsf_vld_loss</td><td>▆█▆▄▂▂▂▂▁▁▁▁▁▁▁▁▁▁▁▂▁▁▁▁▁▁▁▁▁▂▁▁▁▁▁▁▁▁▁▁</td></tr><tr><td>dscr_trn_loss</td><td>▃▄▆██▂▄▃▃▃▃▃▃▃▃▃▃▃▃▃▄▃▃▃▃▂▃▂▂▃▁▃▄▁▃▂▂▃▃▂</td></tr><tr><td>dscr_vld_loss</td><td>▂▂▃█▃▅▂▂▂▂▂▂▂▂▂▂▂▂▂▂▃▁▂▂▁▂▁▁▂▂▂▃▂▁▁▁▂▂▂▂</td></tr></table><br/>"
      ],
      "text/plain": [
       "<IPython.core.display.HTML object>"
      ]
     },
     "metadata": {},
     "output_type": "display_data"
    },
    {
     "data": {
      "text/html": [
       "Synced 5 W&B file(s), 0 media file(s), 0 artifact file(s) and 0 other file(s)"
      ],
      "text/plain": [
       "<IPython.core.display.HTML object>"
      ]
     },
     "metadata": {},
     "output_type": "display_data"
    },
    {
     "data": {
      "text/html": [
       "\n",
       "                    <br/>Synced <strong style=\"color:#cdcd00\">fast-music-34</strong>: <a href=\"https://wandb.ai/oe_sarmanova/DANN_ethanol_test_stop_100_MLP_N02_64_16_f_batch_64_19/runs/3hdy9h44\" target=\"_blank\">https://wandb.ai/oe_sarmanova/DANN_ethanol_test_stop_100_MLP_N02_64_16_f_batch_64_19/runs/3hdy9h44</a><br/>\n",
       "                "
      ],
      "text/plain": [
       "<IPython.core.display.HTML object>"
      ]
     },
     "metadata": {},
     "output_type": "display_data"
    },
    {
     "name": "stderr",
     "output_type": "stream",
     "text": [
      "wandb: wandb version 0.17.0 is available!  To upgrade, please run:\n",
      "wandb:  $ pip install wandb --upgrade\n"
     ]
    },
    {
     "data": {
      "text/html": [
       "\n",
       "                Tracking run with wandb version 0.10.15<br/>\n",
       "                Syncing run <strong style=\"color:#cdcd00\">rose-tree-35</strong> to <a href=\"https://wandb.ai\" target=\"_blank\">Weights & Biases</a> <a href=\"https://docs.wandb.com/integrations/jupyter.html\" target=\"_blank\">(Documentation)</a>.<br/>\n",
       "                Project page: <a href=\"https://wandb.ai/oe_sarmanova/DANN_ethanol_test_stop_100_MLP_N02_64_16_f_batch_64_19\" target=\"_blank\">https://wandb.ai/oe_sarmanova/DANN_ethanol_test_stop_100_MLP_N02_64_16_f_batch_64_19</a><br/>\n",
       "                Run page: <a href=\"https://wandb.ai/oe_sarmanova/DANN_ethanol_test_stop_100_MLP_N02_64_16_f_batch_64_19/runs/d3334q5v\" target=\"_blank\">https://wandb.ai/oe_sarmanova/DANN_ethanol_test_stop_100_MLP_N02_64_16_f_batch_64_19/runs/d3334q5v</a><br/>\n",
       "                Run data is saved locally in <code>C:\\Users\\helga\\wines_november\\wandb\\run-20240528_172318-d3334q5v</code><br/><br/>\n",
       "            "
      ],
      "text/plain": [
       "<IPython.core.display.HTML object>"
      ]
     },
     "metadata": {},
     "output_type": "display_data"
    },
    {
     "name": "stderr",
     "output_type": "stream",
     "text": [
      "wandb: WARNING Calling run.save without any arguments is deprecated.Changes to attributes are automatically persisted.\n"
     ]
    },
    {
     "name": "stdout",
     "output_type": "stream",
     "text": [
      "Reset trainable parameters of layer = Linear(in_features=1868, out_features=64, bias=True)\n",
      "Reset trainable parameters of layer = Linear(in_features=64, out_features=16, bias=True)\n",
      "Reset trainable parameters of layer = Linear(in_features=16, out_features=1, bias=True)\n",
      "Reset trainable parameters of layer = Linear(in_features=16, out_features=1, bias=True)\n"
     ]
    },
    {
     "data": {
      "text/html": [
       "<br/>Waiting for W&B process to finish, PID 22636<br/>Program ended successfully."
      ],
      "text/plain": [
       "<IPython.core.display.HTML object>"
      ]
     },
     "metadata": {},
     "output_type": "display_data"
    },
    {
     "data": {
      "application/vnd.jupyter.widget-view+json": {
       "model_id": "",
       "version_major": 2,
       "version_minor": 0
      },
      "text/plain": [
       "VBox(children=(Label(value=' 0.00MB of 0.00MB uploaded (0.00MB deduped)\\r'), FloatProgress(value=1.0, max=1.0)…"
      ]
     },
     "metadata": {},
     "output_type": "display_data"
    },
    {
     "data": {
      "text/html": [
       "Find user logs for this run at: <code>C:\\Users\\helga\\wines_november\\wandb\\run-20240528_172318-d3334q5v\\logs\\debug.log</code>"
      ],
      "text/plain": [
       "<IPython.core.display.HTML object>"
      ]
     },
     "metadata": {},
     "output_type": "display_data"
    },
    {
     "data": {
      "text/html": [
       "Find internal logs for this run at: <code>C:\\Users\\helga\\wines_november\\wandb\\run-20240528_172318-d3334q5v\\logs\\debug-internal.log</code>"
      ],
      "text/plain": [
       "<IPython.core.display.HTML object>"
      ]
     },
     "metadata": {},
     "output_type": "display_data"
    },
    {
     "data": {
      "text/html": [
       "<h3>Run summary:</h3><br/><style>\n",
       "    table.wandb td:nth-child(1) { padding: 0 10px; text-align: right }\n",
       "    </style><table class=\"wandb\">\n",
       "<tr><td>trn_loss</td><td>0.24233</td></tr><tr><td>vld_loss</td><td>2.45347</td></tr><tr><td>_step</td><td>2399</td></tr><tr><td>_runtime</td><td>612</td></tr><tr><td>_timestamp</td><td>1716906810</td></tr><tr><td>clsf_trn_loss</td><td>0.27864</td></tr><tr><td>clsf_vld_loss</td><td>0.23271</td></tr><tr><td>dscr_trn_loss</td><td>0.36311</td></tr><tr><td>dscr_vld_loss</td><td>0.42923</td></tr></table>"
      ],
      "text/plain": [
       "<IPython.core.display.HTML object>"
      ]
     },
     "metadata": {},
     "output_type": "display_data"
    },
    {
     "data": {
      "text/html": [
       "<h3>Run history:</h3><br/><style>\n",
       "    table.wandb td:nth-child(1) { padding: 0 10px; text-align: right }\n",
       "    </style><table class=\"wandb\">\n",
       "<tr><td>trn_loss</td><td>██▂▁▂▁▁▁▁▁▁▂▁▁▁▂▁▁▁▁▁▁▁▁▁▁▁▁▁▁▁▁▁▁▁▁▁▁▁▁</td></tr><tr><td>vld_loss</td><td>█▇▂▁▁▁▁▁▁▁▁▁▁▁▁▁▁▁▁▁▁▁▁▁▁▁▁▁▁▁▁▁▁▁▁▁▁▁▁▁</td></tr><tr><td>_step</td><td>▁▁▁▁▂▂▂▂▂▃▃▃▃▃▃▄▄▄▄▄▅▅▅▅▅▅▆▆▆▆▆▆▇▇▇▇▇███</td></tr><tr><td>_runtime</td><td>▁▁▁▁▂▂▂▂▂▃▃▃▃▃▃▄▄▄▄▄▅▅▅▅▅▅▆▆▆▆▆▇▇▇▇▇▇███</td></tr><tr><td>_timestamp</td><td>▁▁▁▁▂▂▂▂▂▃▃▃▃▃▃▄▄▄▄▄▅▅▅▅▅▅▆▆▆▆▆▇▇▇▇▇▇███</td></tr><tr><td>clsf_trn_loss</td><td>██▂▁▂▁▁▁▁▁▁▂▁▁▁▂▁▁▁▁▁▁▁▁▁▁▁▁▁▁▁▁▁▁▁▁▁▁▁▁</td></tr><tr><td>clsf_vld_loss</td><td>▅█▂▁▂▁▁▁▁▁▁▁▁▂▁▁▂▁▁▁▁▁▁▁▁▁▁▁▁▁▁▂▁▁▁▁▁▁▁▁</td></tr><tr><td>dscr_trn_loss</td><td>▃██▄▅▃▃▄▂▂▂▂▂▂▂▁▂▂▃▃▂▃▃▄▄▅▅▅▄▆▅▄▄▄▃▄▃▃▃▂</td></tr><tr><td>dscr_vld_loss</td><td>▂▄█▂▂▃▃▂▂▂▁▁▂▂▁▁▂▂▂▂▂▂▂▃▃▃▃▃▃▄▃▃▃▃▂▃▂▂▂▂</td></tr></table><br/>"
      ],
      "text/plain": [
       "<IPython.core.display.HTML object>"
      ]
     },
     "metadata": {},
     "output_type": "display_data"
    },
    {
     "data": {
      "text/html": [
       "Synced 5 W&B file(s), 0 media file(s), 0 artifact file(s) and 0 other file(s)"
      ],
      "text/plain": [
       "<IPython.core.display.HTML object>"
      ]
     },
     "metadata": {},
     "output_type": "display_data"
    },
    {
     "data": {
      "text/html": [
       "\n",
       "                    <br/>Synced <strong style=\"color:#cdcd00\">rose-tree-35</strong>: <a href=\"https://wandb.ai/oe_sarmanova/DANN_ethanol_test_stop_100_MLP_N02_64_16_f_batch_64_19/runs/d3334q5v\" target=\"_blank\">https://wandb.ai/oe_sarmanova/DANN_ethanol_test_stop_100_MLP_N02_64_16_f_batch_64_19/runs/d3334q5v</a><br/>\n",
       "                "
      ],
      "text/plain": [
       "<IPython.core.display.HTML object>"
      ]
     },
     "metadata": {},
     "output_type": "display_data"
    },
    {
     "name": "stderr",
     "output_type": "stream",
     "text": [
      "wandb: wandb version 0.17.0 is available!  To upgrade, please run:\n",
      "wandb:  $ pip install wandb --upgrade\n"
     ]
    },
    {
     "data": {
      "text/html": [
       "\n",
       "                Tracking run with wandb version 0.10.15<br/>\n",
       "                Syncing run <strong style=\"color:#cdcd00\">warm-energy-36</strong> to <a href=\"https://wandb.ai\" target=\"_blank\">Weights & Biases</a> <a href=\"https://docs.wandb.com/integrations/jupyter.html\" target=\"_blank\">(Documentation)</a>.<br/>\n",
       "                Project page: <a href=\"https://wandb.ai/oe_sarmanova/DANN_ethanol_test_stop_100_MLP_N02_64_16_f_batch_64_19\" target=\"_blank\">https://wandb.ai/oe_sarmanova/DANN_ethanol_test_stop_100_MLP_N02_64_16_f_batch_64_19</a><br/>\n",
       "                Run page: <a href=\"https://wandb.ai/oe_sarmanova/DANN_ethanol_test_stop_100_MLP_N02_64_16_f_batch_64_19/runs/3aaze6qx\" target=\"_blank\">https://wandb.ai/oe_sarmanova/DANN_ethanol_test_stop_100_MLP_N02_64_16_f_batch_64_19/runs/3aaze6qx</a><br/>\n",
       "                Run data is saved locally in <code>C:\\Users\\helga\\wines_november\\wandb\\run-20240528_173343-3aaze6qx</code><br/><br/>\n",
       "            "
      ],
      "text/plain": [
       "<IPython.core.display.HTML object>"
      ]
     },
     "metadata": {},
     "output_type": "display_data"
    },
    {
     "name": "stderr",
     "output_type": "stream",
     "text": [
      "wandb: WARNING Calling run.save without any arguments is deprecated.Changes to attributes are automatically persisted.\n"
     ]
    },
    {
     "name": "stdout",
     "output_type": "stream",
     "text": [
      "Reset trainable parameters of layer = Linear(in_features=1868, out_features=64, bias=True)\n",
      "Reset trainable parameters of layer = Linear(in_features=64, out_features=16, bias=True)\n",
      "Reset trainable parameters of layer = Linear(in_features=16, out_features=1, bias=True)\n",
      "Reset trainable parameters of layer = Linear(in_features=16, out_features=1, bias=True)\n"
     ]
    },
    {
     "data": {
      "text/html": [
       "<br/>Waiting for W&B process to finish, PID 19952<br/>Program ended successfully."
      ],
      "text/plain": [
       "<IPython.core.display.HTML object>"
      ]
     },
     "metadata": {},
     "output_type": "display_data"
    },
    {
     "data": {
      "application/vnd.jupyter.widget-view+json": {
       "model_id": "",
       "version_major": 2,
       "version_minor": 0
      },
      "text/plain": [
       "VBox(children=(Label(value=' 0.00MB of 0.00MB uploaded (0.00MB deduped)\\r'), FloatProgress(value=1.0, max=1.0)…"
      ]
     },
     "metadata": {},
     "output_type": "display_data"
    },
    {
     "data": {
      "text/html": [
       "Find user logs for this run at: <code>C:\\Users\\helga\\wines_november\\wandb\\run-20240528_173343-3aaze6qx\\logs\\debug.log</code>"
      ],
      "text/plain": [
       "<IPython.core.display.HTML object>"
      ]
     },
     "metadata": {},
     "output_type": "display_data"
    },
    {
     "data": {
      "text/html": [
       "Find internal logs for this run at: <code>C:\\Users\\helga\\wines_november\\wandb\\run-20240528_173343-3aaze6qx\\logs\\debug-internal.log</code>"
      ],
      "text/plain": [
       "<IPython.core.display.HTML object>"
      ]
     },
     "metadata": {},
     "output_type": "display_data"
    },
    {
     "data": {
      "text/html": [
       "<h3>Run summary:</h3><br/><style>\n",
       "    table.wandb td:nth-child(1) { padding: 0 10px; text-align: right }\n",
       "    </style><table class=\"wandb\">\n",
       "<tr><td>trn_loss</td><td>0.45768</td></tr><tr><td>vld_loss</td><td>2.54469</td></tr><tr><td>_step</td><td>2699</td></tr><tr><td>_runtime</td><td>688</td></tr><tr><td>_timestamp</td><td>1716907511</td></tr><tr><td>clsf_trn_loss</td><td>0.49421</td></tr><tr><td>clsf_vld_loss</td><td>0.24079</td></tr><tr><td>dscr_trn_loss</td><td>0.36529</td></tr><tr><td>dscr_vld_loss</td><td>0.43817</td></tr></table>"
      ],
      "text/plain": [
       "<IPython.core.display.HTML object>"
      ]
     },
     "metadata": {},
     "output_type": "display_data"
    },
    {
     "data": {
      "text/html": [
       "<h3>Run history:</h3><br/><style>\n",
       "    table.wandb td:nth-child(1) { padding: 0 10px; text-align: right }\n",
       "    </style><table class=\"wandb\">\n",
       "<tr><td>trn_loss</td><td>█▆▂▁▂▁▁▂▁▁▁▁▁▁▁▁▁▁▁▁▁▁▁▁▁▁▁▁▁▁▁▁▁▁▁▁▁▁▁▁</td></tr><tr><td>vld_loss</td><td>█▆▂▂▁▁▁▁▁▁▁▁▁▁▁▁▁▁▁▁▁▁▁▁▁▁▁▁▁▁▁▁▁▁▁▁▁▁▁▁</td></tr><tr><td>_step</td><td>▁▁▁▂▂▂▂▂▂▃▃▃▃▃▃▄▄▄▄▄▅▅▅▅▅▅▆▆▆▆▆▆▇▇▇▇▇███</td></tr><tr><td>_runtime</td><td>▁▁▁▂▂▂▂▂▂▃▃▃▃▃▃▄▄▄▄▄▅▅▅▅▅▅▆▆▆▆▆▆▇▇▇▇▇███</td></tr><tr><td>_timestamp</td><td>▁▁▁▂▂▂▂▂▂▃▃▃▃▃▃▄▄▄▄▄▅▅▅▅▅▅▆▆▆▆▆▆▇▇▇▇▇███</td></tr><tr><td>clsf_trn_loss</td><td>█▆▂▁▂▁▁▂▁▁▁▁▁▁▁▁▁▁▁▁▁▁▁▁▁▁▁▁▁▁▁▁▁▁▁▁▁▁▁▁</td></tr><tr><td>clsf_vld_loss</td><td>█▅▂▁▁▁▁▁▁▁▁▁▁▂▁▂▁▁▁▁▁▁▂▁▁▁▂▁▁▂▁▁▁▁▁▁▁▁▁▁</td></tr><tr><td>dscr_trn_loss</td><td>▅█▄▅▂▂▂▁▂▂▂▂▂▂▂▁▂▂▂▁▂▁▂▁▁▁▂▁▂▂▂▄▄▂▃▇▃▂▇▅</td></tr><tr><td>dscr_vld_loss</td><td>▅▆█▁▄▃▃▃▃▃▃▃▃▃▃▃▃▃▃▃▃▂▃▃▂▃▂▂▂▂▃▄▃▆▅▆▆▄▄▅</td></tr></table><br/>"
      ],
      "text/plain": [
       "<IPython.core.display.HTML object>"
      ]
     },
     "metadata": {},
     "output_type": "display_data"
    },
    {
     "data": {
      "text/html": [
       "Synced 5 W&B file(s), 0 media file(s), 0 artifact file(s) and 0 other file(s)"
      ],
      "text/plain": [
       "<IPython.core.display.HTML object>"
      ]
     },
     "metadata": {},
     "output_type": "display_data"
    },
    {
     "data": {
      "text/html": [
       "\n",
       "                    <br/>Synced <strong style=\"color:#cdcd00\">warm-energy-36</strong>: <a href=\"https://wandb.ai/oe_sarmanova/DANN_ethanol_test_stop_100_MLP_N02_64_16_f_batch_64_19/runs/3aaze6qx\" target=\"_blank\">https://wandb.ai/oe_sarmanova/DANN_ethanol_test_stop_100_MLP_N02_64_16_f_batch_64_19/runs/3aaze6qx</a><br/>\n",
       "                "
      ],
      "text/plain": [
       "<IPython.core.display.HTML object>"
      ]
     },
     "metadata": {},
     "output_type": "display_data"
    },
    {
     "name": "stderr",
     "output_type": "stream",
     "text": [
      "wandb: wandb version 0.17.0 is available!  To upgrade, please run:\n",
      "wandb:  $ pip install wandb --upgrade\n"
     ]
    },
    {
     "data": {
      "text/html": [
       "\n",
       "                Tracking run with wandb version 0.10.15<br/>\n",
       "                Syncing run <strong style=\"color:#cdcd00\">grateful-puddle-37</strong> to <a href=\"https://wandb.ai\" target=\"_blank\">Weights & Biases</a> <a href=\"https://docs.wandb.com/integrations/jupyter.html\" target=\"_blank\">(Documentation)</a>.<br/>\n",
       "                Project page: <a href=\"https://wandb.ai/oe_sarmanova/DANN_ethanol_test_stop_100_MLP_N02_64_16_f_batch_64_19\" target=\"_blank\">https://wandb.ai/oe_sarmanova/DANN_ethanol_test_stop_100_MLP_N02_64_16_f_batch_64_19</a><br/>\n",
       "                Run page: <a href=\"https://wandb.ai/oe_sarmanova/DANN_ethanol_test_stop_100_MLP_N02_64_16_f_batch_64_19/runs/33szgh6s\" target=\"_blank\">https://wandb.ai/oe_sarmanova/DANN_ethanol_test_stop_100_MLP_N02_64_16_f_batch_64_19/runs/33szgh6s</a><br/>\n",
       "                Run data is saved locally in <code>C:\\Users\\helga\\wines_november\\wandb\\run-20240528_174516-33szgh6s</code><br/><br/>\n",
       "            "
      ],
      "text/plain": [
       "<IPython.core.display.HTML object>"
      ]
     },
     "metadata": {},
     "output_type": "display_data"
    },
    {
     "name": "stderr",
     "output_type": "stream",
     "text": [
      "wandb: WARNING Calling run.save without any arguments is deprecated.Changes to attributes are automatically persisted.\n"
     ]
    },
    {
     "name": "stdout",
     "output_type": "stream",
     "text": [
      "Reset trainable parameters of layer = Linear(in_features=1868, out_features=64, bias=True)\n",
      "Reset trainable parameters of layer = Linear(in_features=64, out_features=16, bias=True)\n",
      "Reset trainable parameters of layer = Linear(in_features=16, out_features=1, bias=True)\n",
      "Reset trainable parameters of layer = Linear(in_features=16, out_features=1, bias=True)\n"
     ]
    },
    {
     "data": {
      "text/html": [
       "<br/>Waiting for W&B process to finish, PID 21668<br/>Program ended successfully."
      ],
      "text/plain": [
       "<IPython.core.display.HTML object>"
      ]
     },
     "metadata": {},
     "output_type": "display_data"
    },
    {
     "data": {
      "application/vnd.jupyter.widget-view+json": {
       "model_id": "",
       "version_major": 2,
       "version_minor": 0
      },
      "text/plain": [
       "VBox(children=(Label(value=' 0.00MB of 0.00MB uploaded (0.00MB deduped)\\r'), FloatProgress(value=1.0, max=1.0)…"
      ]
     },
     "metadata": {},
     "output_type": "display_data"
    },
    {
     "data": {
      "text/html": [
       "Find user logs for this run at: <code>C:\\Users\\helga\\wines_november\\wandb\\run-20240528_174516-33szgh6s\\logs\\debug.log</code>"
      ],
      "text/plain": [
       "<IPython.core.display.HTML object>"
      ]
     },
     "metadata": {},
     "output_type": "display_data"
    },
    {
     "data": {
      "text/html": [
       "Find internal logs for this run at: <code>C:\\Users\\helga\\wines_november\\wandb\\run-20240528_174516-33szgh6s\\logs\\debug-internal.log</code>"
      ],
      "text/plain": [
       "<IPython.core.display.HTML object>"
      ]
     },
     "metadata": {},
     "output_type": "display_data"
    },
    {
     "data": {
      "text/html": [
       "<h3>Run summary:</h3><br/><style>\n",
       "    table.wandb td:nth-child(1) { padding: 0 10px; text-align: right }\n",
       "    </style><table class=\"wandb\">\n",
       "<tr><td>trn_loss</td><td>0.5358</td></tr><tr><td>vld_loss</td><td>2.78219</td></tr><tr><td>_step</td><td>2099</td></tr><tr><td>_runtime</td><td>538</td></tr><tr><td>_timestamp</td><td>1716908054</td></tr><tr><td>clsf_trn_loss</td><td>0.57223</td></tr><tr><td>clsf_vld_loss</td><td>0.47929</td></tr><tr><td>dscr_trn_loss</td><td>0.36429</td></tr><tr><td>dscr_vld_loss</td><td>0.43111</td></tr></table>"
      ],
      "text/plain": [
       "<IPython.core.display.HTML object>"
      ]
     },
     "metadata": {},
     "output_type": "display_data"
    },
    {
     "data": {
      "text/html": [
       "<h3>Run history:</h3><br/><style>\n",
       "    table.wandb td:nth-child(1) { padding: 0 10px; text-align: right }\n",
       "    </style><table class=\"wandb\">\n",
       "<tr><td>trn_loss</td><td>██▃▂▁▁▁▁▁▁▁▁▁▁▁▁▁▁▁▁▁▁▁▁▁▁▁▁▁▁▁▁▁▁▁▁▁▁▁▁</td></tr><tr><td>vld_loss</td><td>█▆▃▂▂▁▁▁▁▁▁▁▁▁▁▁▁▁▁▁▁▁▂▁▁▁▁▁▁▁▁▁▁▁▁▁▁▁▁▁</td></tr><tr><td>_step</td><td>▁▁▁▁▂▂▂▂▂▃▃▃▃▃▃▄▄▄▄▄▅▅▅▅▅▅▆▆▆▆▆▆▇▇▇▇▇███</td></tr><tr><td>_runtime</td><td>▁▁▁▁▂▂▂▂▂▃▃▃▃▃▃▄▄▄▄▄▅▅▅▅▅▆▆▆▆▆▆▆▇▇▇▇▇███</td></tr><tr><td>_timestamp</td><td>▁▁▁▁▂▂▂▂▂▃▃▃▃▃▃▄▄▄▄▄▅▅▅▅▅▆▆▆▆▆▆▆▇▇▇▇▇███</td></tr><tr><td>clsf_trn_loss</td><td>██▃▂▁▁▁▁▁▁▁▁▁▁▁▁▁▁▁▁▁▁▁▁▁▁▁▁▁▁▁▁▁▁▁▁▁▁▁▁</td></tr><tr><td>clsf_vld_loss</td><td>█▅▄▂▂▁▁▁▂▁▂▁▁▁▂▁▁▁▁▁▁▁▂▁▁▁▁▁▁▁▁▂▁▁▁▁▂▁▁▁</td></tr><tr><td>dscr_trn_loss</td><td>▄▆▁█▆▃▂▃▂▂▃▂▂▂▂▂▂▂▃▃▂▂▃▂▃▂▂▂▃▂▃▃▂▃▃▃▂▂▂▂</td></tr><tr><td>dscr_vld_loss</td><td>▄█▆▃▁▄▂▂▂▂▂▂▂▂▂▂▂▂▃▃▂▁▂▃▃▂▂▂▃▂▂▃▂▃▃▂▂▂▂▂</td></tr></table><br/>"
      ],
      "text/plain": [
       "<IPython.core.display.HTML object>"
      ]
     },
     "metadata": {},
     "output_type": "display_data"
    },
    {
     "data": {
      "text/html": [
       "Synced 5 W&B file(s), 0 media file(s), 0 artifact file(s) and 0 other file(s)"
      ],
      "text/plain": [
       "<IPython.core.display.HTML object>"
      ]
     },
     "metadata": {},
     "output_type": "display_data"
    },
    {
     "data": {
      "text/html": [
       "\n",
       "                    <br/>Synced <strong style=\"color:#cdcd00\">grateful-puddle-37</strong>: <a href=\"https://wandb.ai/oe_sarmanova/DANN_ethanol_test_stop_100_MLP_N02_64_16_f_batch_64_19/runs/33szgh6s\" target=\"_blank\">https://wandb.ai/oe_sarmanova/DANN_ethanol_test_stop_100_MLP_N02_64_16_f_batch_64_19/runs/33szgh6s</a><br/>\n",
       "                "
      ],
      "text/plain": [
       "<IPython.core.display.HTML object>"
      ]
     },
     "metadata": {},
     "output_type": "display_data"
    },
    {
     "name": "stderr",
     "output_type": "stream",
     "text": [
      "wandb: wandb version 0.17.0 is available!  To upgrade, please run:\n",
      "wandb:  $ pip install wandb --upgrade\n"
     ]
    },
    {
     "data": {
      "text/html": [
       "\n",
       "                Tracking run with wandb version 0.10.15<br/>\n",
       "                Syncing run <strong style=\"color:#cdcd00\">true-wildflower-38</strong> to <a href=\"https://wandb.ai\" target=\"_blank\">Weights & Biases</a> <a href=\"https://docs.wandb.com/integrations/jupyter.html\" target=\"_blank\">(Documentation)</a>.<br/>\n",
       "                Project page: <a href=\"https://wandb.ai/oe_sarmanova/DANN_ethanol_test_stop_100_MLP_N02_64_16_f_batch_64_19\" target=\"_blank\">https://wandb.ai/oe_sarmanova/DANN_ethanol_test_stop_100_MLP_N02_64_16_f_batch_64_19</a><br/>\n",
       "                Run page: <a href=\"https://wandb.ai/oe_sarmanova/DANN_ethanol_test_stop_100_MLP_N02_64_16_f_batch_64_19/runs/3nsirno2\" target=\"_blank\">https://wandb.ai/oe_sarmanova/DANN_ethanol_test_stop_100_MLP_N02_64_16_f_batch_64_19/runs/3nsirno2</a><br/>\n",
       "                Run data is saved locally in <code>C:\\Users\\helga\\wines_november\\wandb\\run-20240528_175418-3nsirno2</code><br/><br/>\n",
       "            "
      ],
      "text/plain": [
       "<IPython.core.display.HTML object>"
      ]
     },
     "metadata": {},
     "output_type": "display_data"
    },
    {
     "name": "stderr",
     "output_type": "stream",
     "text": [
      "wandb: WARNING Calling run.save without any arguments is deprecated.Changes to attributes are automatically persisted.\n"
     ]
    },
    {
     "name": "stdout",
     "output_type": "stream",
     "text": [
      "Reset trainable parameters of layer = Linear(in_features=1868, out_features=64, bias=True)\n",
      "Reset trainable parameters of layer = Linear(in_features=64, out_features=16, bias=True)\n",
      "Reset trainable parameters of layer = Linear(in_features=16, out_features=1, bias=True)\n",
      "Reset trainable parameters of layer = Linear(in_features=16, out_features=1, bias=True)\n"
     ]
    },
    {
     "data": {
      "text/html": [
       "<br/>Waiting for W&B process to finish, PID 15180<br/>Program ended successfully."
      ],
      "text/plain": [
       "<IPython.core.display.HTML object>"
      ]
     },
     "metadata": {},
     "output_type": "display_data"
    },
    {
     "data": {
      "application/vnd.jupyter.widget-view+json": {
       "model_id": "",
       "version_major": 2,
       "version_minor": 0
      },
      "text/plain": [
       "VBox(children=(Label(value=' 0.00MB of 0.00MB uploaded (0.00MB deduped)\\r'), FloatProgress(value=1.0, max=1.0)…"
      ]
     },
     "metadata": {},
     "output_type": "display_data"
    },
    {
     "data": {
      "text/html": [
       "Find user logs for this run at: <code>C:\\Users\\helga\\wines_november\\wandb\\run-20240528_175418-3nsirno2\\logs\\debug.log</code>"
      ],
      "text/plain": [
       "<IPython.core.display.HTML object>"
      ]
     },
     "metadata": {},
     "output_type": "display_data"
    },
    {
     "data": {
      "text/html": [
       "Find internal logs for this run at: <code>C:\\Users\\helga\\wines_november\\wandb\\run-20240528_175418-3nsirno2\\logs\\debug-internal.log</code>"
      ],
      "text/plain": [
       "<IPython.core.display.HTML object>"
      ]
     },
     "metadata": {},
     "output_type": "display_data"
    },
    {
     "data": {
      "text/html": [
       "<h3>Run summary:</h3><br/><style>\n",
       "    table.wandb td:nth-child(1) { padding: 0 10px; text-align: right }\n",
       "    </style><table class=\"wandb\">\n",
       "<tr><td>trn_loss</td><td>0.54329</td></tr><tr><td>vld_loss</td><td>3.58592</td></tr><tr><td>_step</td><td>1799</td></tr><tr><td>_runtime</td><td>460</td></tr><tr><td>_timestamp</td><td>1716908519</td></tr><tr><td>clsf_trn_loss</td><td>0.57971</td></tr><tr><td>clsf_vld_loss</td><td>0.65252</td></tr><tr><td>dscr_trn_loss</td><td>0.36417</td></tr><tr><td>dscr_vld_loss</td><td>0.431</td></tr></table>"
      ],
      "text/plain": [
       "<IPython.core.display.HTML object>"
      ]
     },
     "metadata": {},
     "output_type": "display_data"
    },
    {
     "data": {
      "text/html": [
       "<h3>Run history:</h3><br/><style>\n",
       "    table.wandb td:nth-child(1) { padding: 0 10px; text-align: right }\n",
       "    </style><table class=\"wandb\">\n",
       "<tr><td>trn_loss</td><td>▇█▆▃▂▂▂▁▁▁▂▁▁▁▁▁▁▁▁▁▁▁▁▁▁▁▁▁▁▁▁▁▁▁▁▁▁▁▁▁</td></tr><tr><td>vld_loss</td><td>██▆▃▂▂▁▁▁▁▁▁▁▁▁▁▁▁▁▁▁▁▁▁▁▁▁▁▁▁▁▁▁▁▁▁▁▁▁▁</td></tr><tr><td>_step</td><td>▁▁▁▂▂▂▂▂▂▃▃▃▃▃▃▄▄▄▄▄▅▅▅▅▅▅▆▆▆▆▆▇▇▇▇▇▇███</td></tr><tr><td>_runtime</td><td>▁▁▁▂▂▂▂▂▂▃▃▃▃▃▃▄▄▄▄▄▅▅▅▅▅▅▆▆▆▆▆▇▇▇▇▇▇███</td></tr><tr><td>_timestamp</td><td>▁▁▁▂▂▂▂▂▂▃▃▃▃▃▃▄▄▄▄▄▅▅▅▅▅▅▆▆▆▆▆▇▇▇▇▇▇███</td></tr><tr><td>clsf_trn_loss</td><td>▇█▆▃▂▂▂▁▁▁▂▁▁▁▁▁▁▁▁▁▁▁▁▁▁▁▁▁▁▁▁▁▁▁▁▁▁▁▁▁</td></tr><tr><td>clsf_vld_loss</td><td>▆█▆▃▂▁▂▁▁▁▁▁▁▁▁▁▁▁▁▁▁▁▁▁▁▁▁▁▁▁▁▁▁▁▁▁▁▁▁▁</td></tr><tr><td>dscr_trn_loss</td><td>▄▄█▄▁▃▁▂▂▂▁▂▂▂▂▂▂▂▂▂▂▂▂▂▂▂▂▂▂▃▂▂▃▂▂▁▂▂▂▂</td></tr><tr><td>dscr_vld_loss</td><td>▄▅█▄▂▂▁▂▂▂▂▃▂▂▂▂▂▂▂▂▃▂▂▂▂▂▂▂▂▃▂▂▃▂▂▂▂▂▂▂</td></tr></table><br/>"
      ],
      "text/plain": [
       "<IPython.core.display.HTML object>"
      ]
     },
     "metadata": {},
     "output_type": "display_data"
    },
    {
     "data": {
      "text/html": [
       "Synced 5 W&B file(s), 0 media file(s), 0 artifact file(s) and 0 other file(s)"
      ],
      "text/plain": [
       "<IPython.core.display.HTML object>"
      ]
     },
     "metadata": {},
     "output_type": "display_data"
    },
    {
     "data": {
      "text/html": [
       "\n",
       "                    <br/>Synced <strong style=\"color:#cdcd00\">true-wildflower-38</strong>: <a href=\"https://wandb.ai/oe_sarmanova/DANN_ethanol_test_stop_100_MLP_N02_64_16_f_batch_64_19/runs/3nsirno2\" target=\"_blank\">https://wandb.ai/oe_sarmanova/DANN_ethanol_test_stop_100_MLP_N02_64_16_f_batch_64_19/runs/3nsirno2</a><br/>\n",
       "                "
      ],
      "text/plain": [
       "<IPython.core.display.HTML object>"
      ]
     },
     "metadata": {},
     "output_type": "display_data"
    },
    {
     "name": "stderr",
     "output_type": "stream",
     "text": [
      "wandb: wandb version 0.17.0 is available!  To upgrade, please run:\n",
      "wandb:  $ pip install wandb --upgrade\n"
     ]
    },
    {
     "data": {
      "text/html": [
       "\n",
       "                Tracking run with wandb version 0.10.15<br/>\n",
       "                Syncing run <strong style=\"color:#cdcd00\">eager-deluge-39</strong> to <a href=\"https://wandb.ai\" target=\"_blank\">Weights & Biases</a> <a href=\"https://docs.wandb.com/integrations/jupyter.html\" target=\"_blank\">(Documentation)</a>.<br/>\n",
       "                Project page: <a href=\"https://wandb.ai/oe_sarmanova/DANN_ethanol_test_stop_100_MLP_N02_64_16_f_batch_64_19\" target=\"_blank\">https://wandb.ai/oe_sarmanova/DANN_ethanol_test_stop_100_MLP_N02_64_16_f_batch_64_19</a><br/>\n",
       "                Run page: <a href=\"https://wandb.ai/oe_sarmanova/DANN_ethanol_test_stop_100_MLP_N02_64_16_f_batch_64_19/runs/3mrpljku\" target=\"_blank\">https://wandb.ai/oe_sarmanova/DANN_ethanol_test_stop_100_MLP_N02_64_16_f_batch_64_19/runs/3mrpljku</a><br/>\n",
       "                Run data is saved locally in <code>C:\\Users\\helga\\wines_november\\wandb\\run-20240528_180204-3mrpljku</code><br/><br/>\n",
       "            "
      ],
      "text/plain": [
       "<IPython.core.display.HTML object>"
      ]
     },
     "metadata": {},
     "output_type": "display_data"
    },
    {
     "name": "stderr",
     "output_type": "stream",
     "text": [
      "wandb: WARNING Calling run.save without any arguments is deprecated.Changes to attributes are automatically persisted.\n"
     ]
    },
    {
     "name": "stdout",
     "output_type": "stream",
     "text": [
      "Reset trainable parameters of layer = Linear(in_features=1868, out_features=64, bias=True)\n",
      "Reset trainable parameters of layer = Linear(in_features=64, out_features=16, bias=True)\n",
      "Reset trainable parameters of layer = Linear(in_features=16, out_features=1, bias=True)\n",
      "Reset trainable parameters of layer = Linear(in_features=16, out_features=1, bias=True)\n"
     ]
    },
    {
     "data": {
      "text/html": [
       "<br/>Waiting for W&B process to finish, PID 8004<br/>Program ended successfully."
      ],
      "text/plain": [
       "<IPython.core.display.HTML object>"
      ]
     },
     "metadata": {},
     "output_type": "display_data"
    },
    {
     "data": {
      "application/vnd.jupyter.widget-view+json": {
       "model_id": "",
       "version_major": 2,
       "version_minor": 0
      },
      "text/plain": [
       "VBox(children=(Label(value=' 0.00MB of 0.00MB uploaded (0.00MB deduped)\\r'), FloatProgress(value=1.0, max=1.0)…"
      ]
     },
     "metadata": {},
     "output_type": "display_data"
    },
    {
     "data": {
      "text/html": [
       "Find user logs for this run at: <code>C:\\Users\\helga\\wines_november\\wandb\\run-20240528_180204-3mrpljku\\logs\\debug.log</code>"
      ],
      "text/plain": [
       "<IPython.core.display.HTML object>"
      ]
     },
     "metadata": {},
     "output_type": "display_data"
    },
    {
     "data": {
      "text/html": [
       "Find internal logs for this run at: <code>C:\\Users\\helga\\wines_november\\wandb\\run-20240528_180204-3mrpljku\\logs\\debug-internal.log</code>"
      ],
      "text/plain": [
       "<IPython.core.display.HTML object>"
      ]
     },
     "metadata": {},
     "output_type": "display_data"
    },
    {
     "data": {
      "text/html": [
       "<h3>Run summary:</h3><br/><style>\n",
       "    table.wandb td:nth-child(1) { padding: 0 10px; text-align: right }\n",
       "    </style><table class=\"wandb\">\n",
       "<tr><td>trn_loss</td><td>0.4621</td></tr><tr><td>vld_loss</td><td>2.97142</td></tr><tr><td>_step</td><td>2399</td></tr><tr><td>_runtime</td><td>574</td></tr><tr><td>_timestamp</td><td>1716909098</td></tr><tr><td>clsf_trn_loss</td><td>0.49854</td></tr><tr><td>clsf_vld_loss</td><td>0.69553</td></tr><tr><td>dscr_trn_loss</td><td>0.36447</td></tr><tr><td>dscr_vld_loss</td><td>0.43136</td></tr></table>"
      ],
      "text/plain": [
       "<IPython.core.display.HTML object>"
      ]
     },
     "metadata": {},
     "output_type": "display_data"
    },
    {
     "data": {
      "text/html": [
       "<h3>Run history:</h3><br/><style>\n",
       "    table.wandb td:nth-child(1) { padding: 0 10px; text-align: right }\n",
       "    </style><table class=\"wandb\">\n",
       "<tr><td>trn_loss</td><td>██▂▂▁▂▁▁▁▁▁▁▁▁▁▁▁▁▁▁▁▁▁▁▁▁▁▁▁▁▁▁▁▁▁▁▁▁▂▁</td></tr><tr><td>vld_loss</td><td>█▆▂▁▁▁▁▁▁▁▁▁▁▁▁▁▁▁▁▁▁▁▁▁▁▁▁▁▁▁▁▁▁▁▁▁▁▁▁▁</td></tr><tr><td>_step</td><td>▁▁▁▁▂▂▂▂▂▃▃▃▃▃▃▄▄▄▄▄▅▅▅▅▅▅▆▆▆▆▆▆▇▇▇▇▇███</td></tr><tr><td>_runtime</td><td>▁▁▁▂▂▂▂▂▃▃▃▃▃▃▄▄▄▄▄▅▅▅▅▅▅▆▆▆▆▆▆▇▇▇▇▇▇███</td></tr><tr><td>_timestamp</td><td>▁▁▁▂▂▂▂▂▃▃▃▃▃▃▄▄▄▄▄▅▅▅▅▅▅▆▆▆▆▆▆▇▇▇▇▇▇███</td></tr><tr><td>clsf_trn_loss</td><td>██▂▂▁▂▁▁▁▁▁▁▁▁▁▁▁▁▁▁▁▁▁▁▁▁▁▁▁▁▁▁▁▁▁▁▁▁▂▁</td></tr><tr><td>clsf_vld_loss</td><td>█▆▂▁▁▁▂▁▁▁▁▁▁▂▁▁▁▁▁▁▁▁▁▁▁▂▁▁▁▁▂▁▁▁▁▁▁▁▁▁</td></tr><tr><td>dscr_trn_loss</td><td>▄█▆▁▆▄▃▃▃▄▃▄▃▃▃▃▃▃▃▃▃▃▃▃▃▃▃▃▃▃▃▃▃▄▄▃▃▃▄▃</td></tr><tr><td>dscr_vld_loss</td><td>▃█▁▁▄▂▂▂▂▂▂▂▂▁▂▂▂▂▂▂▂▂▂▂▁▂▂▂▂▂▂▁▃▂▂▂▂▂▂▂</td></tr></table><br/>"
      ],
      "text/plain": [
       "<IPython.core.display.HTML object>"
      ]
     },
     "metadata": {},
     "output_type": "display_data"
    },
    {
     "data": {
      "text/html": [
       "Synced 5 W&B file(s), 0 media file(s), 0 artifact file(s) and 0 other file(s)"
      ],
      "text/plain": [
       "<IPython.core.display.HTML object>"
      ]
     },
     "metadata": {},
     "output_type": "display_data"
    },
    {
     "data": {
      "text/html": [
       "\n",
       "                    <br/>Synced <strong style=\"color:#cdcd00\">eager-deluge-39</strong>: <a href=\"https://wandb.ai/oe_sarmanova/DANN_ethanol_test_stop_100_MLP_N02_64_16_f_batch_64_19/runs/3mrpljku\" target=\"_blank\">https://wandb.ai/oe_sarmanova/DANN_ethanol_test_stop_100_MLP_N02_64_16_f_batch_64_19/runs/3mrpljku</a><br/>\n",
       "                "
      ],
      "text/plain": [
       "<IPython.core.display.HTML object>"
      ]
     },
     "metadata": {},
     "output_type": "display_data"
    },
    {
     "name": "stderr",
     "output_type": "stream",
     "text": [
      "wandb: wandb version 0.17.0 is available!  To upgrade, please run:\n",
      "wandb:  $ pip install wandb --upgrade\n"
     ]
    },
    {
     "data": {
      "text/html": [
       "\n",
       "                Tracking run with wandb version 0.10.15<br/>\n",
       "                Syncing run <strong style=\"color:#cdcd00\">fast-bird-40</strong> to <a href=\"https://wandb.ai\" target=\"_blank\">Weights & Biases</a> <a href=\"https://docs.wandb.com/integrations/jupyter.html\" target=\"_blank\">(Documentation)</a>.<br/>\n",
       "                Project page: <a href=\"https://wandb.ai/oe_sarmanova/DANN_ethanol_test_stop_100_MLP_N02_64_16_f_batch_64_19\" target=\"_blank\">https://wandb.ai/oe_sarmanova/DANN_ethanol_test_stop_100_MLP_N02_64_16_f_batch_64_19</a><br/>\n",
       "                Run page: <a href=\"https://wandb.ai/oe_sarmanova/DANN_ethanol_test_stop_100_MLP_N02_64_16_f_batch_64_19/runs/1sacr2dv\" target=\"_blank\">https://wandb.ai/oe_sarmanova/DANN_ethanol_test_stop_100_MLP_N02_64_16_f_batch_64_19/runs/1sacr2dv</a><br/>\n",
       "                Run data is saved locally in <code>C:\\Users\\helga\\wines_november\\wandb\\run-20240528_181143-1sacr2dv</code><br/><br/>\n",
       "            "
      ],
      "text/plain": [
       "<IPython.core.display.HTML object>"
      ]
     },
     "metadata": {},
     "output_type": "display_data"
    },
    {
     "name": "stderr",
     "output_type": "stream",
     "text": [
      "wandb: WARNING Calling run.save without any arguments is deprecated.Changes to attributes are automatically persisted.\n"
     ]
    },
    {
     "name": "stdout",
     "output_type": "stream",
     "text": [
      "Reset trainable parameters of layer = Linear(in_features=1868, out_features=64, bias=True)\n",
      "Reset trainable parameters of layer = Linear(in_features=64, out_features=16, bias=True)\n",
      "Reset trainable parameters of layer = Linear(in_features=16, out_features=1, bias=True)\n",
      "Reset trainable parameters of layer = Linear(in_features=16, out_features=1, bias=True)\n"
     ]
    },
    {
     "data": {
      "text/html": [
       "<br/>Waiting for W&B process to finish, PID 17560<br/>Program ended successfully."
      ],
      "text/plain": [
       "<IPython.core.display.HTML object>"
      ]
     },
     "metadata": {},
     "output_type": "display_data"
    },
    {
     "data": {
      "application/vnd.jupyter.widget-view+json": {
       "model_id": "",
       "version_major": 2,
       "version_minor": 0
      },
      "text/plain": [
       "VBox(children=(Label(value=' 0.00MB of 0.00MB uploaded (0.00MB deduped)\\r'), FloatProgress(value=1.0, max=1.0)…"
      ]
     },
     "metadata": {},
     "output_type": "display_data"
    },
    {
     "data": {
      "text/html": [
       "Find user logs for this run at: <code>C:\\Users\\helga\\wines_november\\wandb\\run-20240528_181143-1sacr2dv\\logs\\debug.log</code>"
      ],
      "text/plain": [
       "<IPython.core.display.HTML object>"
      ]
     },
     "metadata": {},
     "output_type": "display_data"
    },
    {
     "data": {
      "text/html": [
       "Find internal logs for this run at: <code>C:\\Users\\helga\\wines_november\\wandb\\run-20240528_181143-1sacr2dv\\logs\\debug-internal.log</code>"
      ],
      "text/plain": [
       "<IPython.core.display.HTML object>"
      ]
     },
     "metadata": {},
     "output_type": "display_data"
    },
    {
     "data": {
      "text/html": [
       "<h3>Run summary:</h3><br/><style>\n",
       "    table.wandb td:nth-child(1) { padding: 0 10px; text-align: right }\n",
       "    </style><table class=\"wandb\">\n",
       "<tr><td>trn_loss</td><td>0.33154</td></tr><tr><td>vld_loss</td><td>3.57041</td></tr><tr><td>_step</td><td>1499</td></tr><tr><td>_runtime</td><td>342</td></tr><tr><td>_timestamp</td><td>1716909445</td></tr><tr><td>clsf_trn_loss</td><td>0.36789</td></tr><tr><td>clsf_vld_loss</td><td>0.64319</td></tr><tr><td>dscr_trn_loss</td><td>0.36348</td></tr><tr><td>dscr_vld_loss</td><td>0.43108</td></tr></table>"
      ],
      "text/plain": [
       "<IPython.core.display.HTML object>"
      ]
     },
     "metadata": {},
     "output_type": "display_data"
    },
    {
     "data": {
      "text/html": [
       "<h3>Run history:</h3><br/><style>\n",
       "    table.wandb td:nth-child(1) { padding: 0 10px; text-align: right }\n",
       "    </style><table class=\"wandb\">\n",
       "<tr><td>trn_loss</td><td>█▇▆▃▂▂▁▁▁▁▁▁▁▁▁▁▁▁▁▁▁▁▁▁▁▁▁▁▁▁▁▁▁▁▁▁▁▁▁▁</td></tr><tr><td>vld_loss</td><td>██▇▅▃▂▁▁▁▁▁▁▁▁▁▁▁▁▁▁▁▁▁▁▁▁▁▁▁▁▁▁▁▁▁▁▁▁▁▁</td></tr><tr><td>_step</td><td>▁▁▁▂▂▂▂▂▂▃▃▃▃▃▄▄▄▄▄▄▅▅▅▅▅▅▆▆▆▆▆▇▇▇▇▇▇███</td></tr><tr><td>_runtime</td><td>▁▁▁▂▂▂▂▂▂▃▃▃▃▃▄▄▄▄▄▄▅▅▅▅▅▅▆▆▆▆▆▇▇▇▇▇▇███</td></tr><tr><td>_timestamp</td><td>▁▁▁▂▂▂▂▂▂▃▃▃▃▃▄▄▄▄▄▄▅▅▅▅▅▅▆▆▆▆▆▇▇▇▇▇▇███</td></tr><tr><td>clsf_trn_loss</td><td>█▇▆▃▂▂▁▁▁▁▁▁▁▁▁▁▁▁▁▁▁▁▁▁▁▁▁▁▁▁▁▁▁▁▁▁▁▁▁▁</td></tr><tr><td>clsf_vld_loss</td><td>▇▇█▇▃▂▂▂▂▁▂▁▁▁▁▂▂▁▂▁▁▁▂▂▁▁▁▁▁▁▁▁▁▁▁▁▂▁▁▁</td></tr><tr><td>dscr_trn_loss</td><td>▄▄█▇▃▁▃▄▃▃▃▂▃▃▃▂▄▃▃▃▄▂▃▃▂▃▃▂▃▃▃▃▃▃▃▃▃▂▃▂</td></tr><tr><td>dscr_vld_loss</td><td>▃▃█▆▃▄▃▅▁▃▃▂▃▃▂▂▃▂▃▂▃▁▃▂▂▃▂▁▃▂▂▃▃▂▃▂▃▂▂▂</td></tr></table><br/>"
      ],
      "text/plain": [
       "<IPython.core.display.HTML object>"
      ]
     },
     "metadata": {},
     "output_type": "display_data"
    },
    {
     "data": {
      "text/html": [
       "Synced 5 W&B file(s), 0 media file(s), 0 artifact file(s) and 0 other file(s)"
      ],
      "text/plain": [
       "<IPython.core.display.HTML object>"
      ]
     },
     "metadata": {},
     "output_type": "display_data"
    },
    {
     "data": {
      "text/html": [
       "\n",
       "                    <br/>Synced <strong style=\"color:#cdcd00\">fast-bird-40</strong>: <a href=\"https://wandb.ai/oe_sarmanova/DANN_ethanol_test_stop_100_MLP_N02_64_16_f_batch_64_19/runs/1sacr2dv\" target=\"_blank\">https://wandb.ai/oe_sarmanova/DANN_ethanol_test_stop_100_MLP_N02_64_16_f_batch_64_19/runs/1sacr2dv</a><br/>\n",
       "                "
      ],
      "text/plain": [
       "<IPython.core.display.HTML object>"
      ]
     },
     "metadata": {},
     "output_type": "display_data"
    }
   ],
   "source": [
    "for fold in k_folds:\n",
    "    \n",
    "    split_path = case_path+'split_'+ str(fold[0])+'_'+str(fold[1])+ '/'\n",
    "    os.makedirs(split_path, exist_ok=True)\n",
    "\n",
    "    '''Split and write Y data'''\n",
    "    Y_trn_s, Y_30_s = train_test_split(y_source.iloc[:,[0,k]], test_size=0.3, random_state=fold[0])\n",
    "    Y_vld_s, Y_tst_s = train_test_split(Y_30_s, test_size = 0.3333, random_state=fold[1])\n",
    "    \n",
    "    Y_trn_t, Y_30_t = train_test_split(y_target.iloc[:,[0,k]], test_size=0.3, random_state=fold[0])\n",
    "    Y_vld_t, Y_tst_t = train_test_split(Y_30_t, test_size = 0.3333, random_state=fold[1])\n",
    "    \n",
    "    a = ['sample_number',param]\n",
    "\n",
    "    pd.DataFrame(Y_trn_s).to_csv(split_path + 'Y_trn_s.csv',sep=',', index=False, header = a)\n",
    "    pd.DataFrame(Y_vld_s).to_csv(split_path + 'Y_vld_s.csv',sep=',', index=False, header = a)\n",
    "    pd.DataFrame(Y_tst_s).to_csv(split_path + 'Y_tst_s.csv',sep=',', index=False, header = a)\n",
    "    \n",
    "    pd.DataFrame(Y_trn_t).to_csv(split_path + 'Y_trn_t.csv',sep=',', index=False, header = a)\n",
    "    pd.DataFrame(Y_vld_t).to_csv(split_path + 'Y_vld_t.csv',sep=',', index=False, header = a)\n",
    "    pd.DataFrame(Y_tst_t).to_csv(split_path + 'Y_tst_t.csv',sep=',', index=False, header = a)\n",
    "    \n",
    "    '''Import and normalization source data'''\n",
    "    training_data_s = IR_Dataset_DA(split_path+'Y_trn_s.csv', x_source)\n",
    "    train_dataloader_s = DataLoader(training_data_s, batch_size=trn_batch_s, shuffle=True)\n",
    "    min_s, max_s = min_max(train_dataloader_s)\n",
    "    \n",
    "    trn_data_s = IR_Dataset_DA(split_path+'Y_trn_s.csv', x_source, transform = transforms.Compose([MinMax_Normalize(min_s,max_s)]))\n",
    "    vld_data_s = IR_Dataset_DA(split_path+'Y_vld_s.csv', x_source, transform = transforms.Compose([MinMax_Normalize(min_s,max_s)]))\n",
    "    tst_data_s = IR_Dataset_DA(split_path+'Y_tst_s.csv',x_source, transform = transforms.Compose([MinMax_Normalize(min_s,max_s)]))\n",
    "    \n",
    "    train_dataloader_s = DataLoader(trn_data_s, batch_size=64, shuffle=True)    \n",
    "    vld_dataloader_s = DataLoader(vld_data_s, batch_size=64, shuffle=True)\n",
    "    test_dataloader_s = DataLoader(tst_data_s, batch_size=64, shuffle=True)\n",
    "    \n",
    "    '''Import and normalization target data'''\n",
    "    training_data_t = IR_Dataset_DA(split_path+'Y_trn_t.csv', x_target)\n",
    "    train_dataloader_t = DataLoader(training_data_t, batch_size=trn_batch_t, shuffle=True)\n",
    "    min_t, max_t = min_max(train_dataloader_t)\n",
    "    \n",
    "    trn_data_t = IR_Dataset_DA(split_path+'Y_trn_t.csv',x_target, transform = transforms.Compose([MinMax_Normalize(min_t,max_t)]))\n",
    "    vld_data_t = IR_Dataset_DA(split_path+'Y_vld_t.csv',x_target, transform = transforms.Compose([MinMax_Normalize(min_t,max_t)]))\n",
    "    tst_data_t = IR_Dataset_DA(split_path+'Y_tst_t.csv',x_target, transform = transforms.Compose([MinMax_Normalize(min_t,max_t)]))\n",
    "    \n",
    "    train_dataloader_t = DataLoader(trn_data_t, batch_size=19, shuffle=True)    \n",
    "    vld_dataloader_t = DataLoader(vld_data_t, batch_size=19, shuffle=True)\n",
    "    test_dataloader_t = DataLoader(tst_data_t, batch_size=19, shuffle=True)\n",
    "         \n",
    "    for init_number in range(0,5):\n",
    "        \n",
    "        min_val_loss = [1000000000000000.0] #just big random number to enter learning cycle\n",
    "        wandb.init(project = case_name)\n",
    "\n",
    "        init_path = split_path + str(init_number)+'/'\n",
    "        os.makedirs(init_path, exist_ok=True)\n",
    "        \n",
    "        split_name = 'split_'+ str(fold[0])+'_'+str(fold[1])+'/'\n",
    "        init_name = str(init_number) + '/'\n",
    "        model_name = 'DANN'\n",
    "        wandb.run.name = split_name + init_name + model_name\n",
    "        wandb.run.save()\n",
    "        \n",
    "        for epoch_step in range(0, 5000, test_stop):\n",
    "            best_epoch=0\n",
    "            \n",
    "            if epoch_step==0:\n",
    "                feat_ext.apply(reset_weights)\n",
    "                clsf.apply(reset_weights)\n",
    "                dscr.apply(reset_weights)\n",
    "                \n",
    "                for ep in range(0, test_stop):\n",
    "                    \n",
    "                    s_iterator = iter(train_dataloader_s)\n",
    "                    t_iterator = iter(train_dataloader_t)\n",
    "                    \n",
    "                    for _ in range(0, int(trn_batch_s/batch_size)+1): # get bacth\n",
    "                        num_s, inputs_s, label_s, domain_s = next(s_iterator) # parse batch\n",
    "                        num_t, inputs_t, label_t, domain_t = next(t_iterator) # parse batch\n",
    "                        \n",
    "                        x = torch.cat([inputs_s, inputs_t], dim=0)\n",
    "                        labels = torch.cat([label_s, label_t], dim=0)\n",
    "                        domain = torch.cat([domain_s, domain_t], dim=0).unsqueeze(-1)\n",
    "                        \n",
    "                        d_opt.zero_grad()\n",
    "                        d_out = dscr(feat_ext(x))\n",
    "                        dscr_loss = bce(d_out, domain)\n",
    "                        dscr_loss.backward(retain_graph=True)\n",
    "                        d_opt.step()\n",
    "        \n",
    "                        clsf_out = clsf(feat_ext(x))\n",
    "                        d_out = dscr(feat_ext(x))\n",
    "                        clsf_loss = loss_function(clsf_out, labels)\n",
    "                        dscr_loss = bce(d_out, domain)\n",
    "                        \n",
    "                        total_loss = clsf_loss -lamda*dscr_loss\n",
    "                        \n",
    "                        d_opt.zero_grad()\n",
    "                        c_opt.zero_grad()\n",
    "                        f_opt.zero_grad()\n",
    "                        \n",
    "                        total_loss.backward()\n",
    "                        f_opt.step()\n",
    "                        c_opt.step()\n",
    "                        \n",
    "                    val_loss = 0.0\n",
    "                    s_iterator = iter(vld_dataloader_s)\n",
    "                    t_iterator = iter(vld_dataloader_t)\n",
    "                    \n",
    "                    for _ in range(0, int(vld_batch_s/batch_size)+1):\n",
    "                        num_s, inputs_s, label_s, domain_s = next(s_iterator) # parse batch\n",
    "                        num_t, inputs_t, label_t, domain_t = next(t_iterator) # parse batch\n",
    "                        \n",
    "                        x = torch.cat([inputs_s, inputs_t], dim=0)\n",
    "                        labels = torch.cat([label_s, label_t], dim=0)\n",
    "                        domain = torch.cat([domain_s, domain_t], dim=0).unsqueeze(-1)\n",
    "                        d_out_val = dscr(feat_ext(x))\n",
    "                        dscr_loss_val = bce(d_out_val, domain)\n",
    "                        clsf_loss_val = loss_function(clsf(feat_ext(x)), labels)\n",
    "                        \n",
    "                        val_loss += clsf_loss_val -lamda*dscr_loss_val\n",
    "\n",
    "                    wandb.log({\"trn_loss\": total_loss, \"vld_loss\": val_loss})\n",
    "                    wandb.log({\"clsf_trn_loss\": clsf_loss, \"clsf_vld_loss\": clsf_loss_val})\n",
    "                    wandb.log({\"dscr_trn_loss\": dscr_loss, \"dscr_vld_loss\": dscr_loss_val})\n",
    "                    \n",
    "                    if val_loss.item() <= min(min_val_loss):\n",
    "                        torch.save({'epoch': ep,\n",
    "                                    'model_state_dict': feat_ext.state_dict(),\n",
    "                                    'optimizer_state_dict': f_opt.state_dict(),\n",
    "                                    'loss': total_loss}, init_path + 'model'+model_name_f+'_vld_loss_'+str(int(round(val_loss.item(),3)))+'.pth')\n",
    "                        \n",
    "                        torch.save({'epoch': ep,\n",
    "                                    'model_state_dict': clsf.state_dict(),\n",
    "                                    'optimizer_state_dict': c_opt.state_dict(),\n",
    "                                    'loss': clsf_loss}, init_path + 'model'+model_name_c+'_vld_loss_'+str(int(round(val_loss.item(),3)))+'.pth')\n",
    "                        \n",
    "                        torch.save({'epoch': ep,\n",
    "                                    'model_state_dict': dscr.state_dict(),\n",
    "                                    'optimizer_state_dict': d_opt.state_dict(),\n",
    "                                    'loss': dscr_loss}, init_path + 'model'+model_name_d+'_vld_loss_'+str(int(round(val_loss.item(),3)))+'.pth')\n",
    "    \n",
    "                        min_val_loss.append(round(val_loss.item(),3))\n",
    "\n",
    "                clear_folder(init_path,model_name_f,min(min_val_loss))\n",
    "                clear_folder(init_path,model_name_c,min(min_val_loss))\n",
    "                clear_folder(init_path,model_name_d,min(min_val_loss))\n",
    "                min_val_loss = [min(min_val_loss)]\n",
    "        \n",
    "            if epoch_step!=0:\n",
    "                \n",
    "                checkpoint_f = torch.load(init_path + 'model'+model_name_f+'_vld_loss_'+str(int(min_val_loss[0]))+'.pth')\n",
    "                feat_ext.load_state_dict(checkpoint_f['model_state_dict'])\n",
    "                f_opt.load_state_dict(checkpoint_f['optimizer_state_dict'])\n",
    "                last_best_epoch = checkpoint_f['epoch']\n",
    "                total_loss = checkpoint_f['loss']\n",
    "                feat_ext.train()\n",
    "            \n",
    "                checkpoint_c = torch.load(init_path + 'model'+model_name_c+'_vld_loss_'+str(int(min_val_loss[0]))+'.pth')\n",
    "                clsf.load_state_dict(checkpoint_c['model_state_dict'])\n",
    "                c_opt.load_state_dict(checkpoint_c['optimizer_state_dict'])\n",
    "                last_best_epoch = checkpoint_c['epoch']\n",
    "                clsf_loss = checkpoint_c['loss']\n",
    "                clsf.train()\n",
    "\n",
    "                checkpoint_d = torch.load(init_path + 'model'+model_name_d+'_vld_loss_'+str(int(min_val_loss[0]))+'.pth')\n",
    "                dscr.load_state_dict(checkpoint_d['model_state_dict'])\n",
    "                d_opt.load_state_dict(checkpoint_d['optimizer_state_dict'])\n",
    "                last_best_epoch = checkpoint_d['epoch']\n",
    "                dscr_loss = checkpoint_d['loss']\n",
    "                dscr.train()\n",
    "                \n",
    "                \n",
    "                if last_best_epoch + test_stop > ep:\n",
    "                    for ep in range(epoch_step, epoch_step+test_stop):\n",
    "                        s_iterator = iter(train_dataloader_s)\n",
    "                        t_iterator = iter(train_dataloader_t)\n",
    "\n",
    "                        for _ in range(0, int(trn_batch_s/batch_size)+1): # get bacth\n",
    "                            num_s, inputs_s, label_s, domain_s = next(s_iterator) # parse batch\n",
    "                            num_t, inputs_t, label_t, domain_t = next(t_iterator) # parse batch\n",
    "\n",
    "                            x = torch.cat([inputs_s, inputs_t], dim=0)\n",
    "                            labels = torch.cat([label_s, label_t], dim=0)\n",
    "                            domain = torch.cat([domain_s, domain_t], dim=0).unsqueeze(-1)\n",
    "\n",
    "                            d_opt.zero_grad()\n",
    "                            d_out = dscr(feat_ext(x))\n",
    "                            dscr_loss = bce(d_out, domain)\n",
    "                            dscr_loss.backward(retain_graph=True)\n",
    "                            d_opt.step()\n",
    "\n",
    "                            clsf_out = clsf(feat_ext(x))\n",
    "                            d_out = dscr(feat_ext(x))\n",
    "                            clsf_loss = loss_function(clsf_out, labels)\n",
    "                            dscr_loss = bce(d_out, domain)\n",
    "\n",
    "                            total_loss = clsf_loss -lamda*dscr_loss\n",
    "\n",
    "                            d_opt.zero_grad()\n",
    "                            c_opt.zero_grad()\n",
    "                            f_opt.zero_grad()\n",
    "\n",
    "                            total_loss.backward()\n",
    "                            f_opt.step()\n",
    "                            c_opt.step()\n",
    "                        \n",
    "                        val_loss = 0.0\n",
    "                        s_iterator = iter(vld_dataloader_s)\n",
    "                        t_iterator = iter(vld_dataloader_t)\n",
    "                        for _ in range(0, int(vld_batch_s/batch_size)+1):\n",
    "                            num_s, inputs_s, label_s, domain_s = next(s_iterator) # parse batch\n",
    "                            num_t, inputs_t, label_t, domain_t = next(t_iterator) # parse batch\n",
    "\n",
    "                            x = torch.cat([inputs_s, inputs_t], dim=0)\n",
    "                            labels = torch.cat([label_s, label_t], dim=0)\n",
    "                            domain = torch.cat([domain_s, domain_t], dim=0).unsqueeze(-1)\n",
    "                            d_out_val = dscr(feat_ext(x))\n",
    "\n",
    "                            dscr_loss_val = bce(d_out_val, domain)\n",
    "                            clsf_loss_val = loss_function(clsf(feat_ext(x)), labels)\n",
    "\n",
    "                            val_loss += clsf_loss_val - lamda*dscr_loss_val\n",
    "\n",
    "                        wandb.log({\"trn_loss\": total_loss, \"vld_loss\": val_loss})\n",
    "                        wandb.log({\"clsf_trn_loss\": clsf_loss, \"clsf_vld_loss\": clsf_loss_val})\n",
    "                        wandb.log({\"dscr_trn_loss\": dscr_loss, \"dscr_vld_loss\": dscr_loss_val})\n",
    "\n",
    "                        if val_loss.item() <= min(min_val_loss):\n",
    "                            torch.save({'epoch': ep,\n",
    "                                        'model_state_dict': feat_ext.state_dict(),\n",
    "                                        'optimizer_state_dict': f_opt.state_dict(),\n",
    "                                        'loss': total_loss}, init_path + 'model'+model_name_f+'_vld_loss_'+str(int(round(val_loss.item(),3)))+'.pth')\n",
    "\n",
    "                            torch.save({'epoch': ep,\n",
    "                                        'model_state_dict': clsf.state_dict(),\n",
    "                                        'optimizer_state_dict': c_opt.state_dict(),\n",
    "                                        'loss': clsf_loss}, init_path + 'model'+model_name_c+'_vld_loss_'+str(int(round(val_loss.item(),3)))+'.pth')\n",
    "\n",
    "                            torch.save({'epoch': ep,\n",
    "                                        'model_state_dict': dscr.state_dict(),\n",
    "                                        'optimizer_state_dict': d_opt.state_dict(),\n",
    "                                        'loss': dscr_loss}, init_path + 'model'+model_name_d+'_vld_loss_'+str(int(round(val_loss.item(),3)))+'.pth')\n",
    "\n",
    "                            min_val_loss.append(round(val_loss.item(),3))\n",
    "\n",
    "                    clear_folder(init_path,model_name_f,min(min_val_loss))\n",
    "                    clear_folder(init_path,model_name_c,min(min_val_loss))\n",
    "                    clear_folder(init_path,model_name_d,min(min_val_loss))\n",
    "                    min_val_loss = [min(min_val_loss)]\n",
    "                \n",
    "                else: continue \n",
    "                        \n",
    "                        \n",
    "        wandb.finish()\n",
    "\n",
    "        write_predictions_DANN(feat_ext, clsf, dscr, param, init_path, min_val_loss[0], train_dataloader_s, outs_num, dset = 'trn', dm='s')\n",
    "        write_predictions_DANN(feat_ext, clsf, dscr, param, init_path, min_val_loss[0], vld_dataloader_s, outs_num, dset = 'vld', dm='s')\n",
    "        write_predictions_DANN(feat_ext, clsf, dscr, param, init_path, min_val_loss[0], test_dataloader_s, outs_num, dset = 'tst', dm='s')\n",
    "\n",
    "        write_predictions_DANN(feat_ext, clsf, dscr, param, init_path, min_val_loss[0], train_dataloader_t, outs_num, dset = 'trn', dm='d')\n",
    "        write_predictions_DANN(feat_ext, clsf, dscr, param, init_path, min_val_loss[0], vld_dataloader_t, outs_num, dset = 'vld', dm='d')\n",
    "        write_predictions_DANN(feat_ext, clsf, dscr, param, init_path, min_val_loss[0], test_dataloader_t, outs_num, dset = 'tst', dm='d')"
   ]
  },
  {
   "cell_type": "code",
   "execution_count": null,
   "id": "7f98e705",
   "metadata": {},
   "outputs": [],
   "source": []
  }
 ],
 "metadata": {
  "kernelspec": {
   "display_name": "Python 3",
   "language": "python",
   "name": "python3"
  },
  "language_info": {
   "codemirror_mode": {
    "name": "ipython",
    "version": 3
   },
   "file_extension": ".py",
   "mimetype": "text/x-python",
   "name": "python",
   "nbconvert_exporter": "python",
   "pygments_lexer": "ipython3",
   "version": "3.8.8"
  }
 },
 "nbformat": 4,
 "nbformat_minor": 5
}
